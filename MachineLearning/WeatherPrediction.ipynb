{
 "cells": [
  {
   "cell_type": "markdown",
   "id": "6fffc3d0-c30a-4f0e-9bf1-57329fbe4b9a",
   "metadata": {},
   "source": [
    "# Predicting precipitations in Lake Tahoe\n",
    "\n",
    "Data can be downloaded from [NOAA](https://www.ncei.noaa.gov/access/search/data-search/global-hourly):\n",
    "- Location: South Lake Tahoe Airport <br />\n",
    "- Date Range: 2023/01/01 - 2023/12/31\n",
    "\n",
    "The [data documentation](https://www.ncei.noaa.gov/data/global-hourly/doc/isd-format-document.pdf) is somewhat scarce."
   ]
  },
  {
   "cell_type": "markdown",
   "id": "69aabec2-a9fa-4051-933c-449431335471",
   "metadata": {},
   "source": [
    "## EDA"
   ]
  },
  {
   "cell_type": "code",
   "execution_count": 1,
   "id": "1328a965-d071-4ec7-a1b5-2ba75b02dc28",
   "metadata": {},
   "outputs": [],
   "source": [
    "import numpy as np\n",
    "import pandas as pd\n",
    "import matplotlib.pyplot as plt"
   ]
  },
  {
   "cell_type": "code",
   "execution_count": 2,
   "id": "cb51b52d-16a7-4e96-85b4-1ab01d13017c",
   "metadata": {},
   "outputs": [],
   "source": [
    "df = pd.read_csv('NonUploadedData/72584793230.csv', low_memory=False)"
   ]
  },
  {
   "cell_type": "code",
   "execution_count": 3,
   "id": "5f8c399d-7630-413b-bd8c-828f596f7ffd",
   "metadata": {},
   "outputs": [
    {
     "data": {
      "text/html": [
       "<div>\n",
       "<style scoped>\n",
       "    .dataframe tbody tr th:only-of-type {\n",
       "        vertical-align: middle;\n",
       "    }\n",
       "\n",
       "    .dataframe tbody tr th {\n",
       "        vertical-align: top;\n",
       "    }\n",
       "\n",
       "    .dataframe thead th {\n",
       "        text-align: right;\n",
       "    }\n",
       "</style>\n",
       "<table border=\"1\" class=\"dataframe\">\n",
       "  <thead>\n",
       "    <tr style=\"text-align: right;\">\n",
       "      <th></th>\n",
       "      <th>STATION</th>\n",
       "      <th>DATE</th>\n",
       "      <th>SOURCE</th>\n",
       "      <th>LATITUDE</th>\n",
       "      <th>LONGITUDE</th>\n",
       "      <th>ELEVATION</th>\n",
       "      <th>NAME</th>\n",
       "      <th>REPORT_TYPE</th>\n",
       "      <th>CALL_SIGN</th>\n",
       "      <th>QUALITY_CONTROL</th>\n",
       "      <th>...</th>\n",
       "      <th>OD1</th>\n",
       "      <th>OE1</th>\n",
       "      <th>OE2</th>\n",
       "      <th>OE3</th>\n",
       "      <th>RH1</th>\n",
       "      <th>RH2</th>\n",
       "      <th>RH3</th>\n",
       "      <th>WA1</th>\n",
       "      <th>REM</th>\n",
       "      <th>EQD</th>\n",
       "    </tr>\n",
       "  </thead>\n",
       "  <tbody>\n",
       "    <tr>\n",
       "      <th>0</th>\n",
       "      <td>72584793230</td>\n",
       "      <td>2023-01-01T00:22:00</td>\n",
       "      <td>6</td>\n",
       "      <td>38.89838</td>\n",
       "      <td>-119.99617</td>\n",
       "      <td>1907.0</td>\n",
       "      <td>SOUTH LAKE TAHOE AIRPORT, CA US</td>\n",
       "      <td>FM-16</td>\n",
       "      <td>KTVL</td>\n",
       "      <td>V030</td>\n",
       "      <td>...</td>\n",
       "      <td>NaN</td>\n",
       "      <td>NaN</td>\n",
       "      <td>NaN</td>\n",
       "      <td>NaN</td>\n",
       "      <td>NaN</td>\n",
       "      <td>NaN</td>\n",
       "      <td>NaN</td>\n",
       "      <td>NaN</td>\n",
       "      <td>MET10712/31/22 16:22:03 SPECI KTVL 010022Z    ...</td>\n",
       "      <td>R01      7SKY009R02      7GAS009</td>\n",
       "    </tr>\n",
       "    <tr>\n",
       "      <th>1</th>\n",
       "      <td>72584793230</td>\n",
       "      <td>2023-01-01T05:51:00</td>\n",
       "      <td>6</td>\n",
       "      <td>38.89838</td>\n",
       "      <td>-119.99617</td>\n",
       "      <td>1907.0</td>\n",
       "      <td>SOUTH LAKE TAHOE AIRPORT, CA US</td>\n",
       "      <td>FM-16</td>\n",
       "      <td>KTVL</td>\n",
       "      <td>V030</td>\n",
       "      <td>...</td>\n",
       "      <td>NaN</td>\n",
       "      <td>NaN</td>\n",
       "      <td>NaN</td>\n",
       "      <td>NaN</td>\n",
       "      <td>NaN</td>\n",
       "      <td>NaN</td>\n",
       "      <td>NaN</td>\n",
       "      <td>NaN</td>\n",
       "      <td>MET10312/31/22 21:51:03 SPECI KTVL 010551Z VRB...</td>\n",
       "      <td>R01      7SKY009R02      7GAS009</td>\n",
       "    </tr>\n",
       "    <tr>\n",
       "      <th>2</th>\n",
       "      <td>72584793230</td>\n",
       "      <td>2023-01-01T05:53:00</td>\n",
       "      <td>7</td>\n",
       "      <td>38.89838</td>\n",
       "      <td>-119.99617</td>\n",
       "      <td>1907.0</td>\n",
       "      <td>SOUTH LAKE TAHOE AIRPORT, CA US</td>\n",
       "      <td>FM-15</td>\n",
       "      <td>KTVL</td>\n",
       "      <td>V030</td>\n",
       "      <td>...</td>\n",
       "      <td>NaN</td>\n",
       "      <td>NaN</td>\n",
       "      <td>NaN</td>\n",
       "      <td>NaN</td>\n",
       "      <td>NaN</td>\n",
       "      <td>NaN</td>\n",
       "      <td>NaN</td>\n",
       "      <td>NaN</td>\n",
       "      <td>MET12012/31/22 21:53:03 METAR KTVL 010553Z VRB...</td>\n",
       "      <td>R01      7SKY009R02      7GAS009</td>\n",
       "    </tr>\n",
       "    <tr>\n",
       "      <th>3</th>\n",
       "      <td>72584793230</td>\n",
       "      <td>2023-01-01T06:12:00</td>\n",
       "      <td>7</td>\n",
       "      <td>38.89838</td>\n",
       "      <td>-119.99617</td>\n",
       "      <td>1907.0</td>\n",
       "      <td>SOUTH LAKE TAHOE AIRPORT, CA US</td>\n",
       "      <td>FM-16</td>\n",
       "      <td>KTVL</td>\n",
       "      <td>V030</td>\n",
       "      <td>...</td>\n",
       "      <td>NaN</td>\n",
       "      <td>NaN</td>\n",
       "      <td>NaN</td>\n",
       "      <td>NaN</td>\n",
       "      <td>NaN</td>\n",
       "      <td>NaN</td>\n",
       "      <td>NaN</td>\n",
       "      <td>NaN</td>\n",
       "      <td>MET10312/31/22 22:12:03 SPECI KTVL 010612Z 000...</td>\n",
       "      <td>R01      7SKY009R02      7GAS009</td>\n",
       "    </tr>\n",
       "    <tr>\n",
       "      <th>4</th>\n",
       "      <td>72584793230</td>\n",
       "      <td>2023-01-01T06:27:00</td>\n",
       "      <td>7</td>\n",
       "      <td>38.89838</td>\n",
       "      <td>-119.99617</td>\n",
       "      <td>1907.0</td>\n",
       "      <td>SOUTH LAKE TAHOE AIRPORT, CA US</td>\n",
       "      <td>FM-16</td>\n",
       "      <td>KTVL</td>\n",
       "      <td>V030</td>\n",
       "      <td>...</td>\n",
       "      <td>NaN</td>\n",
       "      <td>NaN</td>\n",
       "      <td>NaN</td>\n",
       "      <td>NaN</td>\n",
       "      <td>NaN</td>\n",
       "      <td>NaN</td>\n",
       "      <td>NaN</td>\n",
       "      <td>NaN</td>\n",
       "      <td>MET10512/31/22 22:27:03 SPECI KTVL 010627Z VRB...</td>\n",
       "      <td>R01      7SKY009R02      7GAS009</td>\n",
       "    </tr>\n",
       "  </tbody>\n",
       "</table>\n",
       "<p>5 rows × 89 columns</p>\n",
       "</div>"
      ],
      "text/plain": [
       "       STATION                 DATE  SOURCE  LATITUDE  LONGITUDE  ELEVATION  \\\n",
       "0  72584793230  2023-01-01T00:22:00       6  38.89838 -119.99617     1907.0   \n",
       "1  72584793230  2023-01-01T05:51:00       6  38.89838 -119.99617     1907.0   \n",
       "2  72584793230  2023-01-01T05:53:00       7  38.89838 -119.99617     1907.0   \n",
       "3  72584793230  2023-01-01T06:12:00       7  38.89838 -119.99617     1907.0   \n",
       "4  72584793230  2023-01-01T06:27:00       7  38.89838 -119.99617     1907.0   \n",
       "\n",
       "                              NAME REPORT_TYPE CALL_SIGN QUALITY_CONTROL  ...  \\\n",
       "0  SOUTH LAKE TAHOE AIRPORT, CA US       FM-16     KTVL             V030  ...   \n",
       "1  SOUTH LAKE TAHOE AIRPORT, CA US       FM-16     KTVL             V030  ...   \n",
       "2  SOUTH LAKE TAHOE AIRPORT, CA US       FM-15     KTVL             V030  ...   \n",
       "3  SOUTH LAKE TAHOE AIRPORT, CA US       FM-16     KTVL             V030  ...   \n",
       "4  SOUTH LAKE TAHOE AIRPORT, CA US       FM-16     KTVL             V030  ...   \n",
       "\n",
       "   OD1  OE1  OE2  OE3  RH1  RH2  RH3  WA1  \\\n",
       "0  NaN  NaN  NaN  NaN  NaN  NaN  NaN  NaN   \n",
       "1  NaN  NaN  NaN  NaN  NaN  NaN  NaN  NaN   \n",
       "2  NaN  NaN  NaN  NaN  NaN  NaN  NaN  NaN   \n",
       "3  NaN  NaN  NaN  NaN  NaN  NaN  NaN  NaN   \n",
       "4  NaN  NaN  NaN  NaN  NaN  NaN  NaN  NaN   \n",
       "\n",
       "                                                 REM  \\\n",
       "0  MET10712/31/22 16:22:03 SPECI KTVL 010022Z    ...   \n",
       "1  MET10312/31/22 21:51:03 SPECI KTVL 010551Z VRB...   \n",
       "2  MET12012/31/22 21:53:03 METAR KTVL 010553Z VRB...   \n",
       "3  MET10312/31/22 22:12:03 SPECI KTVL 010612Z 000...   \n",
       "4  MET10512/31/22 22:27:03 SPECI KTVL 010627Z VRB...   \n",
       "\n",
       "                                EQD  \n",
       "0  R01      7SKY009R02      7GAS009  \n",
       "1  R01      7SKY009R02      7GAS009  \n",
       "2  R01      7SKY009R02      7GAS009  \n",
       "3  R01      7SKY009R02      7GAS009  \n",
       "4  R01      7SKY009R02      7GAS009  \n",
       "\n",
       "[5 rows x 89 columns]"
      ]
     },
     "execution_count": 3,
     "metadata": {},
     "output_type": "execute_result"
    }
   ],
   "source": [
    "df.head()"
   ]
  },
  {
   "cell_type": "markdown",
   "id": "3db62693-daf7-4387-97db-2976dba85768",
   "metadata": {},
   "source": [
    "There are too many columns. Let's see which ones are useful:"
   ]
  },
  {
   "cell_type": "code",
   "execution_count": 4,
   "id": "b7c37679-0652-465b-8db1-8091e0ca4996",
   "metadata": {},
   "outputs": [
    {
     "data": {
      "text/plain": [
       "Index(['STATION', 'DATE', 'SOURCE', 'LATITUDE', 'LONGITUDE', 'ELEVATION',\n",
       "       'NAME', 'REPORT_TYPE', 'CALL_SIGN', 'QUALITY_CONTROL', 'WND', 'CIG',\n",
       "       'VIS', 'TMP', 'DEW', 'SLP', 'AA1', 'AA2', 'AA3', 'AB1', 'AD1', 'AE1',\n",
       "       'AH1', 'AH2', 'AH3', 'AH4', 'AH5', 'AH6', 'AI1', 'AI2', 'AI3', 'AI4',\n",
       "       'AI5', 'AI6', 'AT1', 'AT2', 'AT3', 'AT4', 'AT5', 'AT6', 'AU1', 'AU2',\n",
       "       'AU3', 'AW1', 'AW2', 'AW3', 'AW4', 'AX1', 'AX2', 'AX3', 'GA1', 'GA2',\n",
       "       'GA3', 'GD1', 'GD2', 'GD3', 'GE1', 'GF1', 'KA1', 'KA2', 'KB1', 'KB2',\n",
       "       'KB3', 'KC1', 'KC2', 'KD1', 'KD2', 'KE1', 'KG1', 'KG2', 'MA1', 'MD1',\n",
       "       'MF1', 'MG1', 'MH1', 'MK1', 'MV1', 'MW1', 'OC1', 'OD1', 'OE1', 'OE2',\n",
       "       'OE3', 'RH1', 'RH2', 'RH3', 'WA1', 'REM', 'EQD'],\n",
       "      dtype='object')"
      ]
     },
     "execution_count": 4,
     "metadata": {},
     "output_type": "execute_result"
    }
   ],
   "source": [
    "df.columns"
   ]
  },
  {
   "cell_type": "markdown",
   "id": "6d54c997-f97b-445d-8681-9a8b3a8cad99",
   "metadata": {},
   "source": [
    "make 'DATE' the index"
   ]
  },
  {
   "cell_type": "code",
   "execution_count": 5,
   "id": "13c70d77-9ba5-46c2-aba6-d90aec75c799",
   "metadata": {},
   "outputs": [],
   "source": [
    "df['DATE'] = pd.to_datetime(df['DATE'])\n",
    "df.set_index('DATE', inplace=True)"
   ]
  },
  {
   "cell_type": "markdown",
   "id": "a5a12c9d-9bed-4c73-87d6-1c25b60f6ffe",
   "metadata": {},
   "source": [
    "We are going to keep:\n",
    "* WND: wind\n",
    "* TMP: air temperature\n",
    "* DEW: dew point temperature\n",
    "* SLP: atmospheric pressure\n",
    "* AA1: precipitation\n",
    "* AT1: weather observation\n",
    "* RH1: relative humidity"
   ]
  },
  {
   "cell_type": "code",
   "execution_count": 6,
   "id": "9be7b3ad-775b-422c-a981-f13fadafab27",
   "metadata": {},
   "outputs": [
    {
     "data": {
      "text/html": [
       "<div>\n",
       "<style scoped>\n",
       "    .dataframe tbody tr th:only-of-type {\n",
       "        vertical-align: middle;\n",
       "    }\n",
       "\n",
       "    .dataframe tbody tr th {\n",
       "        vertical-align: top;\n",
       "    }\n",
       "\n",
       "    .dataframe thead th {\n",
       "        text-align: right;\n",
       "    }\n",
       "</style>\n",
       "<table border=\"1\" class=\"dataframe\">\n",
       "  <thead>\n",
       "    <tr style=\"text-align: right;\">\n",
       "      <th></th>\n",
       "      <th>WND</th>\n",
       "      <th>TMP</th>\n",
       "      <th>DEW</th>\n",
       "      <th>SLP</th>\n",
       "      <th>AA1</th>\n",
       "      <th>AT1</th>\n",
       "      <th>RH1</th>\n",
       "    </tr>\n",
       "    <tr>\n",
       "      <th>DATE</th>\n",
       "      <th></th>\n",
       "      <th></th>\n",
       "      <th></th>\n",
       "      <th></th>\n",
       "      <th></th>\n",
       "      <th></th>\n",
       "      <th></th>\n",
       "    </tr>\n",
       "  </thead>\n",
       "  <tbody>\n",
       "    <tr>\n",
       "      <th>2023-01-01 00:22:00</th>\n",
       "      <td>999,9,9,9999,9</td>\n",
       "      <td>+0000,5</td>\n",
       "      <td>-0006,5</td>\n",
       "      <td>99999,9</td>\n",
       "      <td>NaN</td>\n",
       "      <td>NaN</td>\n",
       "      <td>NaN</td>\n",
       "    </tr>\n",
       "    <tr>\n",
       "      <th>2023-01-01 05:51:00</th>\n",
       "      <td>999,9,V,0031,5</td>\n",
       "      <td>-0020,5</td>\n",
       "      <td>-0030,5</td>\n",
       "      <td>99999,9</td>\n",
       "      <td>NaN</td>\n",
       "      <td>NaN</td>\n",
       "      <td>NaN</td>\n",
       "    </tr>\n",
       "    <tr>\n",
       "      <th>2023-01-01 05:53:00</th>\n",
       "      <td>999,9,V,0021,5</td>\n",
       "      <td>-0017,5</td>\n",
       "      <td>-0028,5</td>\n",
       "      <td>10039,5</td>\n",
       "      <td>01,0025,9,5</td>\n",
       "      <td>NaN</td>\n",
       "      <td>NaN</td>\n",
       "    </tr>\n",
       "    <tr>\n",
       "      <th>2023-01-01 06:12:00</th>\n",
       "      <td>999,9,C,0000,5</td>\n",
       "      <td>-0017,5</td>\n",
       "      <td>-0022,5</td>\n",
       "      <td>99999,9</td>\n",
       "      <td>01,0066,3,1</td>\n",
       "      <td>NaN</td>\n",
       "      <td>NaN</td>\n",
       "    </tr>\n",
       "    <tr>\n",
       "      <th>2023-01-01 06:27:00</th>\n",
       "      <td>999,9,V,0015,5</td>\n",
       "      <td>-0017,5</td>\n",
       "      <td>-0028,5</td>\n",
       "      <td>99999,9</td>\n",
       "      <td>01,0109,3,1</td>\n",
       "      <td>NaN</td>\n",
       "      <td>NaN</td>\n",
       "    </tr>\n",
       "  </tbody>\n",
       "</table>\n",
       "</div>"
      ],
      "text/plain": [
       "                                WND      TMP      DEW      SLP          AA1  \\\n",
       "DATE                                                                          \n",
       "2023-01-01 00:22:00  999,9,9,9999,9  +0000,5  -0006,5  99999,9          NaN   \n",
       "2023-01-01 05:51:00  999,9,V,0031,5  -0020,5  -0030,5  99999,9          NaN   \n",
       "2023-01-01 05:53:00  999,9,V,0021,5  -0017,5  -0028,5  10039,5  01,0025,9,5   \n",
       "2023-01-01 06:12:00  999,9,C,0000,5  -0017,5  -0022,5  99999,9  01,0066,3,1   \n",
       "2023-01-01 06:27:00  999,9,V,0015,5  -0017,5  -0028,5  99999,9  01,0109,3,1   \n",
       "\n",
       "                     AT1  RH1  \n",
       "DATE                           \n",
       "2023-01-01 00:22:00  NaN  NaN  \n",
       "2023-01-01 05:51:00  NaN  NaN  \n",
       "2023-01-01 05:53:00  NaN  NaN  \n",
       "2023-01-01 06:12:00  NaN  NaN  \n",
       "2023-01-01 06:27:00  NaN  NaN  "
      ]
     },
     "execution_count": 6,
     "metadata": {},
     "output_type": "execute_result"
    }
   ],
   "source": [
    "columns_to_keep = [\n",
    "    'WND', 'TMP', 'DEW', 'SLP', 'AA1', 'AT1', 'RH1']\n",
    "df = df[columns_to_keep]\n",
    "df.head()"
   ]
  },
  {
   "cell_type": "markdown",
   "id": "bd238eea-486b-403f-80ac-4001ea6ca8a1",
   "metadata": {},
   "source": [
    "Now, some of these columns are subdivided into comma-separated subcolumns. <br />\n",
    "Here are listed the subcolumns that we are keeping:\n",
    "* WND: subcolumn 3: speed rate. Units: meters per second. Scaling factor of 10.\n",
    "* TMP: subcolumn 0: air temperature. Units: Deg. Celsius. Scaling factor of 10.\n",
    "* DEW: subcolumn 0: dew point temperature. Units: Deg. Celsius. Scaling factor of 10. \n",
    "* SLP: subcolumn 0: sea level pressure. Units: HectoPa. Scaling factor of 10.\n",
    "* AA1: subcolumn 1: depth dimension. Units: milimeters. Scaling factor of 10.\n",
    "* AT1: subcolumn 1: weather type. It is a numeric core denoting the type of daily weather.\n",
    "* RH1: subcolumn 2: percentage. Units: percentage. No scaling factor.\n",
    "\n",
    "999 or 9999 means missing data."
   ]
  },
  {
   "cell_type": "code",
   "execution_count": 7,
   "id": "eabb94cc-067d-4e9f-b337-cdf3d411e887",
   "metadata": {},
   "outputs": [],
   "source": [
    "df['WND'] = df['WND'].str.split(',', expand=True)[3]\n",
    "df['WND'] = pd.to_numeric(df['WND'], errors='coerce')  # If ‘coerce’, then invalid parsing will be set as NaN"
   ]
  },
  {
   "cell_type": "code",
   "execution_count": 8,
   "id": "1387bec4-e486-447e-9e65-424d12d93d53",
   "metadata": {},
   "outputs": [],
   "source": [
    "df['TMP'] = df['TMP'].str.split(',', expand=True)[0]\n",
    "df['TMP'] = pd.to_numeric(df['TMP'], errors='coerce')  # If ‘coerce’, then invalid parsing will be set as NaN"
   ]
  },
  {
   "cell_type": "code",
   "execution_count": 9,
   "id": "a3018d82-65d7-494b-8721-6c1dc7a92a11",
   "metadata": {},
   "outputs": [],
   "source": [
    "df['DEW'] = df['DEW'].str.split(',', expand=True)[0]\n",
    "df['DEW'] = pd.to_numeric(df['DEW'], errors='coerce')  # If ‘coerce’, then invalid parsing will be set as NaN"
   ]
  },
  {
   "cell_type": "code",
   "execution_count": 10,
   "id": "0953ae3e-d57c-4721-b7d2-b97a7f9c9785",
   "metadata": {},
   "outputs": [],
   "source": [
    "df['SLP'] = df['SLP'].str.split(',', expand=True)[0]\n",
    "df['SLP'] = pd.to_numeric(df['SLP'], errors='coerce')  # If ‘coerce’, then invalid parsing will be set as NaN"
   ]
  },
  {
   "cell_type": "code",
   "execution_count": 11,
   "id": "46eabb32-36a9-4e58-84d0-c5ebae23d445",
   "metadata": {},
   "outputs": [],
   "source": [
    "df['AA1'] = df['AA1'].str.split(',', expand=True)[1]\n",
    "df['AA1'] = pd.to_numeric(df['AA1'], errors='coerce')  # If ‘coerce’, then invalid parsing will be set as NaN"
   ]
  },
  {
   "cell_type": "code",
   "execution_count": 12,
   "id": "bd56e692-1e6c-4cea-9cc8-41fe5d2c8660",
   "metadata": {},
   "outputs": [],
   "source": [
    "df['AT1'] = df['AT1'].str.split(',', expand=True)[1]\n",
    "df['AT1'] = pd.to_numeric(df['AT1'], errors='coerce')  # If ‘coerce’, then invalid parsing will be set as NaN"
   ]
  },
  {
   "cell_type": "code",
   "execution_count": 13,
   "id": "2794ae86-3b47-4dbb-8316-1d0de9a702fc",
   "metadata": {},
   "outputs": [],
   "source": [
    "df['RH1'] = df['RH1'].str.split(',', expand=True)[2]\n",
    "df['RH1'] = pd.to_numeric(df['RH1'], errors='coerce')  # If ‘coerce’, then invalid parsing will be set as NaN"
   ]
  },
  {
   "cell_type": "code",
   "execution_count": 14,
   "id": "4f0a6099-7fd8-4581-b866-e8b20b09883e",
   "metadata": {},
   "outputs": [
    {
     "data": {
      "text/html": [
       "<div>\n",
       "<style scoped>\n",
       "    .dataframe tbody tr th:only-of-type {\n",
       "        vertical-align: middle;\n",
       "    }\n",
       "\n",
       "    .dataframe tbody tr th {\n",
       "        vertical-align: top;\n",
       "    }\n",
       "\n",
       "    .dataframe thead th {\n",
       "        text-align: right;\n",
       "    }\n",
       "</style>\n",
       "<table border=\"1\" class=\"dataframe\">\n",
       "  <thead>\n",
       "    <tr style=\"text-align: right;\">\n",
       "      <th></th>\n",
       "      <th>WND</th>\n",
       "      <th>TMP</th>\n",
       "      <th>DEW</th>\n",
       "      <th>SLP</th>\n",
       "      <th>AA1</th>\n",
       "      <th>AT1</th>\n",
       "      <th>RH1</th>\n",
       "    </tr>\n",
       "    <tr>\n",
       "      <th>DATE</th>\n",
       "      <th></th>\n",
       "      <th></th>\n",
       "      <th></th>\n",
       "      <th></th>\n",
       "      <th></th>\n",
       "      <th></th>\n",
       "      <th></th>\n",
       "    </tr>\n",
       "  </thead>\n",
       "  <tbody>\n",
       "    <tr>\n",
       "      <th>2023-01-01 00:22:00</th>\n",
       "      <td>9999</td>\n",
       "      <td>0</td>\n",
       "      <td>-6</td>\n",
       "      <td>99999</td>\n",
       "      <td>NaN</td>\n",
       "      <td>NaN</td>\n",
       "      <td>NaN</td>\n",
       "    </tr>\n",
       "    <tr>\n",
       "      <th>2023-01-01 05:51:00</th>\n",
       "      <td>31</td>\n",
       "      <td>-20</td>\n",
       "      <td>-30</td>\n",
       "      <td>99999</td>\n",
       "      <td>NaN</td>\n",
       "      <td>NaN</td>\n",
       "      <td>NaN</td>\n",
       "    </tr>\n",
       "    <tr>\n",
       "      <th>2023-01-01 05:53:00</th>\n",
       "      <td>21</td>\n",
       "      <td>-17</td>\n",
       "      <td>-28</td>\n",
       "      <td>10039</td>\n",
       "      <td>25.0</td>\n",
       "      <td>NaN</td>\n",
       "      <td>NaN</td>\n",
       "    </tr>\n",
       "    <tr>\n",
       "      <th>2023-01-01 06:12:00</th>\n",
       "      <td>0</td>\n",
       "      <td>-17</td>\n",
       "      <td>-22</td>\n",
       "      <td>99999</td>\n",
       "      <td>66.0</td>\n",
       "      <td>NaN</td>\n",
       "      <td>NaN</td>\n",
       "    </tr>\n",
       "    <tr>\n",
       "      <th>2023-01-01 06:27:00</th>\n",
       "      <td>15</td>\n",
       "      <td>-17</td>\n",
       "      <td>-28</td>\n",
       "      <td>99999</td>\n",
       "      <td>109.0</td>\n",
       "      <td>NaN</td>\n",
       "      <td>NaN</td>\n",
       "    </tr>\n",
       "  </tbody>\n",
       "</table>\n",
       "</div>"
      ],
      "text/plain": [
       "                      WND  TMP  DEW    SLP    AA1  AT1  RH1\n",
       "DATE                                                       \n",
       "2023-01-01 00:22:00  9999    0   -6  99999    NaN  NaN  NaN\n",
       "2023-01-01 05:51:00    31  -20  -30  99999    NaN  NaN  NaN\n",
       "2023-01-01 05:53:00    21  -17  -28  10039   25.0  NaN  NaN\n",
       "2023-01-01 06:12:00     0  -17  -22  99999   66.0  NaN  NaN\n",
       "2023-01-01 06:27:00    15  -17  -28  99999  109.0  NaN  NaN"
      ]
     },
     "execution_count": 14,
     "metadata": {},
     "output_type": "execute_result"
    }
   ],
   "source": [
    "df.head()"
   ]
  },
  {
   "cell_type": "code",
   "execution_count": 15,
   "id": "e427f919-6f7a-4a42-9dc8-c1e55fe4a2e1",
   "metadata": {},
   "outputs": [
    {
     "data": {
      "text/plain": [
       "WND     9999.0\n",
       "TMP     9999.0\n",
       "DEW     9999.0\n",
       "SLP    99999.0\n",
       "AA1     9999.0\n",
       "AT1       22.0\n",
       "RH1      100.0\n",
       "dtype: float64"
      ]
     },
     "execution_count": 15,
     "metadata": {},
     "output_type": "execute_result"
    }
   ],
   "source": [
    "df.max()"
   ]
  },
  {
   "cell_type": "markdown",
   "id": "0a5e870b-aa73-49a6-a527-409f71f3e6dc",
   "metadata": {},
   "source": [
    "Now we have a combination of NaN and 9999 values.\n",
    "Let's convert the 9999 values into NaN."
   ]
  },
  {
   "cell_type": "code",
   "execution_count": 16,
   "id": "2ec855be-c651-48d0-ab60-6254daa8e607",
   "metadata": {},
   "outputs": [],
   "source": [
    "# Convert 9999 to NaN\n",
    "df.loc[df['WND'] >= 9999, 'WND'] = np.nan\n",
    "df.loc[df['TMP'] >= 9999, 'TMP'] = np.nan\n",
    "df.loc[df['DEW'] >= 9999, 'DEW'] = np.nan\n",
    "df.loc[df['SLP'] >= 99999, 'SLP'] = np.nan\n",
    "df.loc[df['AA1'] >= 9999, 'AA1'] = np.nan\n",
    "df.loc[df['RH1'] >= 999, 'RH1'] = np.nan"
   ]
  },
  {
   "cell_type": "code",
   "execution_count": 17,
   "id": "11f5a31e-1d50-416d-b98d-2af337c224c7",
   "metadata": {},
   "outputs": [
    {
     "data": {
      "text/plain": [
       "WND      144.0\n",
       "TMP      333.0\n",
       "DEW      150.0\n",
       "SLP    10396.0\n",
       "AA1     1226.0\n",
       "AT1       22.0\n",
       "RH1      100.0\n",
       "dtype: float64"
      ]
     },
     "execution_count": 17,
     "metadata": {},
     "output_type": "execute_result"
    }
   ],
   "source": [
    "df.max()"
   ]
  },
  {
   "cell_type": "markdown",
   "id": "9f1c881a-8c45-4deb-aabe-6045730ca850",
   "metadata": {},
   "source": [
    "Remove scaling factor."
   ]
  },
  {
   "cell_type": "code",
   "execution_count": 18,
   "id": "d665fefe-eab6-4e40-aca6-4e1bee55bb23",
   "metadata": {},
   "outputs": [],
   "source": [
    "df[['WND', 'TMP', 'DEW', 'SLP', 'AA1']] = df[['WND', 'TMP', 'DEW', 'SLP', 'AA1']]/10"
   ]
  },
  {
   "cell_type": "code",
   "execution_count": 19,
   "id": "f04e5539-75fe-46c8-be18-ac0bfdafab23",
   "metadata": {},
   "outputs": [
    {
     "data": {
      "text/plain": [
       "WND      14.4\n",
       "TMP      33.3\n",
       "DEW      15.0\n",
       "SLP    1039.6\n",
       "AA1     122.6\n",
       "AT1      22.0\n",
       "RH1     100.0\n",
       "dtype: float64"
      ]
     },
     "execution_count": 19,
     "metadata": {},
     "output_type": "execute_result"
    }
   ],
   "source": [
    "df.max()"
   ]
  },
  {
   "cell_type": "code",
   "execution_count": 20,
   "id": "6a966415-003e-474d-8f7b-ffb69491c097",
   "metadata": {},
   "outputs": [
    {
     "data": {
      "text/html": [
       "<div>\n",
       "<style scoped>\n",
       "    .dataframe tbody tr th:only-of-type {\n",
       "        vertical-align: middle;\n",
       "    }\n",
       "\n",
       "    .dataframe tbody tr th {\n",
       "        vertical-align: top;\n",
       "    }\n",
       "\n",
       "    .dataframe thead th {\n",
       "        text-align: right;\n",
       "    }\n",
       "</style>\n",
       "<table border=\"1\" class=\"dataframe\">\n",
       "  <thead>\n",
       "    <tr style=\"text-align: right;\">\n",
       "      <th></th>\n",
       "      <th>WND</th>\n",
       "      <th>TMP</th>\n",
       "      <th>DEW</th>\n",
       "      <th>SLP</th>\n",
       "      <th>AA1</th>\n",
       "      <th>AT1</th>\n",
       "      <th>RH1</th>\n",
       "    </tr>\n",
       "    <tr>\n",
       "      <th>DATE</th>\n",
       "      <th></th>\n",
       "      <th></th>\n",
       "      <th></th>\n",
       "      <th></th>\n",
       "      <th></th>\n",
       "      <th></th>\n",
       "      <th></th>\n",
       "    </tr>\n",
       "  </thead>\n",
       "  <tbody>\n",
       "    <tr>\n",
       "      <th>2023-01-01 00:22:00</th>\n",
       "      <td>NaN</td>\n",
       "      <td>0.0</td>\n",
       "      <td>-0.6</td>\n",
       "      <td>NaN</td>\n",
       "      <td>NaN</td>\n",
       "      <td>NaN</td>\n",
       "      <td>NaN</td>\n",
       "    </tr>\n",
       "    <tr>\n",
       "      <th>2023-01-01 05:51:00</th>\n",
       "      <td>3.1</td>\n",
       "      <td>-2.0</td>\n",
       "      <td>-3.0</td>\n",
       "      <td>NaN</td>\n",
       "      <td>NaN</td>\n",
       "      <td>NaN</td>\n",
       "      <td>NaN</td>\n",
       "    </tr>\n",
       "    <tr>\n",
       "      <th>2023-01-01 05:53:00</th>\n",
       "      <td>2.1</td>\n",
       "      <td>-1.7</td>\n",
       "      <td>-2.8</td>\n",
       "      <td>1003.9</td>\n",
       "      <td>2.5</td>\n",
       "      <td>NaN</td>\n",
       "      <td>NaN</td>\n",
       "    </tr>\n",
       "    <tr>\n",
       "      <th>2023-01-01 06:12:00</th>\n",
       "      <td>0.0</td>\n",
       "      <td>-1.7</td>\n",
       "      <td>-2.2</td>\n",
       "      <td>NaN</td>\n",
       "      <td>6.6</td>\n",
       "      <td>NaN</td>\n",
       "      <td>NaN</td>\n",
       "    </tr>\n",
       "    <tr>\n",
       "      <th>2023-01-01 06:27:00</th>\n",
       "      <td>1.5</td>\n",
       "      <td>-1.7</td>\n",
       "      <td>-2.8</td>\n",
       "      <td>NaN</td>\n",
       "      <td>10.9</td>\n",
       "      <td>NaN</td>\n",
       "      <td>NaN</td>\n",
       "    </tr>\n",
       "  </tbody>\n",
       "</table>\n",
       "</div>"
      ],
      "text/plain": [
       "                     WND  TMP  DEW     SLP   AA1  AT1  RH1\n",
       "DATE                                                      \n",
       "2023-01-01 00:22:00  NaN  0.0 -0.6     NaN   NaN  NaN  NaN\n",
       "2023-01-01 05:51:00  3.1 -2.0 -3.0     NaN   NaN  NaN  NaN\n",
       "2023-01-01 05:53:00  2.1 -1.7 -2.8  1003.9   2.5  NaN  NaN\n",
       "2023-01-01 06:12:00  0.0 -1.7 -2.2     NaN   6.6  NaN  NaN\n",
       "2023-01-01 06:27:00  1.5 -1.7 -2.8     NaN  10.9  NaN  NaN"
      ]
     },
     "execution_count": 20,
     "metadata": {},
     "output_type": "execute_result"
    }
   ],
   "source": [
    "df.head()"
   ]
  },
  {
   "cell_type": "markdown",
   "id": "56c35731-5487-458f-8294-7e44f95255d0",
   "metadata": {},
   "source": [
    "Let's plot things.\n",
    "The NaN values will not be shown in the plots."
   ]
  },
  {
   "cell_type": "code",
   "execution_count": 25,
   "id": "7a3d6f31-9643-44fc-a79b-55a4e9f0865c",
   "metadata": {},
   "outputs": [
    {
     "data": {
      "image/png": "[encoded data removed]",
      "text/plain": [
       "<Figure size 640x480 with 1 Axes>"
      ]
     },
     "metadata": {},
     "output_type": "display_data"
    },
    {
     "data": {
      "image/png": "[encoded data removed]",
      "text/plain": [
       "<Figure size 640x480 with 1 Axes>"
      ]
     },
     "metadata": {},
     "output_type": "display_data"
    },
    {
     "data": {
      "image/png": "[encoded data removed]",
      "text/plain": [
       "<Figure size 640x480 with 1 Axes>"
      ]
     },
     "metadata": {},
     "output_type": "display_data"
    },
    {
     "data": {
      "image/png": "[encoded data removed]",
      "text/plain": [
       "<Figure size 640x480 with 1 Axes>"
      ]
     },
     "metadata": {},
     "output_type": "display_data"
    },
    {
     "data": {
      "image/png": "[encoded data removed]",
      "text/plain": [
       "<Figure size 640x480 with 1 Axes>"
      ]
     },
     "metadata": {},
     "output_type": "display_data"
    }
   ],
   "source": [
    "labels = {\n",
    "    'WND': 'Wind Speed [m/s]',\n",
    "    'TMP': 'Air Temperature [C]',\n",
    "    'DEW': 'Dew Point Temperature [C]',\n",
    "    'SLP': 'Atmospheric Pressure [hPa]',\n",
    "    'AA1': 'Liquid Precipitation [mm]',\n",
    "    'AT1': 'Weather Type',\n",
    "    'RH1': 'Relative Humidity [%]',\n",
    "}\n",
    "\n",
    "for column in list(labels.keys())[:-2]:\n",
    "    plt.figure()\n",
    "    df[column].plot(ylabel=labels[column])"
   ]
  },
  {
   "cell_type": "code",
   "execution_count": 26,
   "id": "500b284c-bafc-4fc1-8213-3a596526d658",
   "metadata": {},
   "outputs": [
    {
     "data": {
      "text/plain": [
       "<AxesSubplot:xlabel='DATE', ylabel='Relative Humidity [%]'>"
      ]
     },
     "execution_count": 26,
     "metadata": {},
     "output_type": "execute_result"
    },
    {
     "data": {
      "image/png": "[encoded data removed]",
      "text/plain": [
       "<Figure size 640x480 with 1 Axes>"
      ]
     },
     "metadata": {},
     "output_type": "display_data"
    }
   ],
   "source": [
    "# otherwise it will not show anything\n",
    "df[(df['RH1'] > 0) & (df['RH1'].notna())]['RH1'].plot(ylabel=labels['RH1'])"
   ]
  },
  {
   "cell_type": "markdown",
   "id": "f346f435-4cbb-4f2e-90aa-c9dac48109b6",
   "metadata": {},
   "source": [
    "Let's add the weather type to the plots of rain depth:"
   ]
  },
  {
   "cell_type": "code",
   "execution_count": 27,
   "id": "003c1736-2dc4-47cd-8b9a-fb44b3af4e92",
   "metadata": {},
   "outputs": [
    {
     "data": {
      "text/plain": [
       "array([nan, 16., 18., 13.,  1., 22., 19.,  8.,  3.])"
      ]
     },
     "execution_count": 27,
     "metadata": {},
     "output_type": "execute_result"
    }
   ],
   "source": [
    "df['AT1'].unique()"
   ]
  },
  {
   "cell_type": "code",
   "execution_count": 28,
   "id": "2f32077e-c703-45af-8fc5-5782390272a8",
   "metadata": {},
   "outputs": [],
   "source": [
    "df['AT1_rain'] = 0\n",
    "df.loc[ df['AT1']==16 , 'AT1_rain'] = 1"
   ]
  },
  {
   "cell_type": "code",
   "execution_count": 29,
   "id": "767ab277-017d-4a38-b5d4-11ca458c8efe",
   "metadata": {},
   "outputs": [],
   "source": [
    "df['AT1_snow'] = 0\n",
    "df.loc[ df['AT1']==18 , 'AT1_snow'] = 1"
   ]
  },
  {
   "cell_type": "code",
   "execution_count": 30,
   "id": "63be7db7-91db-492f-9a23-78a8ab50bbd1",
   "metadata": {},
   "outputs": [
    {
     "data": {
      "text/plain": [
       "(19358.0, 19372.0)"
      ]
     },
     "execution_count": 30,
     "metadata": {},
     "output_type": "execute_result"
    },
    {
     "data": {
      "image/png": "[encoded data removed]",
      "text/plain": [
       "<Figure size 640x480 with 2 Axes>"
      ]
     },
     "metadata": {},
     "output_type": "display_data"
    }
   ],
   "source": [
    "subset_df = df[['AA1', 'AT1_rain', 'AT1_snow']].dropna()\n",
    "fig, ax = plt.subplots()\n",
    "subset_df.plot(ax=ax, y='AA1', ylabel=labels['AA1'])\n",
    "plt.ylim([0, 20])\n",
    "subset_df.plot(ax=ax, y='AT1_rain', secondary_y=True)\n",
    "subset_df.plot(ax=ax, y='AT1_snow', secondary_y=True)\n",
    "plt.ylim([0, 2])\n",
    "plt.xlim(pd.Timestamp('2023-01-01'), pd.Timestamp('2023-01-15'))"
   ]
  },
  {
   "cell_type": "markdown",
   "id": "7d530558-819d-44a1-85e1-8ecee7bc5128",
   "metadata": {},
   "source": [
    "Okay, the conclusions of this figure are that:\n",
    "- the 'observation_rain' is not reliable. In some days, where there were non zero precipitations, the observation_rain is 0.\n",
    "- the precipitations account for snow as well. In some days, where there is precipitation, observation_snow is 1, while observatio_rain is 0.\n",
    "- the subsequent models should not take into account these data.                                                                                      "
   ]
  },
  {
   "cell_type": "code",
   "execution_count": 31,
   "id": "1de7fa0d-5f95-4c27-81b7-fb66e824317c",
   "metadata": {},
   "outputs": [
    {
     "data": {
      "text/html": [
       "<div>\n",
       "<style scoped>\n",
       "    .dataframe tbody tr th:only-of-type {\n",
       "        vertical-align: middle;\n",
       "    }\n",
       "\n",
       "    .dataframe tbody tr th {\n",
       "        vertical-align: top;\n",
       "    }\n",
       "\n",
       "    .dataframe thead th {\n",
       "        text-align: right;\n",
       "    }\n",
       "</style>\n",
       "<table border=\"1\" class=\"dataframe\">\n",
       "  <thead>\n",
       "    <tr style=\"text-align: right;\">\n",
       "      <th></th>\n",
       "      <th>WND</th>\n",
       "      <th>TMP</th>\n",
       "      <th>DEW</th>\n",
       "      <th>SLP</th>\n",
       "      <th>AA1</th>\n",
       "      <th>RH1</th>\n",
       "    </tr>\n",
       "    <tr>\n",
       "      <th>DATE</th>\n",
       "      <th></th>\n",
       "      <th></th>\n",
       "      <th></th>\n",
       "      <th></th>\n",
       "      <th></th>\n",
       "      <th></th>\n",
       "    </tr>\n",
       "  </thead>\n",
       "  <tbody>\n",
       "    <tr>\n",
       "      <th>2023-01-01 00:22:00</th>\n",
       "      <td>NaN</td>\n",
       "      <td>0.0</td>\n",
       "      <td>-0.6</td>\n",
       "      <td>NaN</td>\n",
       "      <td>NaN</td>\n",
       "      <td>NaN</td>\n",
       "    </tr>\n",
       "    <tr>\n",
       "      <th>2023-01-01 05:51:00</th>\n",
       "      <td>3.1</td>\n",
       "      <td>-2.0</td>\n",
       "      <td>-3.0</td>\n",
       "      <td>NaN</td>\n",
       "      <td>NaN</td>\n",
       "      <td>NaN</td>\n",
       "    </tr>\n",
       "    <tr>\n",
       "      <th>2023-01-01 05:53:00</th>\n",
       "      <td>2.1</td>\n",
       "      <td>-1.7</td>\n",
       "      <td>-2.8</td>\n",
       "      <td>1003.9</td>\n",
       "      <td>2.5</td>\n",
       "      <td>NaN</td>\n",
       "    </tr>\n",
       "    <tr>\n",
       "      <th>2023-01-01 06:12:00</th>\n",
       "      <td>0.0</td>\n",
       "      <td>-1.7</td>\n",
       "      <td>-2.2</td>\n",
       "      <td>NaN</td>\n",
       "      <td>6.6</td>\n",
       "      <td>NaN</td>\n",
       "    </tr>\n",
       "    <tr>\n",
       "      <th>2023-01-01 06:27:00</th>\n",
       "      <td>1.5</td>\n",
       "      <td>-1.7</td>\n",
       "      <td>-2.8</td>\n",
       "      <td>NaN</td>\n",
       "      <td>10.9</td>\n",
       "      <td>NaN</td>\n",
       "    </tr>\n",
       "  </tbody>\n",
       "</table>\n",
       "</div>"
      ],
      "text/plain": [
       "                     WND  TMP  DEW     SLP   AA1  RH1\n",
       "DATE                                                 \n",
       "2023-01-01 00:22:00  NaN  0.0 -0.6     NaN   NaN  NaN\n",
       "2023-01-01 05:51:00  3.1 -2.0 -3.0     NaN   NaN  NaN\n",
       "2023-01-01 05:53:00  2.1 -1.7 -2.8  1003.9   2.5  NaN\n",
       "2023-01-01 06:12:00  0.0 -1.7 -2.2     NaN   6.6  NaN\n",
       "2023-01-01 06:27:00  1.5 -1.7 -2.8     NaN  10.9  NaN"
      ]
     },
     "execution_count": 31,
     "metadata": {},
     "output_type": "execute_result"
    }
   ],
   "source": [
    "# drop AT1\n",
    "# df.drop(columns=['observation_rain'], inplace=True)\n",
    "df.drop(columns=['AT1', 'AT1_rain', 'AT1_snow'], inplace=True)\n",
    "df.head()"
   ]
  },
  {
   "cell_type": "markdown",
   "id": "911de104-631f-471c-86df-429cb098e0b6",
   "metadata": {},
   "source": [
    "Now we need to handle the NaN values"
   ]
  },
  {
   "cell_type": "code",
   "execution_count": 32,
   "id": "a7ee915c-e785-4fb6-a50e-709ef91dca58",
   "metadata": {},
   "outputs": [
    {
     "data": {
      "text/plain": [
       "WND     5.304276\n",
       "TMP     4.111842\n",
       "DEW     4.111842\n",
       "SLP    31.899671\n",
       "AA1     9.152961\n",
       "RH1    97.351974\n",
       "dtype: float64"
      ]
     },
     "execution_count": 32,
     "metadata": {},
     "output_type": "execute_result"
    }
   ],
   "source": [
    "# percentage of na values by column\n",
    "df.isna().sum()/len(df)*100"
   ]
  },
  {
   "cell_type": "code",
   "execution_count": 33,
   "id": "669989ab-da96-4ab3-a571-9adeaf553353",
   "metadata": {},
   "outputs": [
    {
     "data": {
      "text/html": [
       "<div>\n",
       "<style scoped>\n",
       "    .dataframe tbody tr th:only-of-type {\n",
       "        vertical-align: middle;\n",
       "    }\n",
       "\n",
       "    .dataframe tbody tr th {\n",
       "        vertical-align: top;\n",
       "    }\n",
       "\n",
       "    .dataframe thead th {\n",
       "        text-align: right;\n",
       "    }\n",
       "</style>\n",
       "<table border=\"1\" class=\"dataframe\">\n",
       "  <thead>\n",
       "    <tr style=\"text-align: right;\">\n",
       "      <th></th>\n",
       "      <th>WND</th>\n",
       "      <th>TMP</th>\n",
       "      <th>DEW</th>\n",
       "      <th>SLP</th>\n",
       "      <th>AA1</th>\n",
       "      <th>RH1</th>\n",
       "    </tr>\n",
       "  </thead>\n",
       "  <tbody>\n",
       "    <tr>\n",
       "      <th>count</th>\n",
       "      <td>11515.000000</td>\n",
       "      <td>11660.000000</td>\n",
       "      <td>11660.000000</td>\n",
       "      <td>8281.000000</td>\n",
       "      <td>11047.000000</td>\n",
       "      <td>322.000000</td>\n",
       "    </tr>\n",
       "    <tr>\n",
       "      <th>mean</th>\n",
       "      <td>2.531125</td>\n",
       "      <td>4.299794</td>\n",
       "      <td>-1.902058</td>\n",
       "      <td>1017.186499</td>\n",
       "      <td>0.354947</td>\n",
       "      <td>86.618012</td>\n",
       "    </tr>\n",
       "    <tr>\n",
       "      <th>std</th>\n",
       "      <td>2.374584</td>\n",
       "      <td>9.338007</td>\n",
       "      <td>6.217582</td>\n",
       "      <td>6.077747</td>\n",
       "      <td>2.765769</td>\n",
       "      <td>11.739649</td>\n",
       "    </tr>\n",
       "    <tr>\n",
       "      <th>min</th>\n",
       "      <td>0.000000</td>\n",
       "      <td>-18.900000</td>\n",
       "      <td>-21.700000</td>\n",
       "      <td>996.000000</td>\n",
       "      <td>0.000000</td>\n",
       "      <td>0.000000</td>\n",
       "    </tr>\n",
       "    <tr>\n",
       "      <th>25%</th>\n",
       "      <td>0.000000</td>\n",
       "      <td>-2.200000</td>\n",
       "      <td>-6.700000</td>\n",
       "      <td>1013.900000</td>\n",
       "      <td>0.000000</td>\n",
       "      <td>83.000000</td>\n",
       "    </tr>\n",
       "    <tr>\n",
       "      <th>50%</th>\n",
       "      <td>2.100000</td>\n",
       "      <td>2.200000</td>\n",
       "      <td>-1.100000</td>\n",
       "      <td>1017.400000</td>\n",
       "      <td>0.000000</td>\n",
       "      <td>89.000000</td>\n",
       "    </tr>\n",
       "    <tr>\n",
       "      <th>75%</th>\n",
       "      <td>4.100000</td>\n",
       "      <td>10.600000</td>\n",
       "      <td>2.800000</td>\n",
       "      <td>1020.500000</td>\n",
       "      <td>0.000000</td>\n",
       "      <td>93.000000</td>\n",
       "    </tr>\n",
       "    <tr>\n",
       "      <th>max</th>\n",
       "      <td>14.400000</td>\n",
       "      <td>33.300000</td>\n",
       "      <td>15.000000</td>\n",
       "      <td>1039.600000</td>\n",
       "      <td>122.600000</td>\n",
       "      <td>100.000000</td>\n",
       "    </tr>\n",
       "  </tbody>\n",
       "</table>\n",
       "</div>"
      ],
      "text/plain": [
       "                WND           TMP           DEW          SLP           AA1  \\\n",
       "count  11515.000000  11660.000000  11660.000000  8281.000000  11047.000000   \n",
       "mean       2.531125      4.299794     -1.902058  1017.186499      0.354947   \n",
       "std        2.374584      9.338007      6.217582     6.077747      2.765769   \n",
       "min        0.000000    -18.900000    -21.700000   996.000000      0.000000   \n",
       "25%        0.000000     -2.200000     -6.700000  1013.900000      0.000000   \n",
       "50%        2.100000      2.200000     -1.100000  1017.400000      0.000000   \n",
       "75%        4.100000     10.600000      2.800000  1020.500000      0.000000   \n",
       "max       14.400000     33.300000     15.000000  1039.600000    122.600000   \n",
       "\n",
       "              RH1  \n",
       "count  322.000000  \n",
       "mean    86.618012  \n",
       "std     11.739649  \n",
       "min      0.000000  \n",
       "25%     83.000000  \n",
       "50%     89.000000  \n",
       "75%     93.000000  \n",
       "max    100.000000  "
      ]
     },
     "execution_count": 33,
     "metadata": {},
     "output_type": "execute_result"
    }
   ],
   "source": [
    "df.describe()"
   ]
  },
  {
   "cell_type": "code",
   "execution_count": 34,
   "id": "36acf583-3d93-4d59-a657-b709723b7d13",
   "metadata": {},
   "outputs": [
    {
     "data": {
      "text/plain": [
       "SLP    0\n",
       "RH1    0\n",
       "dtype: int64"
      ]
     },
     "execution_count": 34,
     "metadata": {},
     "output_type": "execute_result"
    }
   ],
   "source": [
    "# let's fill out SLP and RH1 with the mean value for the column\n",
    "df['SLP'].fillna((df['SLP'].mean()), inplace=True)\n",
    "df['RH1'].fillna((df['RH1'].mean()), inplace=True)\n",
    "\n",
    "df[['SLP', 'RH1']].isna().sum()"
   ]
  },
  {
   "cell_type": "code",
   "execution_count": 35,
   "id": "754fb642-117a-469f-af19-e576c4de785a",
   "metadata": {},
   "outputs": [
    {
     "data": {
      "text/plain": [
       "TMP    0\n",
       "DEW    0\n",
       "dtype: int64"
      ]
     },
     "execution_count": 35,
     "metadata": {},
     "output_type": "execute_result"
    }
   ],
   "source": [
    "# now TMP and DEW follow a trend, let's fill out the missing values with an interpolation\n",
    "df['TMP'].interpolate(method='linear', inplace=True)\n",
    "df['DEW'].interpolate(method='linear', inplace=True)\n",
    "\n",
    "df[['TMP', 'DEW']].isna().sum()"
   ]
  },
  {
   "cell_type": "code",
   "execution_count": 36,
   "id": "5ed2e223-f95f-46e9-9a5c-891371f0d22b",
   "metadata": {},
   "outputs": [
    {
     "data": {
      "text/plain": [
       "WND    0.0\n",
       "TMP    0.0\n",
       "DEW    0.0\n",
       "SLP    0.0\n",
       "AA1    0.0\n",
       "RH1    0.0\n",
       "dtype: float64"
      ]
     },
     "execution_count": 36,
     "metadata": {},
     "output_type": "execute_result"
    }
   ],
   "source": [
    "# we could either drop all the rows with missing precipitation values\n",
    "# we could make them 0\n",
    "# we could replace na values with mean value\n",
    "# Let's drop them\n",
    "df.dropna(inplace=True)\n",
    "df.isna().sum()/len(df)*100"
   ]
  },
  {
   "cell_type": "code",
   "execution_count": 37,
   "id": "69af64b1-38f0-440a-9d51-763e666dea01",
   "metadata": {},
   "outputs": [
    {
     "data": {
      "text/html": [
       "<div>\n",
       "<style scoped>\n",
       "    .dataframe tbody tr th:only-of-type {\n",
       "        vertical-align: middle;\n",
       "    }\n",
       "\n",
       "    .dataframe tbody tr th {\n",
       "        vertical-align: top;\n",
       "    }\n",
       "\n",
       "    .dataframe thead th {\n",
       "        text-align: right;\n",
       "    }\n",
       "</style>\n",
       "<table border=\"1\" class=\"dataframe\">\n",
       "  <thead>\n",
       "    <tr style=\"text-align: right;\">\n",
       "      <th></th>\n",
       "      <th>WND</th>\n",
       "      <th>TMP</th>\n",
       "      <th>DEW</th>\n",
       "      <th>SLP</th>\n",
       "      <th>AA1</th>\n",
       "      <th>RH1</th>\n",
       "    </tr>\n",
       "  </thead>\n",
       "  <tbody>\n",
       "    <tr>\n",
       "      <th>count</th>\n",
       "      <td>10451.00000</td>\n",
       "      <td>10451.00000</td>\n",
       "      <td>10451.00000</td>\n",
       "      <td>10451.00000</td>\n",
       "      <td>10451.00000</td>\n",
       "      <td>10451.00000</td>\n",
       "    </tr>\n",
       "    <tr>\n",
       "      <th>mean</th>\n",
       "      <td>2.56815</td>\n",
       "      <td>4.66982</td>\n",
       "      <td>-1.75562</td>\n",
       "      <td>1017.19518</td>\n",
       "      <td>0.29620</td>\n",
       "      <td>86.61801</td>\n",
       "    </tr>\n",
       "    <tr>\n",
       "      <th>std</th>\n",
       "      <td>2.36306</td>\n",
       "      <td>9.24932</td>\n",
       "      <td>6.19806</td>\n",
       "      <td>5.36936</td>\n",
       "      <td>2.41236</td>\n",
       "      <td>0.00000</td>\n",
       "    </tr>\n",
       "    <tr>\n",
       "      <th>min</th>\n",
       "      <td>0.00000</td>\n",
       "      <td>-18.90000</td>\n",
       "      <td>-21.70000</td>\n",
       "      <td>996.00000</td>\n",
       "      <td>0.00000</td>\n",
       "      <td>86.61801</td>\n",
       "    </tr>\n",
       "    <tr>\n",
       "      <th>25%</th>\n",
       "      <td>0.00000</td>\n",
       "      <td>-2.20000</td>\n",
       "      <td>-6.10000</td>\n",
       "      <td>1015.20000</td>\n",
       "      <td>0.00000</td>\n",
       "      <td>86.61801</td>\n",
       "    </tr>\n",
       "    <tr>\n",
       "      <th>50%</th>\n",
       "      <td>2.10000</td>\n",
       "      <td>2.80000</td>\n",
       "      <td>-1.10000</td>\n",
       "      <td>1017.18650</td>\n",
       "      <td>0.00000</td>\n",
       "      <td>86.61801</td>\n",
       "    </tr>\n",
       "    <tr>\n",
       "      <th>75%</th>\n",
       "      <td>4.10000</td>\n",
       "      <td>10.60000</td>\n",
       "      <td>2.80000</td>\n",
       "      <td>1019.50000</td>\n",
       "      <td>0.00000</td>\n",
       "      <td>86.61801</td>\n",
       "    </tr>\n",
       "    <tr>\n",
       "      <th>max</th>\n",
       "      <td>14.40000</td>\n",
       "      <td>33.30000</td>\n",
       "      <td>15.00000</td>\n",
       "      <td>1039.60000</td>\n",
       "      <td>122.60000</td>\n",
       "      <td>86.61801</td>\n",
       "    </tr>\n",
       "  </tbody>\n",
       "</table>\n",
       "</div>"
      ],
      "text/plain": [
       "               WND          TMP          DEW          SLP          AA1  \\\n",
       "count  10451.00000  10451.00000  10451.00000  10451.00000  10451.00000   \n",
       "mean       2.56815      4.66982     -1.75562   1017.19518      0.29620   \n",
       "std        2.36306      9.24932      6.19806      5.36936      2.41236   \n",
       "min        0.00000    -18.90000    -21.70000    996.00000      0.00000   \n",
       "25%        0.00000     -2.20000     -6.10000   1015.20000      0.00000   \n",
       "50%        2.10000      2.80000     -1.10000   1017.18650      0.00000   \n",
       "75%        4.10000     10.60000      2.80000   1019.50000      0.00000   \n",
       "max       14.40000     33.30000     15.00000   1039.60000    122.60000   \n",
       "\n",
       "               RH1  \n",
       "count  10451.00000  \n",
       "mean      86.61801  \n",
       "std        0.00000  \n",
       "min       86.61801  \n",
       "25%       86.61801  \n",
       "50%       86.61801  \n",
       "75%       86.61801  \n",
       "max       86.61801  "
      ]
     },
     "execution_count": 37,
     "metadata": {},
     "output_type": "execute_result"
    }
   ],
   "source": [
    "df.describe().apply(lambda s: s.apply('{0:.5f}'.format)) # to avoid scientific notation"
   ]
  },
  {
   "cell_type": "markdown",
   "id": "d9e9fd6d-2ecf-411c-ae0f-0470e47c66df",
   "metadata": {},
   "source": [
    "The statistics are very similar to what we had before eliminating the NaN values."
   ]
  },
  {
   "cell_type": "markdown",
   "id": "6413379d-f23e-43b6-b7c2-fd85c7c78ff1",
   "metadata": {},
   "source": [
    "## Data pre-processing"
   ]
  },
  {
   "cell_type": "code",
   "execution_count": 38,
   "id": "028dceff-243d-4291-956c-f307170f2b25",
   "metadata": {},
   "outputs": [],
   "source": [
    "from sklearn.preprocessing import MinMaxScaler"
   ]
  },
  {
   "cell_type": "code",
   "execution_count": 39,
   "id": "c009ac14-53d3-49ce-be92-e88343a6a6d1",
   "metadata": {},
   "outputs": [],
   "source": [
    "# convert series to supervised learning\n",
    "def series_to_supervised(data, n_in=1, n_out=1):\n",
    "    # n_in = lookback\n",
    "    # n_out = lookforward\n",
    "    df = pd.DataFrame(data)\n",
    "    n_vars = df.shape[1]\n",
    "\n",
    "    cols, names = [], []\n",
    "    # input sequence (t-n, ... t-1)\n",
    "    for i in range(n_in, 0, -1):\n",
    "        cols.append(df.shift(i))\n",
    "        names += [(f'var{j+1}(t-{i})') for j in range(n_vars)]\n",
    "\n",
    "    # forecast sequence (t, t+1, ... t+n)\n",
    "    for i in range(0, n_out):\n",
    "        cols.append(df.shift(-i))\n",
    "        if i == 0:\n",
    "            names += [(f'var{j+1}(t)') for j in range(n_vars)]\n",
    "        else:\n",
    "            names += [(f'var{j+1}(t+{i})') for j in range(n_vars)]\n",
    "\n",
    "    # put it all together\n",
    "    agg = pd.concat(cols, axis=1)\n",
    "    agg.columns = names\n",
    "    agg.dropna(inplace=True)\n",
    "    return agg"
   ]
  },
  {
   "cell_type": "code",
   "execution_count": 40,
   "id": "030aabf4-7f19-468c-b69d-cf23414b76c5",
   "metadata": {},
   "outputs": [
    {
     "data": {
      "text/plain": [
       "array([[0.14583333, 0.32950192, 0.51498638, 0.18119266, 0.02039152,\n",
       "        0.        ],\n",
       "       [0.        , 0.32950192, 0.53133515, 0.48592888, 0.05383361,\n",
       "        0.        ],\n",
       "       [0.10416667, 0.32950192, 0.51498638, 0.48592888, 0.08890701,\n",
       "        0.        ],\n",
       "       ...,\n",
       "       [0.        , 0.42528736, 0.45504087, 0.50229358, 0.        ,\n",
       "        0.        ],\n",
       "       [0.        , 0.42528736, 0.47138965, 0.50688073, 0.        ,\n",
       "        0.        ],\n",
       "       [0.        , 0.41570881, 0.4386921 , 0.51605505, 0.        ,\n",
       "        0.        ]])"
      ]
     },
     "execution_count": 40,
     "metadata": {},
     "output_type": "execute_result"
    }
   ],
   "source": [
    "scaler = MinMaxScaler(feature_range=(0, 1))\n",
    "scaled = scaler.fit_transform(df)\n",
    "scaled"
   ]
  },
  {
   "cell_type": "code",
   "execution_count": 41,
   "id": "5fa56aff-b4a6-480b-b082-1652bda38dd8",
   "metadata": {},
   "outputs": [
    {
     "data": {
      "text/html": [
       "<div>\n",
       "<style scoped>\n",
       "    .dataframe tbody tr th:only-of-type {\n",
       "        vertical-align: middle;\n",
       "    }\n",
       "\n",
       "    .dataframe tbody tr th {\n",
       "        vertical-align: top;\n",
       "    }\n",
       "\n",
       "    .dataframe thead th {\n",
       "        text-align: right;\n",
       "    }\n",
       "</style>\n",
       "<table border=\"1\" class=\"dataframe\">\n",
       "  <thead>\n",
       "    <tr style=\"text-align: right;\">\n",
       "      <th></th>\n",
       "      <th>var1(t-2)</th>\n",
       "      <th>var2(t-2)</th>\n",
       "      <th>var3(t-2)</th>\n",
       "      <th>var4(t-2)</th>\n",
       "      <th>var5(t-2)</th>\n",
       "      <th>var6(t-2)</th>\n",
       "      <th>var1(t-1)</th>\n",
       "      <th>var2(t-1)</th>\n",
       "      <th>var3(t-1)</th>\n",
       "      <th>var4(t-1)</th>\n",
       "      <th>var5(t-1)</th>\n",
       "      <th>var6(t-1)</th>\n",
       "      <th>var1(t)</th>\n",
       "      <th>var2(t)</th>\n",
       "      <th>var3(t)</th>\n",
       "      <th>var4(t)</th>\n",
       "      <th>var5(t)</th>\n",
       "      <th>var6(t)</th>\n",
       "    </tr>\n",
       "  </thead>\n",
       "  <tbody>\n",
       "    <tr>\n",
       "      <th>2</th>\n",
       "      <td>0.145833</td>\n",
       "      <td>0.329502</td>\n",
       "      <td>0.514986</td>\n",
       "      <td>0.181193</td>\n",
       "      <td>0.020392</td>\n",
       "      <td>0.0</td>\n",
       "      <td>0.000000</td>\n",
       "      <td>0.329502</td>\n",
       "      <td>0.531335</td>\n",
       "      <td>0.485929</td>\n",
       "      <td>0.053834</td>\n",
       "      <td>0.0</td>\n",
       "      <td>0.104167</td>\n",
       "      <td>0.329502</td>\n",
       "      <td>0.514986</td>\n",
       "      <td>0.485929</td>\n",
       "      <td>0.088907</td>\n",
       "      <td>0.0</td>\n",
       "    </tr>\n",
       "    <tr>\n",
       "      <th>3</th>\n",
       "      <td>0.000000</td>\n",
       "      <td>0.329502</td>\n",
       "      <td>0.531335</td>\n",
       "      <td>0.485929</td>\n",
       "      <td>0.053834</td>\n",
       "      <td>0.0</td>\n",
       "      <td>0.104167</td>\n",
       "      <td>0.329502</td>\n",
       "      <td>0.514986</td>\n",
       "      <td>0.485929</td>\n",
       "      <td>0.088907</td>\n",
       "      <td>0.0</td>\n",
       "      <td>0.104167</td>\n",
       "      <td>0.329502</td>\n",
       "      <td>0.514986</td>\n",
       "      <td>0.199541</td>\n",
       "      <td>0.103589</td>\n",
       "      <td>0.0</td>\n",
       "    </tr>\n",
       "    <tr>\n",
       "      <th>4</th>\n",
       "      <td>0.104167</td>\n",
       "      <td>0.329502</td>\n",
       "      <td>0.514986</td>\n",
       "      <td>0.485929</td>\n",
       "      <td>0.088907</td>\n",
       "      <td>0.0</td>\n",
       "      <td>0.104167</td>\n",
       "      <td>0.329502</td>\n",
       "      <td>0.514986</td>\n",
       "      <td>0.199541</td>\n",
       "      <td>0.103589</td>\n",
       "      <td>0.0</td>\n",
       "      <td>0.104167</td>\n",
       "      <td>0.340996</td>\n",
       "      <td>0.514986</td>\n",
       "      <td>0.485929</td>\n",
       "      <td>0.001631</td>\n",
       "      <td>0.0</td>\n",
       "    </tr>\n",
       "    <tr>\n",
       "      <th>5</th>\n",
       "      <td>0.104167</td>\n",
       "      <td>0.329502</td>\n",
       "      <td>0.514986</td>\n",
       "      <td>0.199541</td>\n",
       "      <td>0.103589</td>\n",
       "      <td>0.0</td>\n",
       "      <td>0.104167</td>\n",
       "      <td>0.340996</td>\n",
       "      <td>0.514986</td>\n",
       "      <td>0.485929</td>\n",
       "      <td>0.001631</td>\n",
       "      <td>0.0</td>\n",
       "      <td>0.180556</td>\n",
       "      <td>0.340996</td>\n",
       "      <td>0.514986</td>\n",
       "      <td>0.190367</td>\n",
       "      <td>0.000000</td>\n",
       "      <td>0.0</td>\n",
       "    </tr>\n",
       "    <tr>\n",
       "      <th>6</th>\n",
       "      <td>0.104167</td>\n",
       "      <td>0.340996</td>\n",
       "      <td>0.514986</td>\n",
       "      <td>0.485929</td>\n",
       "      <td>0.001631</td>\n",
       "      <td>0.0</td>\n",
       "      <td>0.180556</td>\n",
       "      <td>0.340996</td>\n",
       "      <td>0.514986</td>\n",
       "      <td>0.190367</td>\n",
       "      <td>0.000000</td>\n",
       "      <td>0.0</td>\n",
       "      <td>0.104167</td>\n",
       "      <td>0.340996</td>\n",
       "      <td>0.514986</td>\n",
       "      <td>0.485929</td>\n",
       "      <td>0.000000</td>\n",
       "      <td>0.0</td>\n",
       "    </tr>\n",
       "    <tr>\n",
       "      <th>...</th>\n",
       "      <td>...</td>\n",
       "      <td>...</td>\n",
       "      <td>...</td>\n",
       "      <td>...</td>\n",
       "      <td>...</td>\n",
       "      <td>...</td>\n",
       "      <td>...</td>\n",
       "      <td>...</td>\n",
       "      <td>...</td>\n",
       "      <td>...</td>\n",
       "      <td>...</td>\n",
       "      <td>...</td>\n",
       "      <td>...</td>\n",
       "      <td>...</td>\n",
       "      <td>...</td>\n",
       "      <td>...</td>\n",
       "      <td>...</td>\n",
       "      <td>...</td>\n",
       "    </tr>\n",
       "    <tr>\n",
       "      <th>10446</th>\n",
       "      <td>0.000000</td>\n",
       "      <td>0.319923</td>\n",
       "      <td>0.455041</td>\n",
       "      <td>0.561927</td>\n",
       "      <td>0.000000</td>\n",
       "      <td>0.0</td>\n",
       "      <td>0.000000</td>\n",
       "      <td>0.383142</td>\n",
       "      <td>0.485014</td>\n",
       "      <td>0.541284</td>\n",
       "      <td>0.000000</td>\n",
       "      <td>0.0</td>\n",
       "      <td>0.104167</td>\n",
       "      <td>0.425287</td>\n",
       "      <td>0.438692</td>\n",
       "      <td>0.513761</td>\n",
       "      <td>0.000000</td>\n",
       "      <td>0.0</td>\n",
       "    </tr>\n",
       "    <tr>\n",
       "      <th>10447</th>\n",
       "      <td>0.000000</td>\n",
       "      <td>0.383142</td>\n",
       "      <td>0.485014</td>\n",
       "      <td>0.541284</td>\n",
       "      <td>0.000000</td>\n",
       "      <td>0.0</td>\n",
       "      <td>0.104167</td>\n",
       "      <td>0.425287</td>\n",
       "      <td>0.438692</td>\n",
       "      <td>0.513761</td>\n",
       "      <td>0.000000</td>\n",
       "      <td>0.0</td>\n",
       "      <td>0.145833</td>\n",
       "      <td>0.425287</td>\n",
       "      <td>0.471390</td>\n",
       "      <td>0.504587</td>\n",
       "      <td>0.000000</td>\n",
       "      <td>0.0</td>\n",
       "    </tr>\n",
       "    <tr>\n",
       "      <th>10448</th>\n",
       "      <td>0.104167</td>\n",
       "      <td>0.425287</td>\n",
       "      <td>0.438692</td>\n",
       "      <td>0.513761</td>\n",
       "      <td>0.000000</td>\n",
       "      <td>0.0</td>\n",
       "      <td>0.145833</td>\n",
       "      <td>0.425287</td>\n",
       "      <td>0.471390</td>\n",
       "      <td>0.504587</td>\n",
       "      <td>0.000000</td>\n",
       "      <td>0.0</td>\n",
       "      <td>0.000000</td>\n",
       "      <td>0.425287</td>\n",
       "      <td>0.455041</td>\n",
       "      <td>0.502294</td>\n",
       "      <td>0.000000</td>\n",
       "      <td>0.0</td>\n",
       "    </tr>\n",
       "    <tr>\n",
       "      <th>10449</th>\n",
       "      <td>0.145833</td>\n",
       "      <td>0.425287</td>\n",
       "      <td>0.471390</td>\n",
       "      <td>0.504587</td>\n",
       "      <td>0.000000</td>\n",
       "      <td>0.0</td>\n",
       "      <td>0.000000</td>\n",
       "      <td>0.425287</td>\n",
       "      <td>0.455041</td>\n",
       "      <td>0.502294</td>\n",
       "      <td>0.000000</td>\n",
       "      <td>0.0</td>\n",
       "      <td>0.000000</td>\n",
       "      <td>0.425287</td>\n",
       "      <td>0.471390</td>\n",
       "      <td>0.506881</td>\n",
       "      <td>0.000000</td>\n",
       "      <td>0.0</td>\n",
       "    </tr>\n",
       "    <tr>\n",
       "      <th>10450</th>\n",
       "      <td>0.000000</td>\n",
       "      <td>0.425287</td>\n",
       "      <td>0.455041</td>\n",
       "      <td>0.502294</td>\n",
       "      <td>0.000000</td>\n",
       "      <td>0.0</td>\n",
       "      <td>0.000000</td>\n",
       "      <td>0.425287</td>\n",
       "      <td>0.471390</td>\n",
       "      <td>0.506881</td>\n",
       "      <td>0.000000</td>\n",
       "      <td>0.0</td>\n",
       "      <td>0.000000</td>\n",
       "      <td>0.415709</td>\n",
       "      <td>0.438692</td>\n",
       "      <td>0.516055</td>\n",
       "      <td>0.000000</td>\n",
       "      <td>0.0</td>\n",
       "    </tr>\n",
       "  </tbody>\n",
       "</table>\n",
       "<p>10449 rows × 18 columns</p>\n",
       "</div>"
      ],
      "text/plain": [
       "       var1(t-2)  var2(t-2)  var3(t-2)  var4(t-2)  var5(t-2)  var6(t-2)  \\\n",
       "2       0.145833   0.329502   0.514986   0.181193   0.020392        0.0   \n",
       "3       0.000000   0.329502   0.531335   0.485929   0.053834        0.0   \n",
       "4       0.104167   0.329502   0.514986   0.485929   0.088907        0.0   \n",
       "5       0.104167   0.329502   0.514986   0.199541   0.103589        0.0   \n",
       "6       0.104167   0.340996   0.514986   0.485929   0.001631        0.0   \n",
       "...          ...        ...        ...        ...        ...        ...   \n",
       "10446   0.000000   0.319923   0.455041   0.561927   0.000000        0.0   \n",
       "10447   0.000000   0.383142   0.485014   0.541284   0.000000        0.0   \n",
       "10448   0.104167   0.425287   0.438692   0.513761   0.000000        0.0   \n",
       "10449   0.145833   0.425287   0.471390   0.504587   0.000000        0.0   \n",
       "10450   0.000000   0.425287   0.455041   0.502294   0.000000        0.0   \n",
       "\n",
       "       var1(t-1)  var2(t-1)  var3(t-1)  var4(t-1)  var5(t-1)  var6(t-1)  \\\n",
       "2       0.000000   0.329502   0.531335   0.485929   0.053834        0.0   \n",
       "3       0.104167   0.329502   0.514986   0.485929   0.088907        0.0   \n",
       "4       0.104167   0.329502   0.514986   0.199541   0.103589        0.0   \n",
       "5       0.104167   0.340996   0.514986   0.485929   0.001631        0.0   \n",
       "6       0.180556   0.340996   0.514986   0.190367   0.000000        0.0   \n",
       "...          ...        ...        ...        ...        ...        ...   \n",
       "10446   0.000000   0.383142   0.485014   0.541284   0.000000        0.0   \n",
       "10447   0.104167   0.425287   0.438692   0.513761   0.000000        0.0   \n",
       "10448   0.145833   0.425287   0.471390   0.504587   0.000000        0.0   \n",
       "10449   0.000000   0.425287   0.455041   0.502294   0.000000        0.0   \n",
       "10450   0.000000   0.425287   0.471390   0.506881   0.000000        0.0   \n",
       "\n",
       "        var1(t)   var2(t)   var3(t)   var4(t)   var5(t)  var6(t)  \n",
       "2      0.104167  0.329502  0.514986  0.485929  0.088907      0.0  \n",
       "3      0.104167  0.329502  0.514986  0.199541  0.103589      0.0  \n",
       "4      0.104167  0.340996  0.514986  0.485929  0.001631      0.0  \n",
       "5      0.180556  0.340996  0.514986  0.190367  0.000000      0.0  \n",
       "6      0.104167  0.340996  0.514986  0.485929  0.000000      0.0  \n",
       "...         ...       ...       ...       ...       ...      ...  \n",
       "10446  0.104167  0.425287  0.438692  0.513761  0.000000      0.0  \n",
       "10447  0.145833  0.425287  0.471390  0.504587  0.000000      0.0  \n",
       "10448  0.000000  0.425287  0.455041  0.502294  0.000000      0.0  \n",
       "10449  0.000000  0.425287  0.471390  0.506881  0.000000      0.0  \n",
       "10450  0.000000  0.415709  0.438692  0.516055  0.000000      0.0  \n",
       "\n",
       "[10449 rows x 18 columns]"
      ]
     },
     "execution_count": 41,
     "metadata": {},
     "output_type": "execute_result"
    }
   ],
   "source": [
    "n_hours = 2\n",
    "reframed = series_to_supervised(scaled, n_hours, 1)\n",
    "reframed"
   ]
  },
  {
   "cell_type": "code",
   "execution_count": 42,
   "id": "1cdcdd7a-333a-4230-baf4-651bf5cf7b38",
   "metadata": {},
   "outputs": [],
   "source": [
    "# split into train and test sets\n",
    "train_size = int(0.8 * reframed.shape[0])\n",
    "train = reframed[:train_size]\n",
    "test = reframed[train_size:]"
   ]
  },
  {
   "cell_type": "code",
   "execution_count": 43,
   "id": "550548f6-b7ea-4ed6-87f3-94549713d00d",
   "metadata": {},
   "outputs": [
    {
     "data": {
      "text/plain": [
       "((8359, 18), (2090, 18))"
      ]
     },
     "execution_count": 43,
     "metadata": {},
     "output_type": "execute_result"
    }
   ],
   "source": [
    "train.shape, test.shape"
   ]
  },
  {
   "cell_type": "code",
   "execution_count": 44,
   "id": "11e8dedd-aff3-4b1c-8323-a122f0b19ff1",
   "metadata": {},
   "outputs": [
    {
     "data": {
      "text/html": [
       "<div>\n",
       "<style scoped>\n",
       "    .dataframe tbody tr th:only-of-type {\n",
       "        vertical-align: middle;\n",
       "    }\n",
       "\n",
       "    .dataframe tbody tr th {\n",
       "        vertical-align: top;\n",
       "    }\n",
       "\n",
       "    .dataframe thead th {\n",
       "        text-align: right;\n",
       "    }\n",
       "</style>\n",
       "<table border=\"1\" class=\"dataframe\">\n",
       "  <thead>\n",
       "    <tr style=\"text-align: right;\">\n",
       "      <th></th>\n",
       "      <th>var1(t-2)</th>\n",
       "      <th>var2(t-2)</th>\n",
       "      <th>var3(t-2)</th>\n",
       "      <th>var4(t-2)</th>\n",
       "      <th>var5(t-2)</th>\n",
       "      <th>var6(t-2)</th>\n",
       "      <th>var1(t-1)</th>\n",
       "      <th>var2(t-1)</th>\n",
       "      <th>var3(t-1)</th>\n",
       "      <th>var4(t-1)</th>\n",
       "      <th>var5(t-1)</th>\n",
       "      <th>var6(t-1)</th>\n",
       "      <th>var1(t)</th>\n",
       "      <th>var2(t)</th>\n",
       "      <th>var3(t)</th>\n",
       "      <th>var4(t)</th>\n",
       "      <th>var5(t)</th>\n",
       "      <th>var6(t)</th>\n",
       "    </tr>\n",
       "  </thead>\n",
       "  <tbody>\n",
       "    <tr>\n",
       "      <th>2</th>\n",
       "      <td>0.145833</td>\n",
       "      <td>0.329502</td>\n",
       "      <td>0.514986</td>\n",
       "      <td>0.181193</td>\n",
       "      <td>0.020392</td>\n",
       "      <td>0.0</td>\n",
       "      <td>0.000000</td>\n",
       "      <td>0.329502</td>\n",
       "      <td>0.531335</td>\n",
       "      <td>0.485929</td>\n",
       "      <td>0.053834</td>\n",
       "      <td>0.0</td>\n",
       "      <td>0.104167</td>\n",
       "      <td>0.329502</td>\n",
       "      <td>0.514986</td>\n",
       "      <td>0.485929</td>\n",
       "      <td>0.088907</td>\n",
       "      <td>0.0</td>\n",
       "    </tr>\n",
       "    <tr>\n",
       "      <th>3</th>\n",
       "      <td>0.000000</td>\n",
       "      <td>0.329502</td>\n",
       "      <td>0.531335</td>\n",
       "      <td>0.485929</td>\n",
       "      <td>0.053834</td>\n",
       "      <td>0.0</td>\n",
       "      <td>0.104167</td>\n",
       "      <td>0.329502</td>\n",
       "      <td>0.514986</td>\n",
       "      <td>0.485929</td>\n",
       "      <td>0.088907</td>\n",
       "      <td>0.0</td>\n",
       "      <td>0.104167</td>\n",
       "      <td>0.329502</td>\n",
       "      <td>0.514986</td>\n",
       "      <td>0.199541</td>\n",
       "      <td>0.103589</td>\n",
       "      <td>0.0</td>\n",
       "    </tr>\n",
       "    <tr>\n",
       "      <th>4</th>\n",
       "      <td>0.104167</td>\n",
       "      <td>0.329502</td>\n",
       "      <td>0.514986</td>\n",
       "      <td>0.485929</td>\n",
       "      <td>0.088907</td>\n",
       "      <td>0.0</td>\n",
       "      <td>0.104167</td>\n",
       "      <td>0.329502</td>\n",
       "      <td>0.514986</td>\n",
       "      <td>0.199541</td>\n",
       "      <td>0.103589</td>\n",
       "      <td>0.0</td>\n",
       "      <td>0.104167</td>\n",
       "      <td>0.340996</td>\n",
       "      <td>0.514986</td>\n",
       "      <td>0.485929</td>\n",
       "      <td>0.001631</td>\n",
       "      <td>0.0</td>\n",
       "    </tr>\n",
       "    <tr>\n",
       "      <th>5</th>\n",
       "      <td>0.104167</td>\n",
       "      <td>0.329502</td>\n",
       "      <td>0.514986</td>\n",
       "      <td>0.199541</td>\n",
       "      <td>0.103589</td>\n",
       "      <td>0.0</td>\n",
       "      <td>0.104167</td>\n",
       "      <td>0.340996</td>\n",
       "      <td>0.514986</td>\n",
       "      <td>0.485929</td>\n",
       "      <td>0.001631</td>\n",
       "      <td>0.0</td>\n",
       "      <td>0.180556</td>\n",
       "      <td>0.340996</td>\n",
       "      <td>0.514986</td>\n",
       "      <td>0.190367</td>\n",
       "      <td>0.000000</td>\n",
       "      <td>0.0</td>\n",
       "    </tr>\n",
       "    <tr>\n",
       "      <th>6</th>\n",
       "      <td>0.104167</td>\n",
       "      <td>0.340996</td>\n",
       "      <td>0.514986</td>\n",
       "      <td>0.485929</td>\n",
       "      <td>0.001631</td>\n",
       "      <td>0.0</td>\n",
       "      <td>0.180556</td>\n",
       "      <td>0.340996</td>\n",
       "      <td>0.514986</td>\n",
       "      <td>0.190367</td>\n",
       "      <td>0.000000</td>\n",
       "      <td>0.0</td>\n",
       "      <td>0.104167</td>\n",
       "      <td>0.340996</td>\n",
       "      <td>0.514986</td>\n",
       "      <td>0.485929</td>\n",
       "      <td>0.000000</td>\n",
       "      <td>0.0</td>\n",
       "    </tr>\n",
       "    <tr>\n",
       "      <th>...</th>\n",
       "      <td>...</td>\n",
       "      <td>...</td>\n",
       "      <td>...</td>\n",
       "      <td>...</td>\n",
       "      <td>...</td>\n",
       "      <td>...</td>\n",
       "      <td>...</td>\n",
       "      <td>...</td>\n",
       "      <td>...</td>\n",
       "      <td>...</td>\n",
       "      <td>...</td>\n",
       "      <td>...</td>\n",
       "      <td>...</td>\n",
       "      <td>...</td>\n",
       "      <td>...</td>\n",
       "      <td>...</td>\n",
       "      <td>...</td>\n",
       "      <td>...</td>\n",
       "    </tr>\n",
       "    <tr>\n",
       "      <th>8356</th>\n",
       "      <td>0.000000</td>\n",
       "      <td>0.350575</td>\n",
       "      <td>0.501362</td>\n",
       "      <td>0.444954</td>\n",
       "      <td>0.000000</td>\n",
       "      <td>0.0</td>\n",
       "      <td>0.000000</td>\n",
       "      <td>0.329502</td>\n",
       "      <td>0.485014</td>\n",
       "      <td>0.444954</td>\n",
       "      <td>0.000000</td>\n",
       "      <td>0.0</td>\n",
       "      <td>0.104167</td>\n",
       "      <td>0.319923</td>\n",
       "      <td>0.471390</td>\n",
       "      <td>0.433486</td>\n",
       "      <td>0.000000</td>\n",
       "      <td>0.0</td>\n",
       "    </tr>\n",
       "    <tr>\n",
       "      <th>8357</th>\n",
       "      <td>0.000000</td>\n",
       "      <td>0.329502</td>\n",
       "      <td>0.485014</td>\n",
       "      <td>0.444954</td>\n",
       "      <td>0.000000</td>\n",
       "      <td>0.0</td>\n",
       "      <td>0.104167</td>\n",
       "      <td>0.319923</td>\n",
       "      <td>0.471390</td>\n",
       "      <td>0.433486</td>\n",
       "      <td>0.000000</td>\n",
       "      <td>0.0</td>\n",
       "      <td>0.104167</td>\n",
       "      <td>0.319923</td>\n",
       "      <td>0.471390</td>\n",
       "      <td>0.435780</td>\n",
       "      <td>0.000000</td>\n",
       "      <td>0.0</td>\n",
       "    </tr>\n",
       "    <tr>\n",
       "      <th>8358</th>\n",
       "      <td>0.104167</td>\n",
       "      <td>0.319923</td>\n",
       "      <td>0.471390</td>\n",
       "      <td>0.433486</td>\n",
       "      <td>0.000000</td>\n",
       "      <td>0.0</td>\n",
       "      <td>0.104167</td>\n",
       "      <td>0.319923</td>\n",
       "      <td>0.471390</td>\n",
       "      <td>0.435780</td>\n",
       "      <td>0.000000</td>\n",
       "      <td>0.0</td>\n",
       "      <td>0.000000</td>\n",
       "      <td>0.308429</td>\n",
       "      <td>0.455041</td>\n",
       "      <td>0.433486</td>\n",
       "      <td>0.000000</td>\n",
       "      <td>0.0</td>\n",
       "    </tr>\n",
       "    <tr>\n",
       "      <th>8359</th>\n",
       "      <td>0.104167</td>\n",
       "      <td>0.319923</td>\n",
       "      <td>0.471390</td>\n",
       "      <td>0.435780</td>\n",
       "      <td>0.000000</td>\n",
       "      <td>0.0</td>\n",
       "      <td>0.000000</td>\n",
       "      <td>0.308429</td>\n",
       "      <td>0.455041</td>\n",
       "      <td>0.433486</td>\n",
       "      <td>0.000000</td>\n",
       "      <td>0.0</td>\n",
       "      <td>0.104167</td>\n",
       "      <td>0.308429</td>\n",
       "      <td>0.455041</td>\n",
       "      <td>0.438073</td>\n",
       "      <td>0.000000</td>\n",
       "      <td>0.0</td>\n",
       "    </tr>\n",
       "    <tr>\n",
       "      <th>8360</th>\n",
       "      <td>0.000000</td>\n",
       "      <td>0.308429</td>\n",
       "      <td>0.455041</td>\n",
       "      <td>0.433486</td>\n",
       "      <td>0.000000</td>\n",
       "      <td>0.0</td>\n",
       "      <td>0.104167</td>\n",
       "      <td>0.308429</td>\n",
       "      <td>0.455041</td>\n",
       "      <td>0.438073</td>\n",
       "      <td>0.000000</td>\n",
       "      <td>0.0</td>\n",
       "      <td>0.104167</td>\n",
       "      <td>0.308429</td>\n",
       "      <td>0.455041</td>\n",
       "      <td>0.440367</td>\n",
       "      <td>0.000000</td>\n",
       "      <td>0.0</td>\n",
       "    </tr>\n",
       "  </tbody>\n",
       "</table>\n",
       "<p>8359 rows × 18 columns</p>\n",
       "</div>"
      ],
      "text/plain": [
       "      var1(t-2)  var2(t-2)  var3(t-2)  var4(t-2)  var5(t-2)  var6(t-2)  \\\n",
       "2      0.145833   0.329502   0.514986   0.181193   0.020392        0.0   \n",
       "3      0.000000   0.329502   0.531335   0.485929   0.053834        0.0   \n",
       "4      0.104167   0.329502   0.514986   0.485929   0.088907        0.0   \n",
       "5      0.104167   0.329502   0.514986   0.199541   0.103589        0.0   \n",
       "6      0.104167   0.340996   0.514986   0.485929   0.001631        0.0   \n",
       "...         ...        ...        ...        ...        ...        ...   \n",
       "8356   0.000000   0.350575   0.501362   0.444954   0.000000        0.0   \n",
       "8357   0.000000   0.329502   0.485014   0.444954   0.000000        0.0   \n",
       "8358   0.104167   0.319923   0.471390   0.433486   0.000000        0.0   \n",
       "8359   0.104167   0.319923   0.471390   0.435780   0.000000        0.0   \n",
       "8360   0.000000   0.308429   0.455041   0.433486   0.000000        0.0   \n",
       "\n",
       "      var1(t-1)  var2(t-1)  var3(t-1)  var4(t-1)  var5(t-1)  var6(t-1)  \\\n",
       "2      0.000000   0.329502   0.531335   0.485929   0.053834        0.0   \n",
       "3      0.104167   0.329502   0.514986   0.485929   0.088907        0.0   \n",
       "4      0.104167   0.329502   0.514986   0.199541   0.103589        0.0   \n",
       "5      0.104167   0.340996   0.514986   0.485929   0.001631        0.0   \n",
       "6      0.180556   0.340996   0.514986   0.190367   0.000000        0.0   \n",
       "...         ...        ...        ...        ...        ...        ...   \n",
       "8356   0.000000   0.329502   0.485014   0.444954   0.000000        0.0   \n",
       "8357   0.104167   0.319923   0.471390   0.433486   0.000000        0.0   \n",
       "8358   0.104167   0.319923   0.471390   0.435780   0.000000        0.0   \n",
       "8359   0.000000   0.308429   0.455041   0.433486   0.000000        0.0   \n",
       "8360   0.104167   0.308429   0.455041   0.438073   0.000000        0.0   \n",
       "\n",
       "       var1(t)   var2(t)   var3(t)   var4(t)   var5(t)  var6(t)  \n",
       "2     0.104167  0.329502  0.514986  0.485929  0.088907      0.0  \n",
       "3     0.104167  0.329502  0.514986  0.199541  0.103589      0.0  \n",
       "4     0.104167  0.340996  0.514986  0.485929  0.001631      0.0  \n",
       "5     0.180556  0.340996  0.514986  0.190367  0.000000      0.0  \n",
       "6     0.104167  0.340996  0.514986  0.485929  0.000000      0.0  \n",
       "...        ...       ...       ...       ...       ...      ...  \n",
       "8356  0.104167  0.319923  0.471390  0.433486  0.000000      0.0  \n",
       "8357  0.104167  0.319923  0.471390  0.435780  0.000000      0.0  \n",
       "8358  0.000000  0.308429  0.455041  0.433486  0.000000      0.0  \n",
       "8359  0.104167  0.308429  0.455041  0.438073  0.000000      0.0  \n",
       "8360  0.104167  0.308429  0.455041  0.440367  0.000000      0.0  \n",
       "\n",
       "[8359 rows x 18 columns]"
      ]
     },
     "execution_count": 44,
     "metadata": {},
     "output_type": "execute_result"
    }
   ],
   "source": [
    "train"
   ]
  },
  {
   "cell_type": "code",
   "execution_count": 47,
   "id": "2b4aa834-c363-44e7-a5d9-d8734f8c5011",
   "metadata": {},
   "outputs": [
    {
     "data": {
      "text/plain": [
       "((8359, 12), (8359,))"
      ]
     },
     "execution_count": 47,
     "metadata": {},
     "output_type": "execute_result"
    }
   ],
   "source": [
    "# separate inputs and outputs\n",
    "n_features = scaled.shape[1]\n",
    "n_obs = n_hours * n_features\n",
    "scaled_train_X = train[train.columns[:n_obs]]\n",
    "# we will try to predict the precipitations\n",
    "# based on all the available data\n",
    "scaled_train_y = train[train.columns[-2]]\n",
    "\n",
    "scaled_train_X.shape, scaled_train_y.shape"
   ]
  },
  {
   "cell_type": "code",
   "execution_count": 73,
   "id": "b4c52432-2e52-4bb5-8271-69f9a0974cfb",
   "metadata": {},
   "outputs": [
    {
     "data": {
      "text/plain": [
       "((2090, 12), (2090,))"
      ]
     },
     "execution_count": 73,
     "metadata": {},
     "output_type": "execute_result"
    }
   ],
   "source": [
    "scaled_test_X = test[train.columns[:n_obs]]\n",
    "scaled_test_y = test[train.columns[-2]]\n",
    "\n",
    "scaled_test_X.shape, scaled_test_y.shape"
   ]
  },
  {
   "cell_type": "code",
   "execution_count": 51,
   "id": "194da908-5d87-4a14-9936-0294bc52ac64",
   "metadata": {},
   "outputs": [
    {
     "data": {
      "text/plain": [
       "((8359, 2, 6), (2090, 2, 6))"
      ]
     },
     "execution_count": 51,
     "metadata": {},
     "output_type": "execute_result"
    }
   ],
   "source": [
    "# reshape input to be 3D [samples, look_back, features]\n",
    "scaled_train_X = scaled_train_X.values.reshape((scaled_train_X.shape[0], n_hours, n_features))\n",
    "scaled_test_X = scaled_test_X.values.reshape((scaled_test_X.shape[0], n_hours, n_features))\n",
    "\n",
    "scaled_train_X.shape, scaled_test_X.shape"
   ]
  },
  {
   "cell_type": "markdown",
   "id": "a79883d9-b73a-431a-9576-62ab5a8c4469",
   "metadata": {},
   "source": [
    "## Train/Test LSTM model"
   ]
  },
  {
   "cell_type": "code",
   "execution_count": 54,
   "id": "1effc3e6-bd6d-4b37-b829-00415d854cf8",
   "metadata": {},
   "outputs": [],
   "source": [
    "import os\n",
    "os.environ['TF_CPP_MIN_LOG_LEVEL'] = '1'\n",
    "from tensorflow.keras.models import Sequential\n",
    "from tensorflow.keras.layers import Dense, LSTM"
   ]
  },
  {
   "cell_type": "code",
   "execution_count": 55,
   "id": "7311a077-b5c5-4f20-9693-1354cc778716",
   "metadata": {
    "scrolled": true
   },
   "outputs": [
    {
     "name": "stdout",
     "output_type": "stream",
     "text": [
      "Epoch 1/100\n",
      "279/279 - 3s - loss: 0.0063 - val_loss: 0.0012 - 3s/epoch - 11ms/step\n",
      "Epoch 2/100\n",
      "279/279 - 1s - loss: 0.0040 - val_loss: 0.0015 - 814ms/epoch - 3ms/step\n",
      "Epoch 3/100\n",
      "279/279 - 1s - loss: 0.0039 - val_loss: 0.0014 - 824ms/epoch - 3ms/step\n",
      "Epoch 4/100\n",
      "279/279 - 1s - loss: 0.0039 - val_loss: 0.0032 - 829ms/epoch - 3ms/step\n",
      "Epoch 5/100\n",
      "279/279 - 1s - loss: 0.0036 - val_loss: 0.0018 - 836ms/epoch - 3ms/step\n",
      "Epoch 6/100\n",
      "279/279 - 1s - loss: 0.0035 - val_loss: 0.0015 - 831ms/epoch - 3ms/step\n",
      "Epoch 7/100\n",
      "279/279 - 1s - loss: 0.0037 - val_loss: 0.0019 - 805ms/epoch - 3ms/step\n",
      "Epoch 8/100\n",
      "279/279 - 1s - loss: 0.0034 - val_loss: 0.0016 - 809ms/epoch - 3ms/step\n",
      "Epoch 9/100\n",
      "279/279 - 1s - loss: 0.0035 - val_loss: 0.0036 - 821ms/epoch - 3ms/step\n",
      "Epoch 10/100\n",
      "279/279 - 1s - loss: 0.0035 - val_loss: 0.0018 - 818ms/epoch - 3ms/step\n",
      "Epoch 11/100\n",
      "279/279 - 1s - loss: 0.0032 - val_loss: 0.0011 - 850ms/epoch - 3ms/step\n",
      "Epoch 12/100\n",
      "279/279 - 1s - loss: 0.0031 - val_loss: 0.0044 - 820ms/epoch - 3ms/step\n",
      "Epoch 13/100\n",
      "279/279 - 1s - loss: 0.0033 - val_loss: 0.0018 - 856ms/epoch - 3ms/step\n",
      "Epoch 14/100\n",
      "279/279 - 1s - loss: 0.0029 - val_loss: 0.0017 - 861ms/epoch - 3ms/step\n",
      "Epoch 15/100\n",
      "279/279 - 1s - loss: 0.0030 - val_loss: 0.0029 - 837ms/epoch - 3ms/step\n",
      "Epoch 16/100\n",
      "279/279 - 1s - loss: 0.0033 - val_loss: 9.2557e-04 - 829ms/epoch - 3ms/step\n",
      "Epoch 17/100\n",
      "279/279 - 1s - loss: 0.0030 - val_loss: 8.6064e-04 - 823ms/epoch - 3ms/step\n",
      "Epoch 18/100\n",
      "279/279 - 1s - loss: 0.0030 - val_loss: 0.0031 - 836ms/epoch - 3ms/step\n",
      "Epoch 19/100\n",
      "279/279 - 1s - loss: 0.0029 - val_loss: 0.0012 - 909ms/epoch - 3ms/step\n",
      "Epoch 20/100\n",
      "279/279 - 1s - loss: 0.0030 - val_loss: 0.0023 - 837ms/epoch - 3ms/step\n",
      "Epoch 21/100\n",
      "279/279 - 1s - loss: 0.0031 - val_loss: 0.0017 - 827ms/epoch - 3ms/step\n",
      "Epoch 22/100\n",
      "279/279 - 1s - loss: 0.0031 - val_loss: 0.0012 - 844ms/epoch - 3ms/step\n",
      "Epoch 23/100\n",
      "279/279 - 1s - loss: 0.0030 - val_loss: 0.0013 - 861ms/epoch - 3ms/step\n",
      "Epoch 24/100\n",
      "279/279 - 1s - loss: 0.0031 - val_loss: 0.0018 - 836ms/epoch - 3ms/step\n",
      "Epoch 25/100\n",
      "279/279 - 1s - loss: 0.0029 - val_loss: 0.0017 - 794ms/epoch - 3ms/step\n",
      "Epoch 26/100\n",
      "279/279 - 1s - loss: 0.0027 - val_loss: 0.0018 - 809ms/epoch - 3ms/step\n",
      "Epoch 27/100\n",
      "279/279 - 1s - loss: 0.0031 - val_loss: 0.0018 - 820ms/epoch - 3ms/step\n",
      "Epoch 28/100\n",
      "279/279 - 1s - loss: 0.0027 - val_loss: 9.5572e-04 - 871ms/epoch - 3ms/step\n",
      "Epoch 29/100\n",
      "279/279 - 1s - loss: 0.0027 - val_loss: 8.8075e-04 - 853ms/epoch - 3ms/step\n",
      "Epoch 30/100\n",
      "279/279 - 1s - loss: 0.0027 - val_loss: 0.0010 - 860ms/epoch - 3ms/step\n",
      "Epoch 31/100\n",
      "279/279 - 1s - loss: 0.0026 - val_loss: 8.9328e-04 - 837ms/epoch - 3ms/step\n",
      "Epoch 32/100\n",
      "279/279 - 1s - loss: 0.0027 - val_loss: 7.8814e-04 - 868ms/epoch - 3ms/step\n",
      "Epoch 33/100\n",
      "279/279 - 1s - loss: 0.0028 - val_loss: 0.0012 - 814ms/epoch - 3ms/step\n",
      "Epoch 34/100\n",
      "279/279 - 1s - loss: 0.0029 - val_loss: 0.0015 - 819ms/epoch - 3ms/step\n",
      "Epoch 35/100\n",
      "279/279 - 1s - loss: 0.0028 - val_loss: 9.0421e-04 - 833ms/epoch - 3ms/step\n",
      "Epoch 36/100\n",
      "279/279 - 1s - loss: 0.0027 - val_loss: 0.0014 - 865ms/epoch - 3ms/step\n",
      "Epoch 37/100\n",
      "279/279 - 1s - loss: 0.0027 - val_loss: 8.4352e-04 - 837ms/epoch - 3ms/step\n",
      "Epoch 38/100\n",
      "279/279 - 1s - loss: 0.0027 - val_loss: 0.0014 - 827ms/epoch - 3ms/step\n",
      "Epoch 39/100\n",
      "279/279 - 1s - loss: 0.0024 - val_loss: 7.8925e-04 - 833ms/epoch - 3ms/step\n",
      "Epoch 40/100\n",
      "279/279 - 1s - loss: 0.0027 - val_loss: 0.0012 - 822ms/epoch - 3ms/step\n",
      "Epoch 41/100\n",
      "279/279 - 1s - loss: 0.0026 - val_loss: 0.0013 - 822ms/epoch - 3ms/step\n",
      "Epoch 42/100\n",
      "279/279 - 1s - loss: 0.0026 - val_loss: 6.9961e-04 - 816ms/epoch - 3ms/step\n",
      "Epoch 43/100\n",
      "279/279 - 1s - loss: 0.0026 - val_loss: 0.0014 - 816ms/epoch - 3ms/step\n",
      "Epoch 44/100\n",
      "279/279 - 1s - loss: 0.0026 - val_loss: 6.6476e-04 - 820ms/epoch - 3ms/step\n",
      "Epoch 45/100\n",
      "279/279 - 1s - loss: 0.0025 - val_loss: 6.1147e-04 - 810ms/epoch - 3ms/step\n",
      "Epoch 46/100\n",
      "279/279 - 1s - loss: 0.0026 - val_loss: 0.0017 - 824ms/epoch - 3ms/step\n",
      "Epoch 47/100\n",
      "279/279 - 1s - loss: 0.0024 - val_loss: 6.3429e-04 - 832ms/epoch - 3ms/step\n",
      "Epoch 48/100\n",
      "279/279 - 1s - loss: 0.0025 - val_loss: 9.1193e-04 - 825ms/epoch - 3ms/step\n",
      "Epoch 49/100\n",
      "279/279 - 1s - loss: 0.0025 - val_loss: 0.0020 - 811ms/epoch - 3ms/step\n",
      "Epoch 50/100\n",
      "279/279 - 1s - loss: 0.0026 - val_loss: 0.0019 - 821ms/epoch - 3ms/step\n",
      "Epoch 51/100\n",
      "279/279 - 1s - loss: 0.0026 - val_loss: 0.0011 - 826ms/epoch - 3ms/step\n",
      "Epoch 52/100\n",
      "279/279 - 1s - loss: 0.0024 - val_loss: 7.3855e-04 - 865ms/epoch - 3ms/step\n",
      "Epoch 53/100\n",
      "279/279 - 1s - loss: 0.0024 - val_loss: 7.3128e-04 - 825ms/epoch - 3ms/step\n",
      "Epoch 54/100\n",
      "279/279 - 1s - loss: 0.0024 - val_loss: 0.0015 - 798ms/epoch - 3ms/step\n",
      "Epoch 55/100\n",
      "279/279 - 1s - loss: 0.0024 - val_loss: 7.3420e-04 - 819ms/epoch - 3ms/step\n",
      "Epoch 56/100\n",
      "279/279 - 1s - loss: 0.0026 - val_loss: 7.6959e-04 - 804ms/epoch - 3ms/step\n",
      "Epoch 57/100\n",
      "279/279 - 1s - loss: 0.0024 - val_loss: 7.3434e-04 - 827ms/epoch - 3ms/step\n",
      "Epoch 58/100\n",
      "279/279 - 1s - loss: 0.0025 - val_loss: 0.0017 - 821ms/epoch - 3ms/step\n",
      "Epoch 59/100\n",
      "279/279 - 1s - loss: 0.0024 - val_loss: 6.8528e-04 - 837ms/epoch - 3ms/step\n",
      "Epoch 60/100\n",
      "279/279 - 1s - loss: 0.0023 - val_loss: 6.4882e-04 - 826ms/epoch - 3ms/step\n",
      "Epoch 61/100\n",
      "279/279 - 1s - loss: 0.0023 - val_loss: 8.2553e-04 - 819ms/epoch - 3ms/step\n",
      "Epoch 62/100\n",
      "279/279 - 1s - loss: 0.0024 - val_loss: 5.9239e-04 - 862ms/epoch - 3ms/step\n",
      "Epoch 63/100\n",
      "279/279 - 1s - loss: 0.0024 - val_loss: 8.5590e-04 - 835ms/epoch - 3ms/step\n",
      "Epoch 64/100\n",
      "279/279 - 1s - loss: 0.0024 - val_loss: 0.0016 - 831ms/epoch - 3ms/step\n",
      "Epoch 65/100\n",
      "279/279 - 1s - loss: 0.0024 - val_loss: 0.0015 - 809ms/epoch - 3ms/step\n",
      "Epoch 66/100\n",
      "279/279 - 1s - loss: 0.0023 - val_loss: 8.0506e-04 - 814ms/epoch - 3ms/step\n",
      "Epoch 67/100\n",
      "279/279 - 1s - loss: 0.0024 - val_loss: 0.0015 - 818ms/epoch - 3ms/step\n",
      "Epoch 68/100\n",
      "279/279 - 1s - loss: 0.0023 - val_loss: 0.0012 - 816ms/epoch - 3ms/step\n",
      "Epoch 69/100\n",
      "279/279 - 1s - loss: 0.0024 - val_loss: 8.4039e-04 - 816ms/epoch - 3ms/step\n",
      "Epoch 70/100\n",
      "279/279 - 1s - loss: 0.0023 - val_loss: 6.3936e-04 - 830ms/epoch - 3ms/step\n",
      "Epoch 71/100\n",
      "279/279 - 1s - loss: 0.0023 - val_loss: 0.0015 - 827ms/epoch - 3ms/step\n",
      "Epoch 72/100\n",
      "279/279 - 1s - loss: 0.0023 - val_loss: 7.3916e-04 - 819ms/epoch - 3ms/step\n",
      "Epoch 73/100\n",
      "279/279 - 1s - loss: 0.0023 - val_loss: 9.1985e-04 - 824ms/epoch - 3ms/step\n",
      "Epoch 74/100\n",
      "279/279 - 1s - loss: 0.0023 - val_loss: 8.3484e-04 - 817ms/epoch - 3ms/step\n",
      "Epoch 75/100\n",
      "279/279 - 1s - loss: 0.0023 - val_loss: 6.6043e-04 - 833ms/epoch - 3ms/step\n",
      "Epoch 76/100\n",
      "279/279 - 1s - loss: 0.0024 - val_loss: 6.0205e-04 - 885ms/epoch - 3ms/step\n",
      "Epoch 77/100\n",
      "279/279 - 1s - loss: 0.0022 - val_loss: 8.8177e-04 - 905ms/epoch - 3ms/step\n",
      "Epoch 78/100\n",
      "279/279 - 1s - loss: 0.0022 - val_loss: 9.0737e-04 - 821ms/epoch - 3ms/step\n",
      "Epoch 79/100\n",
      "279/279 - 1s - loss: 0.0023 - val_loss: 7.3485e-04 - 920ms/epoch - 3ms/step\n",
      "Epoch 80/100\n",
      "279/279 - 1s - loss: 0.0022 - val_loss: 7.5576e-04 - 807ms/epoch - 3ms/step\n",
      "Epoch 81/100\n",
      "279/279 - 1s - loss: 0.0022 - val_loss: 0.0010 - 808ms/epoch - 3ms/step\n",
      "Epoch 82/100\n",
      "279/279 - 1s - loss: 0.0023 - val_loss: 7.9970e-04 - 834ms/epoch - 3ms/step\n",
      "Epoch 83/100\n",
      "279/279 - 1s - loss: 0.0022 - val_loss: 6.0230e-04 - 830ms/epoch - 3ms/step\n",
      "Epoch 84/100\n",
      "279/279 - 1s - loss: 0.0023 - val_loss: 7.8825e-04 - 819ms/epoch - 3ms/step\n",
      "Epoch 85/100\n",
      "279/279 - 1s - loss: 0.0022 - val_loss: 0.0014 - 827ms/epoch - 3ms/step\n",
      "Epoch 86/100\n",
      "279/279 - 1s - loss: 0.0023 - val_loss: 0.0012 - 867ms/epoch - 3ms/step\n",
      "Epoch 87/100\n",
      "279/279 - 1s - loss: 0.0022 - val_loss: 5.9330e-04 - 869ms/epoch - 3ms/step\n",
      "Epoch 88/100\n",
      "279/279 - 1s - loss: 0.0022 - val_loss: 6.8488e-04 - 863ms/epoch - 3ms/step\n",
      "Epoch 89/100\n",
      "279/279 - 1s - loss: 0.0021 - val_loss: 0.0015 - 836ms/epoch - 3ms/step\n",
      "Epoch 90/100\n",
      "279/279 - 1s - loss: 0.0022 - val_loss: 6.7755e-04 - 825ms/epoch - 3ms/step\n",
      "Epoch 91/100\n",
      "279/279 - 1s - loss: 0.0023 - val_loss: 0.0019 - 833ms/epoch - 3ms/step\n",
      "Epoch 92/100\n",
      "279/279 - 1s - loss: 0.0023 - val_loss: 0.0011 - 845ms/epoch - 3ms/step\n",
      "Epoch 93/100\n",
      "279/279 - 1s - loss: 0.0022 - val_loss: 0.0020 - 912ms/epoch - 3ms/step\n",
      "Epoch 94/100\n",
      "279/279 - 1s - loss: 0.0022 - val_loss: 6.0214e-04 - 922ms/epoch - 3ms/step\n",
      "Epoch 95/100\n",
      "279/279 - 1s - loss: 0.0022 - val_loss: 0.0014 - 861ms/epoch - 3ms/step\n",
      "Epoch 96/100\n",
      "279/279 - 1s - loss: 0.0022 - val_loss: 0.0021 - 835ms/epoch - 3ms/step\n",
      "Epoch 97/100\n",
      "279/279 - 1s - loss: 0.0022 - val_loss: 0.0011 - 824ms/epoch - 3ms/step\n",
      "Epoch 98/100\n",
      "279/279 - 1s - loss: 0.0022 - val_loss: 7.9106e-04 - 845ms/epoch - 3ms/step\n",
      "Epoch 99/100\n",
      "279/279 - 1s - loss: 0.0022 - val_loss: 6.5426e-04 - 832ms/epoch - 3ms/step\n",
      "Epoch 100/100\n",
      "279/279 - 1s - loss: 0.0021 - val_loss: 5.9897e-04 - 869ms/epoch - 3ms/step\n"
     ]
    }
   ],
   "source": [
    "# input: 1 time step w/ 6 features\n",
    "# 1 hidden layer: 50 LSTM neurons\n",
    "# 1 output layer: predicts pollution\n",
    "# design network\n",
    "model = Sequential()\n",
    "model.add(LSTM(50, input_shape=(scaled_train_X.shape[1], scaled_train_X.shape[2])))\n",
    "# or\n",
    "# model.add(LSTM(50, input_shape=(n_hours, n_features)))\n",
    "model.add(Dense(1))\n",
    "model.compile(loss='mae', optimizer='adam')\n",
    "# fit network\n",
    "history = model.fit(scaled_train_X, scaled_train_y, epochs=100, batch_size=30, validation_data=(scaled_test_X, scaled_test_y), verbose=2, shuffle=False)"
   ]
  },
  {
   "cell_type": "code",
   "execution_count": 57,
   "id": "423196d3-b166-4ed5-827f-25e32129dc15",
   "metadata": {},
   "outputs": [
    {
     "data": {
      "image/png": "[encoded data removed]",
      "text/plain": [
       "<Figure size 640x480 with 1 Axes>"
      ]
     },
     "metadata": {},
     "output_type": "display_data"
    }
   ],
   "source": [
    "# plot history\n",
    "plt.plot(history.history['loss'], label='train')\n",
    "plt.plot(history.history['val_loss'], label='test')\n",
    "plt.legend()\n",
    "plt.show()"
   ]
  },
  {
   "cell_type": "markdown",
   "id": "8dfa91a7-609d-4dc7-b5bd-4ee13f2f01a1",
   "metadata": {},
   "source": [
    "## Make predictions"
   ]
  },
  {
   "cell_type": "code",
   "execution_count": 75,
   "id": "cf7b54a2-78f3-4d67-b5f5-555408dbff3c",
   "metadata": {},
   "outputs": [],
   "source": [
    "from sklearn.metrics import mean_squared_error"
   ]
  },
  {
   "cell_type": "code",
   "execution_count": 67,
   "id": "32036ea2-70ab-46de-ae64-678cb66d86e4",
   "metadata": {},
   "outputs": [
    {
     "name": "stdout",
     "output_type": "stream",
     "text": [
      "66/66 [==============================] - 0s 2ms/step\n"
     ]
    },
    {
     "data": {
      "text/plain": [
       "(2090, 1)"
      ]
     },
     "execution_count": 67,
     "metadata": {},
     "output_type": "execute_result"
    }
   ],
   "source": [
    "# make a prediction\n",
    "scaled_testYhat = model.predict(scaled_test_X)\n",
    "inv_test_X = scaled_test_X.reshape((scaled_test_X.shape[0], n_hours*n_features))\n",
    "scaled_testYhat.shape"
   ]
  },
  {
   "cell_type": "code",
   "execution_count": 68,
   "id": "82a47282-9c79-40f0-a039-6c68156848c3",
   "metadata": {},
   "outputs": [
    {
     "data": {
      "text/plain": [
       "(2090, 6)"
      ]
     },
     "execution_count": 68,
     "metadata": {},
     "output_type": "execute_result"
    }
   ],
   "source": [
    "# invert scaling for forecast\n",
    "testYhat = np.concatenate((inv_test_X[:, -6:-2], scaled_testYhat, inv_test_X[:, -1:]), axis=1)\n",
    "testYhat = scaler.inverse_transform(testYhat)\n",
    "testYhat.shape"
   ]
  },
  {
   "cell_type": "code",
   "execution_count": 74,
   "id": "61a0d02b-10fa-48b4-ba02-b871ac1de23c",
   "metadata": {},
   "outputs": [
    {
     "data": {
      "text/plain": [
       "(2090, 6)"
      ]
     },
     "execution_count": 74,
     "metadata": {},
     "output_type": "execute_result"
    }
   ],
   "source": [
    "# invert scaling for test_y\n",
    "scaled_test_y = scaled_test_y.values.reshape(-1, 1)\n",
    "testY = np.concatenate((inv_test_X[:, -6:-2], scaled_test_y, inv_test_X[:, -1:]), axis=1)\n",
    "testY = scaler.inverse_transform(testY)\n",
    "testY.shape"
   ]
  },
  {
   "cell_type": "code",
   "execution_count": 76,
   "id": "a0eb28d4-3993-4770-b2e0-1ba996f7691b",
   "metadata": {},
   "outputs": [
    {
     "name": "stdout",
     "output_type": "stream",
     "text": [
      "Test RMSE: 0.21160024382861944\n"
     ]
    }
   ],
   "source": [
    "# this is our prediction\n",
    "rain_hat = testYhat[:, -2]\n",
    "rain = testY[:, -2]\n",
    "\n",
    "# calculate RMSE\n",
    "rmse = np.sqrt(mean_squared_error(rain, rain_hat))\n",
    "print(f'Test RMSE: {rmse}')"
   ]
  },
  {
   "cell_type": "code",
   "execution_count": 90,
   "id": "df44a54f-4ad4-4155-bc59-9740ad8769e8",
   "metadata": {},
   "outputs": [
    {
     "data": {
      "text/plain": [
       "Text(0.5, 0, 'Date')"
      ]
     },
     "execution_count": 90,
     "metadata": {},
     "output_type": "execute_result"
    },
    {
     "data": {
      "image/png": "[encoded data removed]",
      "text/plain": [
       "<Figure size 640x480 with 1 Axes>"
      ]
     },
     "metadata": {},
     "output_type": "display_data"
    }
   ],
   "source": [
    "plt.plot(df.index[-test.shape[0]:], rain, label='data')\n",
    "plt.plot(df.index[-test.shape[0]:], rain_hat, label='prediction')\n",
    "plt.legend()\n",
    "plt.ylabel(labels['AA1'])\n",
    "plt.xlabel('Date')"
   ]
  },
  {
   "cell_type": "code",
   "execution_count": 95,
   "id": "eda35a30-2f38-40e5-bd5f-a4c7b4e5ab2e",
   "metadata": {},
   "outputs": [
    {
     "data": {
      "text/plain": [
       "[]"
      ]
     },
     "execution_count": 95,
     "metadata": {},
     "output_type": "execute_result"
    },
    {
     "data": {
      "image/png": "[encoded data removed]",
      "text/plain": [
       "<Figure size 640x480 with 1 Axes>"
      ]
     },
     "metadata": {},
     "output_type": "display_data"
    }
   ],
   "source": [
    "# zoom into\n",
    "plt.plot(df.index[-test.shape[0]:], rain, label='data')\n",
    "plt.plot(df.index[-test.shape[0]:], rain_hat, label='prediction')\n",
    "plt.legend()\n",
    "plt.ylabel(labels['AA1'])\n",
    "plt.xlabel('Date')\n",
    "plt.xticks(rotation=70)\n",
    "plt.xlim(pd.Timestamp('2023-12-18T12'), pd.Timestamp('2023-12-20T12'))"
   ]
  },
  {
   "cell_type": "markdown",
   "id": "8ffac246-f523-4c6c-a1e6-067e59ca12be",
   "metadata": {},
   "source": [
    "## Conclusion\n",
    "\n",
    "The results are a bit wiggly.\n",
    "I think that is becuase it would need more training data.\n",
    "The precipitation is kinda hard to predict as there aren't those many non-zero values.\n",
    "Overall, the results give a low RMSE and the models performs okay."
   ]
  }
 ],
 "metadata": {
  "kernelspec": {
   "display_name": "Python 3 (ipykernel)",
   "language": "python",
   "name": "python3"
  },
  "language_info": {
   "codemirror_mode": {
    "name": "ipython",
    "version": 3
   },
   "file_extension": ".py",
   "mimetype": "text/x-python",
   "name": "python",
   "nbconvert_exporter": "python",
   "pygments_lexer": "ipython3",
   "version": "3.9.18"
  }
 },
 "nbformat": 4,
 "nbformat_minor": 5
}
