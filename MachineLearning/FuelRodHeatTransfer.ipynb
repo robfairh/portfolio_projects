{
 "cells": [
  {
   "cell_type": "markdown",
   "id": "9b81e3a9-50a2-4b68-beb8-5cb3a6f1530b",
   "metadata": {},
   "source": [
    "# Data Description\n",
    "\n",
    "This exercise studies the prediction of the maximum temperature in a nuclear fuel rod based on several input features.\n",
    "The model neglects the helium gap and cladding regions.\n",
    "The data is generated via the perturbation of the input features.\n",
    "Additionally, a noise correction (step function) is applied to the data.\n",
    "\n",
    "#### Input:\n",
    "* qprime: linear heat generation rate [W/m]\n",
    "* mdot: mass flow rate [g/s]\n",
    "* Tin: temperature at fuel boundary [K]\n",
    "* R: fuel radius [m]\n",
    "* L: fuel length [m]\n",
    "* cp: heat capacity [J/g/K]\n",
    "* k: thermal conductivity [W/m/K]\n",
    "\n",
    "#### Output:\n",
    "* T: fuel centerline or Tmax [K]"
   ]
  },
  {
   "cell_type": "markdown",
   "id": "bd369f99-f25c-402a-99bf-795b3e89cfa2",
   "metadata": {},
   "source": [
    "## EDA"
   ]
  },
  {
   "cell_type": "code",
   "execution_count": 51,
   "id": "6f297370-c970-42b5-92ba-c328670d66ae",
   "metadata": {},
   "outputs": [],
   "source": [
    "import pandas as pd\n",
    "import matplotlib.pyplot as plt"
   ]
  },
  {
   "cell_type": "code",
   "execution_count": 2,
   "id": "9be21290-83b4-4cc2-82db-28ecf364f859",
   "metadata": {},
   "outputs": [
    {
     "data": {
      "text/html": [
       "<div>\n",
       "<style scoped>\n",
       "    .dataframe tbody tr th:only-of-type {\n",
       "        vertical-align: middle;\n",
       "    }\n",
       "\n",
       "    .dataframe tbody tr th {\n",
       "        vertical-align: top;\n",
       "    }\n",
       "\n",
       "    .dataframe thead th {\n",
       "        text-align: right;\n",
       "    }\n",
       "</style>\n",
       "<table border=\"1\" class=\"dataframe\">\n",
       "  <thead>\n",
       "    <tr style=\"text-align: right;\">\n",
       "      <th></th>\n",
       "      <th>qprime</th>\n",
       "      <th>mdot</th>\n",
       "      <th>Tin</th>\n",
       "      <th>R</th>\n",
       "      <th>L</th>\n",
       "      <th>Cp</th>\n",
       "      <th>k</th>\n",
       "      <th>T</th>\n",
       "    </tr>\n",
       "  </thead>\n",
       "  <tbody>\n",
       "    <tr>\n",
       "      <th>0</th>\n",
       "      <td>35987.992759</td>\n",
       "      <td>206.185816</td>\n",
       "      <td>573.151869</td>\n",
       "      <td>0.004901</td>\n",
       "      <td>3.448155</td>\n",
       "      <td>4.096140</td>\n",
       "      <td>0.960945</td>\n",
       "      <td>1034.133784</td>\n",
       "    </tr>\n",
       "    <tr>\n",
       "      <th>1</th>\n",
       "      <td>38481.055798</td>\n",
       "      <td>192.378974</td>\n",
       "      <td>573.150960</td>\n",
       "      <td>0.004966</td>\n",
       "      <td>3.436833</td>\n",
       "      <td>4.249182</td>\n",
       "      <td>1.011272</td>\n",
       "      <td>1170.316042</td>\n",
       "    </tr>\n",
       "    <tr>\n",
       "      <th>2</th>\n",
       "      <td>39143.292108</td>\n",
       "      <td>205.076928</td>\n",
       "      <td>573.153975</td>\n",
       "      <td>0.005210</td>\n",
       "      <td>3.681457</td>\n",
       "      <td>4.237540</td>\n",
       "      <td>0.994646</td>\n",
       "      <td>1164.893565</td>\n",
       "    </tr>\n",
       "    <tr>\n",
       "      <th>3</th>\n",
       "      <td>38687.579644</td>\n",
       "      <td>199.594924</td>\n",
       "      <td>573.150777</td>\n",
       "      <td>0.004864</td>\n",
       "      <td>3.624594</td>\n",
       "      <td>4.158921</td>\n",
       "      <td>1.028158</td>\n",
       "      <td>1205.250040</td>\n",
       "    </tr>\n",
       "    <tr>\n",
       "      <th>4</th>\n",
       "      <td>40469.561181</td>\n",
       "      <td>194.142084</td>\n",
       "      <td>573.150977</td>\n",
       "      <td>0.004914</td>\n",
       "      <td>3.731222</td>\n",
       "      <td>4.244278</td>\n",
       "      <td>1.018738</td>\n",
       "      <td>1444.718666</td>\n",
       "    </tr>\n",
       "  </tbody>\n",
       "</table>\n",
       "</div>"
      ],
      "text/plain": [
       "         qprime        mdot         Tin         R         L        Cp  \\\n",
       "0  35987.992759  206.185816  573.151869  0.004901  3.448155  4.096140   \n",
       "1  38481.055798  192.378974  573.150960  0.004966  3.436833  4.249182   \n",
       "2  39143.292108  205.076928  573.153975  0.005210  3.681457  4.237540   \n",
       "3  38687.579644  199.594924  573.150777  0.004864  3.624594  4.158921   \n",
       "4  40469.561181  194.142084  573.150977  0.004914  3.731222  4.244278   \n",
       "\n",
       "          k            T  \n",
       "0  0.960945  1034.133784  \n",
       "1  1.011272  1170.316042  \n",
       "2  0.994646  1164.893565  \n",
       "3  1.028158  1205.250040  \n",
       "4  1.018738  1444.718666  "
      ]
     },
     "execution_count": 2,
     "metadata": {},
     "output_type": "execute_result"
    }
   ],
   "source": [
    "data = pd.read_csv('heat.csv')\n",
    "data.head()"
   ]
  },
  {
   "cell_type": "code",
   "execution_count": 3,
   "id": "f072a65e-ff6b-403f-9a65-fef9ee3109a9",
   "metadata": {},
   "outputs": [
    {
     "data": {
      "text/plain": [
       "(1000, 8)"
      ]
     },
     "execution_count": 3,
     "metadata": {},
     "output_type": "execute_result"
    }
   ],
   "source": [
    "data.shape"
   ]
  },
  {
   "cell_type": "code",
   "execution_count": 20,
   "id": "654e5f83-e3c1-498c-91dc-7e7ca61f45fc",
   "metadata": {},
   "outputs": [
    {
     "data": {
      "text/plain": [
       "<AxesSubplot:xlabel='qprime', ylabel='T'>"
      ]
     },
     "execution_count": 20,
     "metadata": {},
     "output_type": "execute_result"
    },
    {
     "data": {
      "image/png": "[encoded data removed]",
      "text/plain": [
       "<Figure size 400x300 with 1 Axes>"
      ]
     },
     "metadata": {},
     "output_type": "display_data"
    }
   ],
   "source": [
    "data.plot.scatter(x='qprime', y='T', figsize=(4, 3))"
   ]
  },
  {
   "cell_type": "code",
   "execution_count": 21,
   "id": "9e02558e-2ea9-4a00-a1d7-b4133dade04b",
   "metadata": {},
   "outputs": [
    {
     "data": {
      "text/plain": [
       "<AxesSubplot:xlabel='mdot', ylabel='T'>"
      ]
     },
     "execution_count": 21,
     "metadata": {},
     "output_type": "execute_result"
    },
    {
     "data": {
      "image/png": "[encoded data removed]",
      "text/plain": [
       "<Figure size 400x300 with 1 Axes>"
      ]
     },
     "metadata": {},
     "output_type": "display_data"
    }
   ],
   "source": [
    "data.plot.scatter(x='mdot', y='T', figsize=(4, 3))"
   ]
  },
  {
   "cell_type": "code",
   "execution_count": 22,
   "id": "29170388-d5c6-4b8d-b443-911a828dd913",
   "metadata": {},
   "outputs": [
    {
     "data": {
      "text/plain": [
       "<AxesSubplot:xlabel='Tin', ylabel='T'>"
      ]
     },
     "execution_count": 22,
     "metadata": {},
     "output_type": "execute_result"
    },
    {
     "data": {
      "image/png": "[encoded data removed]",
      "text/plain": [
       "<Figure size 400x300 with 1 Axes>"
      ]
     },
     "metadata": {},
     "output_type": "display_data"
    }
   ],
   "source": [
    "data.plot.scatter(x='Tin', y='T', figsize=(4, 3))"
   ]
  },
  {
   "cell_type": "markdown",
   "id": "c1dca4bd-7895-4e23-9dd3-578f572362c3",
   "metadata": {},
   "source": [
    "Data were affected by a step function that can be clearly seen in the figures above."
   ]
  },
  {
   "cell_type": "markdown",
   "id": "90aa3580-aafb-48d5-b621-e9224857a5bc",
   "metadata": {},
   "source": [
    "## Train/Test Models"
   ]
  },
  {
   "cell_type": "code",
   "execution_count": 61,
   "id": "10fea2f9-bf14-4a9b-838b-7cc432808a5e",
   "metadata": {},
   "outputs": [],
   "source": [
    "from sklearn.preprocessing import StandardScaler"
   ]
  },
  {
   "cell_type": "code",
   "execution_count": 24,
   "id": "401d0adf-221a-45bc-adfe-e005ba384479",
   "metadata": {},
   "outputs": [],
   "source": [
    "X = data[data.columns[:-1]]  # all columns but T\n",
    "Y = data[['T']]"
   ]
  },
  {
   "cell_type": "code",
   "execution_count": 38,
   "id": "2ae64732-632d-4e31-adc6-9294887ed35e",
   "metadata": {},
   "outputs": [],
   "source": [
    "# here we assume that the data was randomly generated\n",
    "xtrain = X.loc[:899]\n",
    "xtest = X.loc[900:]\n",
    "\n",
    "ytrain = Y.loc[:899]\n",
    "ytest = Y.loc[900:]"
   ]
  },
  {
   "cell_type": "code",
   "execution_count": 41,
   "id": "f3c478d2-4f9f-4b7f-b228-ccbc293da9d2",
   "metadata": {},
   "outputs": [],
   "source": [
    "# Scale data\n",
    "xscaler = StandardScaler()\n",
    "Xtrain = xscaler.fit_transform(xtrain)\n",
    "Xtest = xscaler.transform(xtest)\n",
    "\n",
    "yscaler = StandardScaler()\n",
    "Ytrain = yscaler.fit_transform(ytrain)\n",
    "Ytest = yscaler.transform(ytest)"
   ]
  },
  {
   "cell_type": "markdown",
   "id": "111f0aa8-81b8-4f51-84fa-f166e7e57acf",
   "metadata": {},
   "source": [
    "### Random Forest"
   ]
  },
  {
   "cell_type": "code",
   "execution_count": 66,
   "id": "6c2211e1-06d9-4b41-b7f3-f1cd2d2e3796",
   "metadata": {},
   "outputs": [],
   "source": [
    "from sklearn.ensemble import RandomForestRegressor\n",
    "from sklearn.metrics import r2_score, mean_absolute_error"
   ]
  },
  {
   "cell_type": "code",
   "execution_count": 50,
   "id": "691e5eb3-db9e-4a70-91aa-8cac006e4e1c",
   "metadata": {},
   "outputs": [
    {
     "data": {
      "text/plain": [
       "0.9962553096896379"
      ]
     },
     "execution_count": 50,
     "metadata": {},
     "output_type": "execute_result"
    }
   ],
   "source": [
    "rf_model = RandomForestRegressor(max_features=6, random_state=1)\n",
    "rf_model.fit(Xtrain, Ytrain.reshape(-1,))\n",
    "rf_model.score(Xtest, Ytest)"
   ]
  },
  {
   "cell_type": "code",
   "execution_count": 63,
   "id": "adade086-1762-49fd-9dd2-f72e211ec00f",
   "metadata": {},
   "outputs": [
    {
     "data": {
      "text/plain": [
       "7.270862611440741"
      ]
     },
     "execution_count": 63,
     "metadata": {},
     "output_type": "execute_result"
    }
   ],
   "source": [
    "Ypred1 = rf_model.predict(Xtest)\n",
    "Yreal1 = yscaler.inverse_transform(Ypred1.reshape(-1, 1))\n",
    "mean_absolute_error(ytest, Yreal1)"
   ]
  },
  {
   "cell_type": "code",
   "execution_count": 59,
   "id": "651fe608-fba5-4705-adb8-21c38d3c3292",
   "metadata": {},
   "outputs": [
    {
     "data": {
      "text/plain": [
       "<BarContainer object of 7 artists>"
      ]
     },
     "execution_count": 59,
     "metadata": {},
     "output_type": "execute_result"
    },
    {
     "data": {
      "image/png": "[encoded data removed]",
      "text/plain": [
       "<Figure size 500x300 with 1 Axes>"
      ]
     },
     "metadata": {},
     "output_type": "display_data"
    }
   ],
   "source": [
    "plt.figure(figsize=(5, 3))\n",
    "plt.barh(data.columns[:7], rf_model.feature_importances_)"
   ]
  },
  {
   "cell_type": "markdown",
   "id": "e8be8a30-85f7-419d-999b-c1d3ca2ce914",
   "metadata": {},
   "source": [
    "### SVM"
   ]
  },
  {
   "cell_type": "code",
   "execution_count": 65,
   "id": "121241c7-391c-4228-8397-e929a1b11e2b",
   "metadata": {},
   "outputs": [],
   "source": [
    "from sklearn.svm import SVR"
   ]
  },
  {
   "cell_type": "code",
   "execution_count": 67,
   "id": "bd3f8c06-7a9e-47e8-b51d-7a4bf32a575c",
   "metadata": {},
   "outputs": [
    {
     "data": {
      "text/plain": [
       "0.873558584613678"
      ]
     },
     "execution_count": 67,
     "metadata": {},
     "output_type": "execute_result"
    }
   ],
   "source": [
    "svm_model = SVR(kernel='rbf', C=1.1, epsilon=0.2)\n",
    "svm_model.fit(Xtrain, Ytrain.reshape(-1,))\n",
    "svm_model.score(Xtest,Ytest)"
   ]
  },
  {
   "cell_type": "code",
   "execution_count": 68,
   "id": "1599815c-c849-4ad3-abb0-9d211fabbe39",
   "metadata": {},
   "outputs": [
    {
     "data": {
      "text/plain": [
       "44.67176364348681"
      ]
     },
     "execution_count": 68,
     "metadata": {},
     "output_type": "execute_result"
    }
   ],
   "source": [
    "Ypred2 = svm_model.predict(Xtest)\n",
    "Yreal2 = yscaler.inverse_transform(Ypred2.reshape(-1, 1))\n",
    "mean_absolute_error(ytest, Yreal2)"
   ]
  },
  {
   "cell_type": "markdown",
   "id": "93f6f0af-11c0-48f4-9ce5-afbed31b228d",
   "metadata": {},
   "source": [
    "### LR"
   ]
  },
  {
   "cell_type": "code",
   "execution_count": 69,
   "id": "72f800b6-208d-4cf9-8662-98904dd77b73",
   "metadata": {},
   "outputs": [],
   "source": [
    "from sklearn.linear_model import LinearRegression"
   ]
  },
  {
   "cell_type": "code",
   "execution_count": 71,
   "id": "3875ea28-89c1-4d8b-8b4e-2c09cbc92f66",
   "metadata": {},
   "outputs": [
    {
     "data": {
      "text/plain": [
       "0.8396003824699714"
      ]
     },
     "execution_count": 71,
     "metadata": {},
     "output_type": "execute_result"
    }
   ],
   "source": [
    "lr_model = LinearRegression()\n",
    "lr_model.fit(Xtrain, Ytrain)\n",
    "lr_model.score(Xtest, Ytest)"
   ]
  },
  {
   "cell_type": "code",
   "execution_count": 72,
   "id": "7107a96b-726f-42a0-a626-90f8c6e63b13",
   "metadata": {},
   "outputs": [
    {
     "data": {
      "text/plain": [
       "52.953821105579934"
      ]
     },
     "execution_count": 72,
     "metadata": {},
     "output_type": "execute_result"
    }
   ],
   "source": [
    "Ypred3 = lr_model.predict(Xtest)\n",
    "Yreal3 = yscaler.inverse_transform(Ypred3)\n",
    "mean_absolute_error(ytest, Yreal3)"
   ]
  },
  {
   "cell_type": "markdown",
   "id": "7c4711b3-0cec-4084-addc-2ac3bdf0f732",
   "metadata": {},
   "source": [
    "### FNN"
   ]
  },
  {
   "cell_type": "code",
   "execution_count": 75,
   "id": "614f4e40-ca1b-4aaa-b1da-d7058c382354",
   "metadata": {},
   "outputs": [],
   "source": [
    "import os\n",
    "os.environ['TF_CPP_MIN_LOG_LEVEL'] = '1' \n",
    "from tensorflow.keras.models import Sequential\n",
    "from tensorflow.keras.layers import Dense\n",
    "from tensorflow.keras.optimizers import Adam"
   ]
  },
  {
   "cell_type": "code",
   "execution_count": 76,
   "id": "b37cca30-1cab-472d-929e-112fa4fa3d99",
   "metadata": {},
   "outputs": [
    {
     "name": "stdout",
     "output_type": "stream",
     "text": [
      "Model: \"sequential_1\"\n",
      "_________________________________________________________________\n",
      " Layer (type)                Output Shape              Param #   \n",
      "=================================================================\n",
      " dense_4 (Dense)             (None, 100)               800       \n",
      "                                                                 \n",
      " dense_5 (Dense)             (None, 50)                5050      \n",
      "                                                                 \n",
      " dense_6 (Dense)             (None, 25)                1275      \n",
      "                                                                 \n",
      " dense_7 (Dense)             (None, 1)                 26        \n",
      "                                                                 \n",
      "=================================================================\n",
      "Total params: 7,151\n",
      "Trainable params: 7,151\n",
      "Non-trainable params: 0\n",
      "_________________________________________________________________\n"
     ]
    }
   ],
   "source": [
    "model = Sequential()\n",
    "\n",
    "model.add(Dense(100, activation='relu', input_dim = Xtrain.shape[1]))\n",
    "model.add(Dense(50, activation='relu'))\n",
    "model.add(Dense(25, activation='relu'))\n",
    "model.add(Dense(1, activation='linear'))\n",
    "                \n",
    "model.compile(loss='mean_absolute_error', optimizer=Adam(learning_rate=5e-4), metrics=['mean_absolute_error'])\n",
    "model.summary()\n",
    "\n",
    "history = model.fit(Xtrain, Ytrain, epochs=100, batch_size=32, validation_split=0.15, verbose=False)"
   ]
  },
  {
   "cell_type": "code",
   "execution_count": 78,
   "id": "d7a0b794-d528-4a85-b3f5-6cf910b4df1f",
   "metadata": {},
   "outputs": [
    {
     "name": "stdout",
     "output_type": "stream",
     "text": [
      "4/4 [==============================] - 0s 2ms/step\n"
     ]
    },
    {
     "data": {
      "text/plain": [
       "0.9832969385966163"
      ]
     },
     "execution_count": 78,
     "metadata": {},
     "output_type": "execute_result"
    }
   ],
   "source": [
    "Ypred4 = model.predict(Xtest)\n",
    "r2_score(Ytest, Ypred4)"
   ]
  },
  {
   "cell_type": "code",
   "execution_count": 79,
   "id": "942e6e6d-f3f1-4971-9a1f-81ffd2136ca3",
   "metadata": {},
   "outputs": [
    {
     "name": "stdout",
     "output_type": "stream",
     "text": [
      "9.679899330681337\n"
     ]
    }
   ],
   "source": [
    "Yreal4 = yscaler.inverse_transform(Ypred4)\n",
    "print(mean_absolute_error(ytest, Yreal4))"
   ]
  }
 ],
 "metadata": {
  "kernelspec": {
   "display_name": "Python 3 (ipykernel)",
   "language": "python",
   "name": "python3"
  },
  "language_info": {
   "codemirror_mode": {
    "name": "ipython",
    "version": 3
   },
   "file_extension": ".py",
   "mimetype": "text/x-python",
   "name": "python",
   "nbconvert_exporter": "python",
   "pygments_lexer": "ipython3",
   "version": "3.9.18"
  }
 },
 "nbformat": 4,
 "nbformat_minor": 5
}
