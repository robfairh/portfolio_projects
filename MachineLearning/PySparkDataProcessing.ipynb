{
 "cells": [
  {
   "cell_type": "markdown",
   "id": "742b4576-00e8-49c8-b71f-c710fd7e8d78",
   "metadata": {},
   "source": [
    "# Introduction to PySpark"
   ]
  },
  {
   "cell_type": "markdown",
   "id": "58018863-4a0d-4253-86ee-cd21e240146b",
   "metadata": {},
   "source": [
    "**Hadoop** is an open source project that became the dominant processing toolkit for big data. <br />\n",
    "**Hadoop** consists of a file system (Hadoop Distributed File System or HDFS) and its own implementation\n",
    "of MapReduce. <br />\n",
    "MapReduce is a programming model and an associated implementation for processing and generating big data\n",
    "sets with a parallel, distributed algorithm on a cluster. <br />\n",
    "A limitation of **Hadoop** is that it uses storage instead of memory, making it slow. <br />\n",
    "**Spark** uses distributed, in-memory data structures to accelerate the data processing. <br />\n",
    "There is debate, however, on which one is better. <br />\n",
    "**Hadoop** is good at batch processing of large datasets, data warehousing, and exploratory data analysis. <br />\n",
    "**Spark** is good at real-time analytics, interactive data exploration, and iterative algorithms. <br />\n",
    "On this tutorial, we will focus on the latter using **PySpark**.\n",
    "\n",
    "\n",
    "**PySpark** produces RDDs, which stands for Resilient Distributed Datasets, that are immutable collections of objects.\n"
   ]
  },
  {
   "cell_type": "code",
   "execution_count": 15,
   "id": "2bd5b494-f051-47aa-81d4-194ddf5c2592",
   "metadata": {},
   "outputs": [],
   "source": [
    "import numpy as np\n",
    "import pandas as pd\n",
    "import matplotlib.pyplot as plt"
   ]
  },
  {
   "cell_type": "markdown",
   "id": "399fc38c-bc72-4d65-995e-aa2031b29bf6",
   "metadata": {},
   "source": [
    "## CSV Processing\n",
    "\n",
    "Some analysis comes from an online tutorial. <br />\n",
    "I don't recall exactly from which website, maybe DataCamp.\n",
    "\n",
    "Dataset downloaded from [kaggle](https://www.kaggle.com/datasets/fivethirtyeight/fivethirtyeight-daily-show-guests-dataset?resource=download).\n",
    "\n",
    "We deal with the .csv as if it was text."
   ]
  },
  {
   "cell_type": "code",
   "execution_count": 7,
   "id": "99f52228-20dd-4e5c-80e8-b9cdf3d90b23",
   "metadata": {},
   "outputs": [],
   "source": [
    "from pyspark.context import SparkContext\n",
    "\n",
    "sc = SparkContext('local', 'intro_to_spark')\n",
    "sc.setLogLevel(\"OFF\")"
   ]
  },
  {
   "cell_type": "code",
   "execution_count": 11,
   "id": "924c4a94-9cef-4fc3-a8d8-4d96046d5528",
   "metadata": {},
   "outputs": [
    {
     "data": {
      "text/plain": [
       "['YEAR,GoogleKnowlege_Occupation,Show,Group,Raw_Guest_List',\n",
       " '1999,actor,1/11/99,Acting,Michael J. Fox',\n",
       " '1999,Comedian,1/12/99,Comedy,Sandra Bernhard',\n",
       " '1999,television actress,1/13/99,Acting,Tracey Ullman',\n",
       " '1999,film actress,1/14/99,Acting,Gillian Anderson']"
      ]
     },
     "execution_count": 11,
     "metadata": {},
     "output_type": "execute_result"
    }
   ],
   "source": [
    "raw_data = sc.textFile(name=\"NonUploadedData/daily_show_guests.csv\")\n",
    "raw_data.take(5)"
   ]
  },
  {
   "cell_type": "markdown",
   "id": "241ebedd-66a1-424d-ac67-47742d159846",
   "metadata": {},
   "source": [
    "We now need to create a new object as RDD objects are immutable. <br />\n",
    "Once we have created them, we can't change their values."
   ]
  },
  {
   "cell_type": "code",
   "execution_count": 12,
   "id": "dd9f3b51-2dd0-416d-b670-40d193e15336",
   "metadata": {},
   "outputs": [
    {
     "data": {
      "text/plain": [
       "[['YEAR', 'GoogleKnowlege_Occupation', 'Show', 'Group', 'Raw_Guest_List'],\n",
       " ['1999', 'actor', '1/11/99', 'Acting', 'Michael J. Fox'],\n",
       " ['1999', 'Comedian', '1/12/99', 'Comedy', 'Sandra Bernhard'],\n",
       " ['1999', 'television actress', '1/13/99', 'Acting', 'Tracey Ullman'],\n",
       " ['1999', 'film actress', '1/14/99', 'Acting', 'Gillian Anderson']]"
      ]
     },
     "execution_count": 12,
     "metadata": {},
     "output_type": "execute_result"
    }
   ],
   "source": [
    "daily_show = raw_data.map(lambda line: line.split(','))\n",
    "daily_show.take(5)"
   ]
  },
  {
   "cell_type": "code",
   "execution_count": 14,
   "id": "5742333c-ecb1-40a6-86d3-1939efdd6878",
   "metadata": {},
   "outputs": [
    {
     "data": {
      "text/plain": [
       "[('YEAR', 1),\n",
       " ('1999', 166),\n",
       " ('2000', 169),\n",
       " ('2001', 157),\n",
       " ('2002', 159),\n",
       " ('2003', 166),\n",
       " ('2004', 164),\n",
       " ('2005', 162),\n",
       " ('2006', 161),\n",
       " ('2007', 141),\n",
       " ('2008', 164),\n",
       " ('2009', 163),\n",
       " ('2010', 165),\n",
       " ('2011', 163),\n",
       " ('2012', 164),\n",
       " ('2013', 166),\n",
       " ('2014', 163),\n",
       " ('2015', 100)]"
      ]
     },
     "execution_count": 14,
     "metadata": {},
     "output_type": "execute_result"
    }
   ],
   "source": [
    "# tally the number of guests each year\n",
    "tally = daily_show.map(lambda x: (x[0], 1)).reduceByKey(lambda x,y: x+y)\n",
    "tally.take(tally.count())  # tally.count() is similar to python len(tally)"
   ]
  },
  {
   "cell_type": "code",
   "execution_count": 15,
   "id": "c7176576-d6be-40e2-ade6-ab5fc632c07c",
   "metadata": {},
   "outputs": [
    {
     "data": {
      "text/plain": [
       "[['1999', 'actor', '1/11/99', 'Acting', 'Michael J. Fox'],\n",
       " ['1999', 'Comedian', '1/12/99', 'Comedy', 'Sandra Bernhard'],\n",
       " ['1999', 'television actress', '1/13/99', 'Acting', 'Tracey Ullman'],\n",
       " ['1999', 'film actress', '1/14/99', 'Acting', 'Gillian Anderson'],\n",
       " ['1999', 'actor', '1/18/99', 'Acting', 'David Alan Grier']]"
      ]
     },
     "execution_count": 15,
     "metadata": {},
     "output_type": "execute_result"
    }
   ],
   "source": [
    "# remove the header\n",
    "def filter_header(line):\n",
    "    if 'YEAR' not in line[0]:\n",
    "        return True\n",
    "\n",
    "filtered_daily_show = daily_show.filter(lambda line: filter_header(line))\n",
    "filtered_daily_show.take(5)"
   ]
  },
  {
   "cell_type": "code",
   "execution_count": 16,
   "id": "e75e8476-8b7a-4226-b2d9-8513e4d49d24",
   "metadata": {},
   "outputs": [
    {
     "data": {
      "text/plain": [
       "[('actor', 596),\n",
       " ('comedian', 103),\n",
       " ('television actress', 13),\n",
       " ('film actress', 21),\n",
       " ('singer-lyricist', 2)]"
      ]
     },
     "execution_count": 16,
     "metadata": {},
     "output_type": "execute_result"
    }
   ],
   "source": [
    "# the following:\n",
    "# - filters out professions for which the occupation is blank\n",
    "# - lowercases each profession\n",
    "# - generates a histogram of professions\n",
    "filtered_daily_show.filter(lambda line: line[1] != '') \\\n",
    "                   .map(lambda line: (line[1].lower(), 1)) \\\n",
    "                   .reduceByKey(lambda x,y: x+y) \\\n",
    "                   .take(5)"
   ]
  },
  {
   "cell_type": "code",
   "execution_count": 17,
   "id": "130fd1b0-9d49-4f5f-aace-6970301cea19",
   "metadata": {},
   "outputs": [],
   "source": [
    "sc.stop()"
   ]
  },
  {
   "cell_type": "markdown",
   "id": "39e85b44-81c5-486a-90df-1f961930bd72",
   "metadata": {},
   "source": [
    "# JSON File processing"
   ]
  },
  {
   "cell_type": "code",
   "execution_count": 35,
   "id": "d3a8da3d-87c3-4ed3-b68d-169de98b8367",
   "metadata": {},
   "outputs": [],
   "source": [
    "from pyspark.context import SparkContext\n",
    "\n",
    "sc = SparkContext('local', 'intro_to_spark')\n",
    "sc.setLogLevel(\"OFF\")"
   ]
  },
  {
   "cell_type": "code",
   "execution_count": 37,
   "id": "8a005d7f-9d87-464d-9fc4-90fe20dd297c",
   "metadata": {},
   "outputs": [
    {
     "data": {
      "text/plain": [
       "['{\"females\": 1994141, \"total\": 4079669, \"males\": 2085528, \"age\": 0, \"year\": 2010}',\n",
       " '{\"females\": 1997991, \"total\": 4085341, \"males\": 2087350, \"age\": 1, \"year\": 2010}',\n",
       " '{\"females\": 2000746, \"total\": 4089295, \"males\": 2088549, \"age\": 2, \"year\": 2010}',\n",
       " '{\"females\": 2002756, \"total\": 4092221, \"males\": 2089465, \"age\": 3, \"year\": 2010}']"
      ]
     },
     "execution_count": 37,
     "metadata": {},
     "output_type": "execute_result"
    }
   ],
   "source": [
    "raw_census = sc.textFile(name=\"NonUploadedData/census_2010.json\")\n",
    "raw_census.take(4)"
   ]
  },
  {
   "cell_type": "code",
   "execution_count": 38,
   "id": "668acffe-8f73-4247-b1d2-c5ac119b7c93",
   "metadata": {},
   "outputs": [],
   "source": [
    "sc.stop()"
   ]
  },
  {
   "cell_type": "code",
   "execution_count": 66,
   "id": "27d425fe-786b-4cfb-abf4-c0544a3cdea7",
   "metadata": {},
   "outputs": [],
   "source": [
    "# now let's read it using SQLContext. SQLContext is being deprecated, replacing with SparkSession."
   ]
  },
  {
   "cell_type": "code",
   "execution_count": 67,
   "id": "87e3d5ac-74f1-495d-b349-ba17db462385",
   "metadata": {},
   "outputs": [],
   "source": [
    "from pyspark.sql import SparkSession\n",
    "\n",
    "spark = SparkSession.builder.appName('intro_to_spark').getOrCreate()"
   ]
  },
  {
   "cell_type": "code",
   "execution_count": 68,
   "id": "737460de-9038-47ca-8ff6-569a865b4aa7",
   "metadata": {},
   "outputs": [
    {
     "name": "stdout",
     "output_type": "stream",
     "text": [
      "root\n",
      " |-- age: long (nullable = true)\n",
      " |-- females: long (nullable = true)\n",
      " |-- males: long (nullable = true)\n",
      " |-- total: long (nullable = true)\n",
      " |-- year: long (nullable = true)\n",
      "\n"
     ]
    }
   ],
   "source": [
    "df = spark.read.json(\"NonUploadedData/census_2010.json\")\n",
    "df.printSchema()"
   ]
  },
  {
   "cell_type": "code",
   "execution_count": 69,
   "id": "8d238c1e-8c62-420f-8fc1-8ae21d406ac5",
   "metadata": {},
   "outputs": [
    {
     "name": "stdout",
     "output_type": "stream",
     "text": [
      "+---+-------+-------+-------+----+\n",
      "|age|females|  males|  total|year|\n",
      "+---+-------+-------+-------+----+\n",
      "|  0|1994141|2085528|4079669|2010|\n",
      "|  1|1997991|2087350|4085341|2010|\n",
      "|  2|2000746|2088549|4089295|2010|\n",
      "|  3|2002756|2089465|4092221|2010|\n",
      "|  4|2004366|2090436|4094802|2010|\n",
      "+---+-------+-------+-------+----+\n",
      "only showing top 5 rows\n",
      "\n"
     ]
    }
   ],
   "source": [
    "df.show(5)"
   ]
  },
  {
   "cell_type": "code",
   "execution_count": 70,
   "id": "00a895d5-1d96-412b-9231-f1b89a8ff16f",
   "metadata": {},
   "outputs": [
    {
     "data": {
      "text/plain": [
       "1994141"
      ]
     },
     "execution_count": 70,
     "metadata": {},
     "output_type": "execute_result"
    }
   ],
   "source": [
    "# this now works very similar to a pandas df\n",
    "# capture the values of the first row\n",
    "row_one = df.head(5)[0]\n",
    "\n",
    "row_one.females"
   ]
  },
  {
   "cell_type": "code",
   "execution_count": 71,
   "id": "60df2bf8-5075-4c13-abe4-3d4d29b3743b",
   "metadata": {},
   "outputs": [
    {
     "name": "stdout",
     "output_type": "stream",
     "text": [
      "+---+-------+-------+-------+----+\n",
      "|age|females|  males|  total|year|\n",
      "+---+-------+-------+-------+----+\n",
      "|  6|2007781|2093905|4101686|2010|\n",
      "|  7|2010281|2097080|4107361|2010|\n",
      "|  8|2013771|2101670|4115441|2010|\n",
      "|  9|2018603|2108014|4126617|2010|\n",
      "| 10|2023289|2114217|4137506|2010|\n",
      "+---+-------+-------+-------+----+\n",
      "only showing top 5 rows\n",
      "\n"
     ]
    }
   ],
   "source": [
    "# only rows where age > 5\n",
    "df[df.age > 5].show(5)"
   ]
  },
  {
   "cell_type": "code",
   "execution_count": 72,
   "id": "a3776a97-fd21-44d4-97e9-f9849f7dd0c8",
   "metadata": {},
   "outputs": [
    {
     "data": {
      "text/plain": [
       "<AxesSubplot:>"
      ]
     },
     "execution_count": 72,
     "metadata": {},
     "output_type": "execute_result"
    },
    {
     "data": {
      "image/png": "[encoded data removed]",
      "text/plain": [
       "<Figure size 640x480 with 1 Axes>"
      ]
     },
     "metadata": {},
     "output_type": "display_data"
    }
   ],
   "source": [
    "# convert to pandas to use some of pandas functionality\n",
    "pandas_df = df.toPandas()\n",
    "pandas_df.total.hist()"
   ]
  },
  {
   "cell_type": "code",
   "execution_count": 73,
   "id": "f1259e5f-7a09-45f4-92bb-aa7d0b83321a",
   "metadata": {},
   "outputs": [
    {
     "data": {
      "text/html": [
       "<div>\n",
       "<style scoped>\n",
       "    .dataframe tbody tr th:only-of-type {\n",
       "        vertical-align: middle;\n",
       "    }\n",
       "\n",
       "    .dataframe tbody tr th {\n",
       "        vertical-align: top;\n",
       "    }\n",
       "\n",
       "    .dataframe thead th {\n",
       "        text-align: right;\n",
       "    }\n",
       "</style>\n",
       "<table border=\"1\" class=\"dataframe\">\n",
       "  <thead>\n",
       "    <tr style=\"text-align: right;\">\n",
       "      <th></th>\n",
       "      <th>age</th>\n",
       "      <th>females</th>\n",
       "      <th>males</th>\n",
       "      <th>total</th>\n",
       "      <th>year</th>\n",
       "    </tr>\n",
       "  </thead>\n",
       "  <tbody>\n",
       "    <tr>\n",
       "      <th>0</th>\n",
       "      <td>0</td>\n",
       "      <td>1994141</td>\n",
       "      <td>2085528</td>\n",
       "      <td>4079669</td>\n",
       "      <td>2010</td>\n",
       "    </tr>\n",
       "    <tr>\n",
       "      <th>1</th>\n",
       "      <td>1</td>\n",
       "      <td>1997991</td>\n",
       "      <td>2087350</td>\n",
       "      <td>4085341</td>\n",
       "      <td>2010</td>\n",
       "    </tr>\n",
       "    <tr>\n",
       "      <th>2</th>\n",
       "      <td>2</td>\n",
       "      <td>2000746</td>\n",
       "      <td>2088549</td>\n",
       "      <td>4089295</td>\n",
       "      <td>2010</td>\n",
       "    </tr>\n",
       "    <tr>\n",
       "      <th>3</th>\n",
       "      <td>3</td>\n",
       "      <td>2002756</td>\n",
       "      <td>2089465</td>\n",
       "      <td>4092221</td>\n",
       "      <td>2010</td>\n",
       "    </tr>\n",
       "    <tr>\n",
       "      <th>4</th>\n",
       "      <td>4</td>\n",
       "      <td>2004366</td>\n",
       "      <td>2090436</td>\n",
       "      <td>4094802</td>\n",
       "      <td>2010</td>\n",
       "    </tr>\n",
       "    <tr>\n",
       "      <th>...</th>\n",
       "      <td>...</td>\n",
       "      <td>...</td>\n",
       "      <td>...</td>\n",
       "      <td>...</td>\n",
       "      <td>...</td>\n",
       "    </tr>\n",
       "    <tr>\n",
       "      <th>96</th>\n",
       "      <td>96</td>\n",
       "      <td>74056</td>\n",
       "      <td>22021</td>\n",
       "      <td>96077</td>\n",
       "      <td>2010</td>\n",
       "    </tr>\n",
       "    <tr>\n",
       "      <th>97</th>\n",
       "      <td>97</td>\n",
       "      <td>51337</td>\n",
       "      <td>13994</td>\n",
       "      <td>65331</td>\n",
       "      <td>2010</td>\n",
       "    </tr>\n",
       "    <tr>\n",
       "      <th>98</th>\n",
       "      <td>98</td>\n",
       "      <td>35778</td>\n",
       "      <td>8321</td>\n",
       "      <td>44099</td>\n",
       "      <td>2010</td>\n",
       "    </tr>\n",
       "    <tr>\n",
       "      <th>99</th>\n",
       "      <td>99</td>\n",
       "      <td>25673</td>\n",
       "      <td>4612</td>\n",
       "      <td>30285</td>\n",
       "      <td>2010</td>\n",
       "    </tr>\n",
       "    <tr>\n",
       "      <th>100</th>\n",
       "      <td>100</td>\n",
       "      <td>51007</td>\n",
       "      <td>9506</td>\n",
       "      <td>60513</td>\n",
       "      <td>2010</td>\n",
       "    </tr>\n",
       "  </tbody>\n",
       "</table>\n",
       "<p>101 rows × 5 columns</p>\n",
       "</div>"
      ],
      "text/plain": [
       "     age  females    males    total  year\n",
       "0      0  1994141  2085528  4079669  2010\n",
       "1      1  1997991  2087350  4085341  2010\n",
       "2      2  2000746  2088549  4089295  2010\n",
       "3      3  2002756  2089465  4092221  2010\n",
       "4      4  2004366  2090436  4094802  2010\n",
       "..   ...      ...      ...      ...   ...\n",
       "96    96    74056    22021    96077  2010\n",
       "97    97    51337    13994    65331  2010\n",
       "98    98    35778     8321    44099  2010\n",
       "99    99    25673     4612    30285  2010\n",
       "100  100    51007     9506    60513  2010\n",
       "\n",
       "[101 rows x 5 columns]"
      ]
     },
     "execution_count": 73,
     "metadata": {},
     "output_type": "execute_result"
    }
   ],
   "source": [
    "pandas_df"
   ]
  },
  {
   "cell_type": "code",
   "execution_count": 74,
   "id": "88510328-8033-4ced-9764-a8ad11a3ac74",
   "metadata": {},
   "outputs": [
    {
     "data": {
      "text/html": [
       "<div>\n",
       "<style scoped>\n",
       "    .dataframe tbody tr th:only-of-type {\n",
       "        vertical-align: middle;\n",
       "    }\n",
       "\n",
       "    .dataframe tbody tr th {\n",
       "        vertical-align: top;\n",
       "    }\n",
       "\n",
       "    .dataframe thead th {\n",
       "        text-align: right;\n",
       "    }\n",
       "</style>\n",
       "<table border=\"1\" class=\"dataframe\">\n",
       "  <thead>\n",
       "    <tr style=\"text-align: right;\">\n",
       "      <th></th>\n",
       "      <th>age</th>\n",
       "      <th>females</th>\n",
       "      <th>males</th>\n",
       "      <th>total</th>\n",
       "      <th>year</th>\n",
       "      <th>ageGroup</th>\n",
       "    </tr>\n",
       "  </thead>\n",
       "  <tbody>\n",
       "    <tr>\n",
       "      <th>0</th>\n",
       "      <td>0</td>\n",
       "      <td>1994141</td>\n",
       "      <td>2085528</td>\n",
       "      <td>4079669</td>\n",
       "      <td>2010</td>\n",
       "      <td>0-9</td>\n",
       "    </tr>\n",
       "    <tr>\n",
       "      <th>1</th>\n",
       "      <td>1</td>\n",
       "      <td>1997991</td>\n",
       "      <td>2087350</td>\n",
       "      <td>4085341</td>\n",
       "      <td>2010</td>\n",
       "      <td>0-9</td>\n",
       "    </tr>\n",
       "    <tr>\n",
       "      <th>2</th>\n",
       "      <td>2</td>\n",
       "      <td>2000746</td>\n",
       "      <td>2088549</td>\n",
       "      <td>4089295</td>\n",
       "      <td>2010</td>\n",
       "      <td>0-9</td>\n",
       "    </tr>\n",
       "    <tr>\n",
       "      <th>3</th>\n",
       "      <td>3</td>\n",
       "      <td>2002756</td>\n",
       "      <td>2089465</td>\n",
       "      <td>4092221</td>\n",
       "      <td>2010</td>\n",
       "      <td>0-9</td>\n",
       "    </tr>\n",
       "    <tr>\n",
       "      <th>4</th>\n",
       "      <td>4</td>\n",
       "      <td>2004366</td>\n",
       "      <td>2090436</td>\n",
       "      <td>4094802</td>\n",
       "      <td>2010</td>\n",
       "      <td>0-9</td>\n",
       "    </tr>\n",
       "    <tr>\n",
       "      <th>...</th>\n",
       "      <td>...</td>\n",
       "      <td>...</td>\n",
       "      <td>...</td>\n",
       "      <td>...</td>\n",
       "      <td>...</td>\n",
       "      <td>...</td>\n",
       "    </tr>\n",
       "    <tr>\n",
       "      <th>96</th>\n",
       "      <td>96</td>\n",
       "      <td>74056</td>\n",
       "      <td>22021</td>\n",
       "      <td>96077</td>\n",
       "      <td>2010</td>\n",
       "      <td>90-99</td>\n",
       "    </tr>\n",
       "    <tr>\n",
       "      <th>97</th>\n",
       "      <td>97</td>\n",
       "      <td>51337</td>\n",
       "      <td>13994</td>\n",
       "      <td>65331</td>\n",
       "      <td>2010</td>\n",
       "      <td>90-99</td>\n",
       "    </tr>\n",
       "    <tr>\n",
       "      <th>98</th>\n",
       "      <td>98</td>\n",
       "      <td>35778</td>\n",
       "      <td>8321</td>\n",
       "      <td>44099</td>\n",
       "      <td>2010</td>\n",
       "      <td>90-99</td>\n",
       "    </tr>\n",
       "    <tr>\n",
       "      <th>99</th>\n",
       "      <td>99</td>\n",
       "      <td>25673</td>\n",
       "      <td>4612</td>\n",
       "      <td>30285</td>\n",
       "      <td>2010</td>\n",
       "      <td>90-99</td>\n",
       "    </tr>\n",
       "    <tr>\n",
       "      <th>100</th>\n",
       "      <td>100</td>\n",
       "      <td>51007</td>\n",
       "      <td>9506</td>\n",
       "      <td>60513</td>\n",
       "      <td>2010</td>\n",
       "      <td>100-109</td>\n",
       "    </tr>\n",
       "  </tbody>\n",
       "</table>\n",
       "<p>101 rows × 6 columns</p>\n",
       "</div>"
      ],
      "text/plain": [
       "     age  females    males    total  year ageGroup\n",
       "0      0  1994141  2085528  4079669  2010      0-9\n",
       "1      1  1997991  2087350  4085341  2010      0-9\n",
       "2      2  2000746  2088549  4089295  2010      0-9\n",
       "3      3  2002756  2089465  4092221  2010      0-9\n",
       "4      4  2004366  2090436  4094802  2010      0-9\n",
       "..   ...      ...      ...      ...   ...      ...\n",
       "96    96    74056    22021    96077  2010    90-99\n",
       "97    97    51337    13994    65331  2010    90-99\n",
       "98    98    35778     8321    44099  2010    90-99\n",
       "99    99    25673     4612    30285  2010    90-99\n",
       "100  100    51007     9506    60513  2010  100-109\n",
       "\n",
       "[101 rows x 6 columns]"
      ]
     },
     "execution_count": 74,
     "metadata": {},
     "output_type": "execute_result"
    }
   ],
   "source": [
    "# let's add a column that is age group\n",
    "def add_age_group(df):\n",
    "    idx = np.floor(df['age']/10)\n",
    "    return f'{idx*10:.0f}-{idx*10+9:.0f}'\n",
    "\n",
    "pandas_df['ageGroup'] = pandas_df.apply(add_age_group, axis=1)\n",
    "pandas_df"
   ]
  },
  {
   "cell_type": "code",
   "execution_count": 75,
   "id": "29f5e434-5344-405f-857b-ea5e49b6f39a",
   "metadata": {},
   "outputs": [
    {
     "data": {
      "text/plain": [
       "Text(0, 0.5, 'total')"
      ]
     },
     "execution_count": 75,
     "metadata": {},
     "output_type": "execute_result"
    },
    {
     "data": {
      "image/png": "[encoded data removed]",
      "text/plain": [
       "<Figure size 640x480 with 1 Axes>"
      ]
     },
     "metadata": {},
     "output_type": "display_data"
    }
   ],
   "source": [
    "# Create a DataFrame with the desired x and y values\n",
    "df_grouped = pandas_df.groupby('ageGroup')['total'].sum().reset_index()\n",
    "\n",
    "# Create the bar plot\n",
    "df_grouped.plot(x='ageGroup', y='total', kind='bar')\n",
    "plt.xlabel('age')\n",
    "plt.ylabel('total')"
   ]
  },
  {
   "cell_type": "code",
   "execution_count": 76,
   "id": "b746e2f8-65e1-4935-b0f0-5faa5d5ac770",
   "metadata": {},
   "outputs": [],
   "source": [
    "spark.stop()"
   ]
  },
  {
   "cell_type": "markdown",
   "id": "cc09e2fb-cc9d-4542-832a-fbc2de794552",
   "metadata": {},
   "source": [
    "# Working with SQL"
   ]
  },
  {
   "cell_type": "code",
   "execution_count": 77,
   "id": "36ae9557-768f-4a8e-8451-65d80ecf5315",
   "metadata": {},
   "outputs": [],
   "source": [
    "from pyspark.sql import SparkSession\n",
    "\n",
    "spark = SparkSession.builder.appName('intro_to_spark').getOrCreate()"
   ]
  },
  {
   "cell_type": "code",
   "execution_count": 78,
   "id": "824beeb2-74d6-4d23-acc8-47473ca27301",
   "metadata": {},
   "outputs": [
    {
     "name": "stdout",
     "output_type": "stream",
     "text": [
      "+---+-------+-------+-------+----+\n",
      "|age|females|  males|  total|year|\n",
      "+---+-------+-------+-------+----+\n",
      "|  0|1994141|2085528|4079669|2010|\n",
      "|  1|1997991|2087350|4085341|2010|\n",
      "|  2|2000746|2088549|4089295|2010|\n",
      "|  3|2002756|2089465|4092221|2010|\n",
      "|  4|2004366|2090436|4094802|2010|\n",
      "+---+-------+-------+-------+----+\n",
      "only showing top 5 rows\n",
      "\n"
     ]
    }
   ],
   "source": [
    "df = spark.read.json(\"NonUploadedData/census_2010.json\")\n",
    "df.show(5)"
   ]
  },
  {
   "cell_type": "code",
   "execution_count": 79,
   "id": "939c5439-0aa5-4b01-b9cb-769883a7adfc",
   "metadata": {},
   "outputs": [],
   "source": [
    "# create table\n",
    "df.createOrReplaceTempView(name='census2010')"
   ]
  },
  {
   "cell_type": "code",
   "execution_count": 80,
   "id": "0576c395-2e3d-4e43-b375-a4fa44043ce5",
   "metadata": {},
   "outputs": [
    {
     "name": "stdout",
     "output_type": "stream",
     "text": [
      "+---+-------+-------+-------+----+\n",
      "|age|females|  males|  total|year|\n",
      "+---+-------+-------+-------+----+\n",
      "|  0|1994141|2085528|4079669|2010|\n",
      "|  1|1997991|2087350|4085341|2010|\n",
      "|  2|2000746|2088549|4089295|2010|\n",
      "|  3|2002756|2089465|4092221|2010|\n",
      "|  4|2004366|2090436|4094802|2010|\n",
      "+---+-------+-------+-------+----+\n",
      "\n"
     ]
    }
   ],
   "source": [
    "spark.sql(\"SELECT * FROM census2010 LIMIT 5\").show()"
   ]
  },
  {
   "cell_type": "code",
   "execution_count": 81,
   "id": "7daf72d3-9d36-43d3-9b5f-9dc33a3a02cf",
   "metadata": {},
   "outputs": [
    {
     "name": "stdout",
     "output_type": "stream",
     "text": [
      "+-------+-------+\n",
      "|  males|females|\n",
      "+-------+-------+\n",
      "|2093905|2007781|\n",
      "|2097080|2010281|\n",
      "|2101670|2013771|\n",
      "|2108014|2018603|\n",
      "|2114217|2023289|\n",
      "|2118390|2026352|\n",
      "|2132030|2037286|\n",
      "|2159943|2060100|\n",
      "|2195773|2089651|\n",
      "+-------+-------+\n",
      "\n"
     ]
    }
   ],
   "source": [
    "query = 'SELECT males, females FROM census2010 WHERE age > 5 AND age < 15'\n",
    "spark.sql(query).show()"
   ]
  },
  {
   "cell_type": "code",
   "execution_count": 82,
   "id": "1df38688-2042-475d-8ef3-03b720188e4f",
   "metadata": {},
   "outputs": [
    {
     "name": "stdout",
     "output_type": "stream",
     "text": [
      "+-------+------------------+-----------------+\n",
      "|summary|             males|          females|\n",
      "+-------+------------------+-----------------+\n",
      "|  count|               101|              101|\n",
      "|   mean|1520095.3168316833|1571460.287128713|\n",
      "| stddev|  818587.208016823|748671.0493484351|\n",
      "|    min|              4612|            25673|\n",
      "|    max|           2285990|          2331572|\n",
      "+-------+------------------+-----------------+\n",
      "\n"
     ]
    }
   ],
   "source": [
    "df = spark.sql('SELECT males, females FROM census2010')\n",
    "df.describe().show()"
   ]
  },
  {
   "cell_type": "code",
   "execution_count": 83,
   "id": "5f23b2e0-0386-4bdd-a482-e480fa9d142b",
   "metadata": {},
   "outputs": [],
   "source": [
    "# adding another table\n",
    "df1 = spark.read.json(\"NonUploadedData/census_2000.json\")\n",
    "df1.createOrReplaceTempView('census2000')"
   ]
  },
  {
   "cell_type": "code",
   "execution_count": 85,
   "id": "769e53a0-6f4a-4ca9-9676-7d5c85e6d469",
   "metadata": {},
   "outputs": [
    {
     "name": "stdout",
     "output_type": "stream",
     "text": [
      "+-------------+-------------+\n",
      "|Census2010Tot|Census2000Tot|\n",
      "+-------------+-------------+\n",
      "|      4079669|      3733034|\n",
      "|      4085341|      3825896|\n",
      "|      4089295|      3904845|\n",
      "|      4092221|      3970865|\n",
      "|      4094802|      4024943|\n",
      "|      4097728|      4068061|\n",
      "|      4101686|      4101204|\n",
      "|      4107361|      4125360|\n",
      "|      4115441|      4141510|\n",
      "|      4126617|      4150640|\n",
      "+-------------+-------------+\n",
      "only showing top 10 rows\n",
      "\n"
     ]
    }
   ],
   "source": [
    "query = \"\"\"\n",
    "SELECT census2010.total AS Census2010Tot, census2000.total AS Census2000Tot\n",
    "FROM census2010\n",
    "JOIN census2000\n",
    "ON census2010.age = census2000.age\n",
    "\"\"\"\n",
    "spark.sql(query).show(10)"
   ]
  },
  {
   "cell_type": "code",
   "execution_count": 87,
   "id": "35a1a74c-5476-4f70-8ef7-512c1d640f8f",
   "metadata": {},
   "outputs": [
    {
     "name": "stdout",
     "output_type": "stream",
     "text": [
      "+----------+----------+\n",
      "|sum(total)|sum(total)|\n",
      "+----------+----------+\n",
      "| 312247116| 284594395|\n",
      "+----------+----------+\n",
      "\n"
     ]
    }
   ],
   "source": [
    "query = \"\"\"\n",
    "SELECT SUM(census2010.total), SUM(census2000.total)\n",
    "FROM census2010\n",
    "JOIN census2000\n",
    "ON census2010.age = census2000.age\n",
    "\"\"\"\n",
    "spark.sql(query).show()"
   ]
  },
  {
   "cell_type": "code",
   "execution_count": 88,
   "id": "6197f58c-8148-4125-befc-6dfea2645c21",
   "metadata": {},
   "outputs": [],
   "source": [
    "spark.stop()"
   ]
  },
  {
   "cell_type": "markdown",
   "id": "22112d20-a7a6-470d-b63f-3ccea2114745",
   "metadata": {},
   "source": [
    "# More EDA of CSVs\n",
    "\n",
    "Tutorials in kaggle: [1](https://www.kaggle.com/code/emarkhauser/pyspark-tutorial) [2](https://www.kaggle.com/code/masumrumi/a-pyspark-tutorial-with-titanic) [3](https://www.kaggle.com/code/nilaychauhan/pyspark-tutorial-for-beginners)\n",
    "\n",
    "The data can be downloaded [here](https://www.kaggle.com/competitions/titanic/data?select=train.csv)."
   ]
  },
  {
   "cell_type": "markdown",
   "id": "0c21abcd-3470-4b57-94a5-b193dc60e421",
   "metadata": {},
   "source": [
    "### Spark DataFrame"
   ]
  },
  {
   "cell_type": "code",
   "execution_count": 90,
   "id": "2ce51fea-d4bf-4489-a785-e3663c273ed6",
   "metadata": {},
   "outputs": [],
   "source": [
    "from pyspark.sql import SparkSession\n",
    "\n",
    "spark = SparkSession.builder.appName('tutorial').getOrCreate()"
   ]
  },
  {
   "cell_type": "code",
   "execution_count": 170,
   "id": "78b2dd2b-9dce-497c-8403-c5152dc684d2",
   "metadata": {},
   "outputs": [
    {
     "name": "stdout",
     "output_type": "stream",
     "text": [
      "+-----------+--------+------+--------------------+------+----+-----+-----+----------------+-------+-----+--------+\n",
      "|PassengerId|Survived|Pclass|                Name|   Sex| Age|SibSp|Parch|          Ticket|   Fare|Cabin|Embarked|\n",
      "+-----------+--------+------+--------------------+------+----+-----+-----+----------------+-------+-----+--------+\n",
      "|          1|       0|     3|Braund, Mr. Owen ...|  male|22.0|    1|    0|       A/5 21171|   7.25| NULL|       S|\n",
      "|          2|       1|     1|Cumings, Mrs. Joh...|female|38.0|    1|    0|        PC 17599|71.2833|  C85|       C|\n",
      "|          3|       1|     3|Heikkinen, Miss. ...|female|26.0|    0|    0|STON/O2. 3101282|  7.925| NULL|       S|\n",
      "|          4|       1|     1|Futrelle, Mrs. Ja...|female|35.0|    1|    0|          113803|   53.1| C123|       S|\n",
      "|          5|       0|     3|Allen, Mr. Willia...|  male|35.0|    0|    0|          373450|   8.05| NULL|       S|\n",
      "+-----------+--------+------+--------------------+------+----+-----+-----+----------------+-------+-----+--------+\n",
      "only showing top 5 rows\n",
      "\n"
     ]
    }
   ],
   "source": [
    "df_train = spark.read.csv('NonUploadedData/titanic_train.csv', header = True, inferSchema=True)\n",
    "titanic_train = df_train.alias(\"titanic_train\")\n",
    "titanic_train.show(5)"
   ]
  },
  {
   "cell_type": "code",
   "execution_count": 95,
   "id": "c01083b4-af45-4a24-95d4-4151f5a882aa",
   "metadata": {},
   "outputs": [
    {
     "name": "stdout",
     "output_type": "stream",
     "text": [
      "+------+\n",
      "|Pclass|\n",
      "+------+\n",
      "|     3|\n",
      "|     1|\n",
      "|     3|\n",
      "|     1|\n",
      "|     3|\n",
      "+------+\n",
      "only showing top 5 rows\n",
      "\n"
     ]
    }
   ],
   "source": [
    "# Show only one column\n",
    "titanic_train.select('Pclass').show(5)"
   ]
  },
  {
   "cell_type": "code",
   "execution_count": 96,
   "id": "1c954b19-9645-45fd-b5b2-343732df4391",
   "metadata": {},
   "outputs": [
    {
     "name": "stdout",
     "output_type": "stream",
     "text": [
      "+------+------------------+\n",
      "|Pclass|          avg(Age)|\n",
      "+------+------------------+\n",
      "|     1|38.233440860215055|\n",
      "|     3| 25.14061971830986|\n",
      "|     2| 29.87763005780347|\n",
      "+------+------------------+\n",
      "\n"
     ]
    }
   ],
   "source": [
    "# group by functions:  Average age per passenger class\n",
    "titanic_train.groupby('Pclass').avg('Age').show()"
   ]
  },
  {
   "cell_type": "code",
   "execution_count": 97,
   "id": "c1ffb5a6-3c3e-4470-a82c-d2018a49de94",
   "metadata": {},
   "outputs": [
    {
     "name": "stdout",
     "output_type": "stream",
     "text": [
      "+------+-------------------+\n",
      "|Pclass|      avg(Survived)|\n",
      "+------+-------------------+\n",
      "|     1| 0.6296296296296297|\n",
      "|     3|0.24236252545824846|\n",
      "|     2|0.47282608695652173|\n",
      "+------+-------------------+\n",
      "\n"
     ]
    }
   ],
   "source": [
    "# group by functions:  Average survival per passenger class\n",
    "titanic_train.groupby('Pclass').avg('Survived').show()"
   ]
  },
  {
   "cell_type": "markdown",
   "id": "6683e0b0-842d-4152-b490-bbd855b71112",
   "metadata": {},
   "source": [
    "This shows that the better the class, the better likelihood of survival."
   ]
  },
  {
   "cell_type": "code",
   "execution_count": 119,
   "id": "35246373-b630-481a-9968-0ca381e1de55",
   "metadata": {},
   "outputs": [
    {
     "name": "stdout",
     "output_type": "stream",
     "text": [
      "+------+------------------+\n",
      "|Pclass|         avg(Fare)|\n",
      "+------+------------------+\n",
      "|     1| 84.15468749999992|\n",
      "|     2| 20.66218315217391|\n",
      "|     3|13.675550101832997|\n",
      "+------+------------------+\n",
      "\n"
     ]
    }
   ],
   "source": [
    "# show ave fare by class\n",
    "titanic_train.groupby('Pclass').avg('Fare').sort('avg(Fare)', ascending=[False]).show()"
   ]
  },
  {
   "cell_type": "code",
   "execution_count": 123,
   "id": "18c11068-053c-4603-8202-86fff99b3a51",
   "metadata": {},
   "outputs": [
    {
     "data": {
      "text/plain": [
       "[Row(Pclass=1, avg(Fare)=84.15468749999992),\n",
       " Row(Pclass=2, avg(Fare)=20.66218315217391),\n",
       " Row(Pclass=3, avg(Fare)=13.675550101832997)]"
      ]
     },
     "execution_count": 123,
     "metadata": {},
     "output_type": "execute_result"
    }
   ],
   "source": [
    "# let's store the data above in a \"list\" (it is actually an array of row type)\n",
    "fare_mean = titanic_train.groupby('Pclass').avg('Fare').sort('avg(Fare)', ascending=[False]).collect()\n",
    "fare_mean"
   ]
  },
  {
   "cell_type": "code",
   "execution_count": 122,
   "id": "edc0b70d-9cfe-473f-a2a2-6465caeeeac0",
   "metadata": {},
   "outputs": [
    {
     "data": {
      "text/plain": [
       "84.15468749999992"
      ]
     },
     "execution_count": 122,
     "metadata": {},
     "output_type": "execute_result"
    }
   ],
   "source": [
    "fare_mean[0][1]"
   ]
  },
  {
   "cell_type": "code",
   "execution_count": 128,
   "id": "7a5f0a53-8993-4280-9c6f-f7e20d102e03",
   "metadata": {},
   "outputs": [
    {
     "name": "stdout",
     "output_type": "stream",
     "text": [
      "+-----------+--------+------+--------------------+------+----+-----+-----+--------+-------------------+-----------+--------+\n",
      "|PassengerId|Survived|Pclass|                Name|   Sex| Age|SibSp|Parch|  Ticket|               Fare|      Cabin|Embarked|\n",
      "+-----------+--------+------+--------------------+------+----+-----+-----+--------+-------------------+-----------+--------+\n",
      "|          2|       1|     1|Cumings, Mrs. Joh...|female|38.0|    1|    0|PC 17599|-12.871387499999926|        C85|       C|\n",
      "|          4|       1|     1|Futrelle, Mrs. Ja...|female|35.0|    1|    0|  113803|-31.054687499999922|       C123|       S|\n",
      "|          7|       0|     1|McCarthy, Mr. Tim...|  male|54.0|    0|    0|   17463|-32.292187499999926|        E46|       S|\n",
      "|         12|       1|     1|Bonnell, Miss. El...|female|58.0|    0|    0|  113783|-57.604687499999926|       C103|       S|\n",
      "|         24|       1|     1|Sloper, Mr. Willi...|  male|28.0|    0|    0|  113788| -48.65468749999992|         A6|       S|\n",
      "|         28|       0|     1|Fortune, Mr. Char...|  male|19.0|    3|    2|   19950|  178.8453125000001|C23 C25 C27|       S|\n",
      "|         31|       0|     1|Uruchurtu, Don. M...|  male|40.0|    0|    0|PC 17601|-56.433887499999926|       NULL|       C|\n",
      "|         32|       1|     1|Spencer, Mrs. Wil...|female|NULL|    1|    0|PC 17569| 62.366112500000085|        B78|       C|\n",
      "|         35|       0|     1|Meyer, Mr. Edgar ...|  male|28.0|    1|    0|PC 17604|-1.9838874999999234|       NULL|       C|\n",
      "|         36|       0|     1|Holverson, Mr. Al...|  male|42.0|    1|    0|  113789| -32.15468749999992|       NULL|       S|\n",
      "+-----------+--------+------+--------------------+------+----+-----+-----+--------+-------------------+-----------+--------+\n",
      "only showing top 10 rows\n",
      "\n"
     ]
    }
   ],
   "source": [
    "# Let's see the spread over the fare mean for the first class\n",
    "new_df = titanic_train.withColumn('Fare', titanic_train['Fare']-fare_mean[0][1])[titanic_train['Pclass'] == 1]\n",
    "new_df.show(10)"
   ]
  },
  {
   "cell_type": "code",
   "execution_count": 131,
   "id": "2acda50c-39be-4d16-9ccc-0c650fa87dc9",
   "metadata": {},
   "outputs": [
    {
     "data": {
      "text/plain": [
       "<AxesSubplot:>"
      ]
     },
     "execution_count": 131,
     "metadata": {},
     "output_type": "execute_result"
    },
    {
     "data": {
      "image/png": "[encoded data removed]",
      "text/plain": [
       "<Figure size 640x480 with 1 Axes>"
      ]
     },
     "metadata": {},
     "output_type": "display_data"
    }
   ],
   "source": [
    "# and let's plot this\n",
    "pandas_df = new_df.toPandas()\n",
    "pandas_df['Fare'].hist(bins=20)"
   ]
  },
  {
   "cell_type": "markdown",
   "id": "63ec15f6-4d02-4a15-b5ab-6c937ab8d8e3",
   "metadata": {},
   "source": [
    "This shows that someone paid a lot lot more than the average."
   ]
  },
  {
   "cell_type": "markdown",
   "id": "1fc055f0-032b-4ff5-9d05-c687d7e486fb",
   "metadata": {},
   "source": [
    "### Quering with SQL"
   ]
  },
  {
   "cell_type": "code",
   "execution_count": 103,
   "id": "b0954205-2d22-416d-9d7f-9fce0edcbddd",
   "metadata": {},
   "outputs": [],
   "source": [
    "# Use SQL for querying\n",
    "titanic_train.createOrReplaceTempView('stats')"
   ]
  },
  {
   "cell_type": "code",
   "execution_count": 108,
   "id": "063f3ceb-53a7-4fda-a340-1e150365b8d8",
   "metadata": {},
   "outputs": [
    {
     "name": "stdout",
     "output_type": "stream",
     "text": [
      "+-----------+--------+------+--------------------+------+----+-----+-----+----------------+-------+-----+--------+\n",
      "|PassengerId|Survived|Pclass|                Name|   Sex| Age|SibSp|Parch|          Ticket|   Fare|Cabin|Embarked|\n",
      "+-----------+--------+------+--------------------+------+----+-----+-----+----------------+-------+-----+--------+\n",
      "|          1|       0|     3|Braund, Mr. Owen ...|  male|22.0|    1|    0|       A/5 21171|   7.25| NULL|       S|\n",
      "|          2|       1|     1|Cumings, Mrs. Joh...|female|38.0|    1|    0|        PC 17599|71.2833|  C85|       C|\n",
      "|          3|       1|     3|Heikkinen, Miss. ...|female|26.0|    0|    0|STON/O2. 3101282|  7.925| NULL|       S|\n",
      "|          4|       1|     1|Futrelle, Mrs. Ja...|female|35.0|    1|    0|          113803|   53.1| C123|       S|\n",
      "|          5|       0|     3|Allen, Mr. Willia...|  male|35.0|    0|    0|          373450|   8.05| NULL|       S|\n",
      "+-----------+--------+------+--------------------+------+----+-----+-----+----------------+-------+-----+--------+\n",
      "only showing top 5 rows\n",
      "\n"
     ]
    }
   ],
   "source": [
    "# show the whole table (only first 5 rows)\n",
    "spark.sql('SELECT * FROM stats').show(5)"
   ]
  },
  {
   "cell_type": "code",
   "execution_count": 110,
   "id": "60cf7f78-7a9b-4dfa-8ba6-959b8454e58d",
   "metadata": {},
   "outputs": [
    {
     "name": "stdout",
     "output_type": "stream",
     "text": [
      "+-----------+--------+------+--------------------+------+----+-----+-----+--------+--------+---------------+--------+\n",
      "|PassengerId|Survived|Pclass|                Name|   Sex| Age|SibSp|Parch|  Ticket|    Fare|          Cabin|Embarked|\n",
      "+-----------+--------+------+--------------------+------+----+-----+-----+--------+--------+---------------+--------+\n",
      "|        680|       1|     1|Cardeza, Mr. Thom...|  male|36.0|    0|    1|PC 17755|512.3292|    B51 B53 B55|       C|\n",
      "|        259|       1|     1|    Ward, Miss. Anna|female|35.0|    0|    0|PC 17755|512.3292|           NULL|       C|\n",
      "|        738|       1|     1|Lesurer, Mr. Gust...|  male|35.0|    0|    0|PC 17755|512.3292|           B101|       C|\n",
      "|         89|       1|     1|Fortune, Miss. Ma...|female|23.0|    3|    2|   19950|   263.0|    C23 C25 C27|       S|\n",
      "|         28|       0|     1|Fortune, Mr. Char...|  male|19.0|    3|    2|   19950|   263.0|    C23 C25 C27|       S|\n",
      "|        342|       1|     1|Fortune, Miss. Al...|female|24.0|    3|    2|   19950|   263.0|    C23 C25 C27|       S|\n",
      "|        439|       0|     1|   Fortune, Mr. Mark|  male|64.0|    1|    4|   19950|   263.0|    C23 C25 C27|       S|\n",
      "|        312|       1|     1|Ryerson, Miss. Em...|female|18.0|    2|    2|PC 17608| 262.375|B57 B59 B63 B66|       C|\n",
      "|        743|       1|     1|\"Ryerson, Miss. S...|female|21.0|    2|    2|PC 17608| 262.375|B57 B59 B63 B66|       C|\n",
      "|        119|       0|     1|Baxter, Mr. Quigg...|  male|24.0|    0|    1|PC 17558|247.5208|        B58 B60|       C|\n",
      "+-----------+--------+------+--------------------+------+----+-----+-----+--------+--------+---------------+--------+\n",
      "\n"
     ]
    }
   ],
   "source": [
    "# show all entries (only first 10 rows) ordered by fare\n",
    "spark.sql(\"SELECT * FROM stats ORDER BY Fare DESC LIMIT 10\").show()"
   ]
  },
  {
   "cell_type": "code",
   "execution_count": 105,
   "id": "affed658-16e4-40ad-9a44-2ff378cd3168",
   "metadata": {},
   "outputs": [
    {
     "name": "stdout",
     "output_type": "stream",
     "text": [
      "+--------+\n",
      "|count(1)|\n",
      "+--------+\n",
      "|     891|\n",
      "+--------+\n",
      "\n"
     ]
    }
   ],
   "source": [
    "# show number of passangers\n",
    "spark.sql('SELECT count(*) FROM stats').show()"
   ]
  },
  {
   "cell_type": "code",
   "execution_count": 109,
   "id": "60717923-dd1c-4533-88cf-c6a1ac4dcd3d",
   "metadata": {},
   "outputs": [
    {
     "name": "stdout",
     "output_type": "stream",
     "text": [
      "+------+------+------------------+\n",
      "|Pclass|   Sex|          avg(Age)|\n",
      "+------+------+------------------+\n",
      "|     1|female| 34.61176470588235|\n",
      "|     1|  male| 41.28138613861386|\n",
      "|     2|female|28.722972972972972|\n",
      "|     2|  male| 30.74070707070707|\n",
      "|     3|female|             21.75|\n",
      "|     3|  male|26.507588932806325|\n",
      "+------+------+------------------+\n",
      "\n"
     ]
    }
   ],
   "source": [
    "# get average age by class and gender\n",
    "spark.sql('SELECT Pclass, Sex, avg(Age) FROM stats GROUP BY Pclass, Sex ORDER BY Pclass, Sex').show()"
   ]
  },
  {
   "cell_type": "markdown",
   "id": "ad583924-1b58-4980-9140-c3082439ab70",
   "metadata": {},
   "source": [
    "### Dealing with missing values\n",
    "\n",
    "'Embarked' column"
   ]
  },
  {
   "cell_type": "code",
   "execution_count": 137,
   "id": "95842135-fbf8-451b-8c2d-d105052edda7",
   "metadata": {},
   "outputs": [
    {
     "data": {
      "text/plain": [
       "2"
      ]
     },
     "execution_count": 137,
     "metadata": {},
     "output_type": "execute_result"
    }
   ],
   "source": [
    "titanic_train.where(titanic_train['Embarked'].isNull()).count()"
   ]
  },
  {
   "cell_type": "code",
   "execution_count": 142,
   "id": "25f47bbc-6900-4541-8a42-e66bb03bceb0",
   "metadata": {},
   "outputs": [
    {
     "name": "stdout",
     "output_type": "stream",
     "text": [
      "+--------+\n",
      "|Embarked|\n",
      "+--------+\n",
      "|       S|\n",
      "|       C|\n",
      "|       S|\n",
      "|       S|\n",
      "|       S|\n",
      "+--------+\n",
      "only showing top 5 rows\n",
      "\n"
     ]
    }
   ],
   "source": [
    "# let's see potential categories\n",
    "titanic_train.select('Embarked').show(5)"
   ]
  },
  {
   "cell_type": "code",
   "execution_count": 147,
   "id": "87d5c072-a59a-4002-a533-02a55459788b",
   "metadata": {},
   "outputs": [
    {
     "data": {
      "text/plain": [
       "[Row(Embarked='Q'), Row(Embarked='C'), Row(Embarked='S')]"
      ]
     },
     "execution_count": 147,
     "metadata": {},
     "output_type": "execute_result"
    }
   ],
   "source": [
    "# show all possible values\n",
    "titanic_train.select('Embarked').distinct().collect()"
   ]
  },
  {
   "cell_type": "code",
   "execution_count": 138,
   "id": "8252eaf5-5ce5-4d63-af68-6051a84a855e",
   "metadata": {},
   "outputs": [
    {
     "name": "stdout",
     "output_type": "stream",
     "text": [
      "+-----------+--------+------+--------------------+------+----+-----+-----+------+----+-----+--------+\n",
      "|PassengerId|Survived|Pclass|                Name|   Sex| Age|SibSp|Parch|Ticket|Fare|Cabin|Embarked|\n",
      "+-----------+--------+------+--------------------+------+----+-----+-----+------+----+-----+--------+\n",
      "|         62|       1|     1| Icard, Miss. Amelie|female|38.0|    0|    0|113572|80.0|  B28|    NULL|\n",
      "|        830|       1|     1|Stone, Mrs. Georg...|female|62.0|    0|    0|113572|80.0|  B28|    NULL|\n",
      "+-----------+--------+------+--------------------+------+----+-----+-----+------+----+-----+--------+\n",
      "\n"
     ]
    }
   ],
   "source": [
    "titanic_train.where(titanic_train['Embarked'].isNull()).show()"
   ]
  },
  {
   "cell_type": "code",
   "execution_count": 139,
   "id": "69c18962-d182-4419-a2f4-148314fb22a1",
   "metadata": {},
   "outputs": [],
   "source": [
    "titanic_train = titanic_train.na.fill('C', subset=['Embarked'])"
   ]
  },
  {
   "cell_type": "code",
   "execution_count": 140,
   "id": "85d25089-96ca-42dc-98be-a7fa2dc7042e",
   "metadata": {},
   "outputs": [
    {
     "name": "stdout",
     "output_type": "stream",
     "text": [
      "+-----------+--------+------+----+---+---+-----+-----+------+----+-----+--------+\n",
      "|PassengerId|Survived|Pclass|Name|Sex|Age|SibSp|Parch|Ticket|Fare|Cabin|Embarked|\n",
      "+-----------+--------+------+----+---+---+-----+-----+------+----+-----+--------+\n",
      "+-----------+--------+------+----+---+---+-----+-----+------+----+-----+--------+\n",
      "\n"
     ]
    }
   ],
   "source": [
    "# looking for remaining missing values\n",
    "titanic_train.where(titanic_train['Embarked'].isNull()).show()"
   ]
  },
  {
   "cell_type": "markdown",
   "id": "195cee04-420c-4283-a61d-d44b2271011f",
   "metadata": {},
   "source": [
    "'Cabin' column"
   ]
  },
  {
   "cell_type": "code",
   "execution_count": 148,
   "id": "fa7906bb-8e0f-4eed-859b-17b209feae13",
   "metadata": {},
   "outputs": [
    {
     "data": {
      "text/plain": [
       "687"
      ]
     },
     "execution_count": 148,
     "metadata": {},
     "output_type": "execute_result"
    }
   ],
   "source": [
    "titanic_train.where(titanic_train['Cabin'].isNull()).count()"
   ]
  },
  {
   "cell_type": "code",
   "execution_count": 166,
   "id": "ca2d8e84-7abd-48a7-b92e-c42b3b4dbab9",
   "metadata": {},
   "outputs": [],
   "source": [
    "# Convert function to udf\n",
    "# https://sparkbyexamples.com/pyspark/pyspark-apply-function-to-column/\n",
    "from pyspark.sql.functions import col, udf\n",
    "from pyspark.sql.types import StringType\n",
    "\n",
    "def first_char(col):\n",
    "    if col is None:\n",
    "        return col\n",
    "    return col[0]\n",
    "\n",
    "get_letter = udf(lambda x: first_char(x), StringType()) "
   ]
  },
  {
   "cell_type": "code",
   "execution_count": 172,
   "id": "fab74ba4-d851-439a-ae0a-712ef6739413",
   "metadata": {},
   "outputs": [
    {
     "name": "stdout",
     "output_type": "stream",
     "text": [
      "+--------------+\n",
      "|Cabin_Category|\n",
      "+--------------+\n",
      "|          NULL|\n",
      "|             C|\n",
      "|          NULL|\n",
      "|             C|\n",
      "|          NULL|\n",
      "|          NULL|\n",
      "|             E|\n",
      "|          NULL|\n",
      "|          NULL|\n",
      "|          NULL|\n",
      "+--------------+\n",
      "only showing top 10 rows\n",
      "\n"
     ]
    }
   ],
   "source": [
    "n_titanic_train = titanic_train.withColumn(\"Cabin_Category\", get_letter(col(\"Cabin\")))\n",
    "n_titanic_train.select(\"Cabin_Category\").show(10)"
   ]
  },
  {
   "cell_type": "code",
   "execution_count": 174,
   "id": "47d0b6da-024c-4771-9167-518ababa1c4e",
   "metadata": {},
   "outputs": [
    {
     "name": "stdout",
     "output_type": "stream",
     "text": [
      "+--------------+------------------+\n",
      "|Cabin_Category|         avg(Fare)|\n",
      "+--------------+------------------+\n",
      "|             F| 18.69679230769231|\n",
      "|          NULL|  19.1573253275109|\n",
      "|             E|46.026693749999986|\n",
      "|             T|              35.5|\n",
      "|             B|113.50576382978724|\n",
      "|             D| 57.24457575757576|\n",
      "|             C|100.15134067796612|\n",
      "|             A|39.623886666666664|\n",
      "|             G|          13.58125|\n",
      "+--------------+------------------+\n",
      "\n"
     ]
    }
   ],
   "source": [
    "n_titanic_train.groupBy('Cabin_Category').mean(\"Fare\").show()"
   ]
  },
  {
   "cell_type": "markdown",
   "id": "82477be1-0ed9-45cc-b4dd-42fce4634833",
   "metadata": {},
   "source": [
    "We could use these mean values to determine the missing cabin categories."
   ]
  },
  {
   "cell_type": "markdown",
   "id": "d58d82e9-2a19-4dfc-b3c5-c2507ab4844f",
   "metadata": {},
   "source": [
    "# More EDA of .json files\n",
    "\n",
    "Data can be downloaded from [kaggle](https://www.kaggle.com/code/nilaychauhan/pyspark-tutorial-for-beginners/input)."
   ]
  },
  {
   "cell_type": "code",
   "execution_count": 5,
   "id": "bf89a144-9fd6-4877-a0e0-1d3a9a8fe49e",
   "metadata": {},
   "outputs": [],
   "source": [
    "from pyspark.sql import SparkSession\n",
    "\n",
    "spark = SparkSession.builder.appName('intro_to_spark').getOrCreate()\n",
    "spark.sparkContext.setLogLevel(\"OFF\")"
   ]
  },
  {
   "cell_type": "code",
   "execution_count": 8,
   "id": "513a110f-57f3-4835-9921-42a8723da2c0",
   "metadata": {},
   "outputs": [
    {
     "name": "stdout",
     "output_type": "stream",
     "text": [
      "+--------------------+---------+---------+------+-------------+---------+---------+-----+--------------------+------+--------+-------------+---------+--------------------+------+-------------+--------------------+------+\n",
      "|              artist|     auth|firstName|gender|itemInSession| lastName|   length|level|            location|method|    page| registration|sessionId|                song|status|           ts|           userAgent|userId|\n",
      "+--------------------+---------+---------+------+-------------+---------+---------+-----+--------------------+------+--------+-------------+---------+--------------------+------+-------------+--------------------+------+\n",
      "|       Showaddywaddy|Logged In|  Kenneth|     M|          112| Matthews|232.93342| paid|Charlotte-Concord...|   PUT|NextSong|1509380319284|     5132|Christmas Tears W...|   200|1513720872284|\"Mozilla/5.0 (Win...|  1046|\n",
      "|          Lily Allen|Logged In|Elizabeth|     F|            7|    Chase|195.23873| free|Shreveport-Bossie...|   PUT|NextSong|1512718541284|     5027|       Cheryl Tweedy|   200|1513720878284|\"Mozilla/5.0 (Win...|  1000|\n",
      "|Cobra Starship Fe...|Logged In|     Vera|     F|            6|Blackwell|196.20526| paid|          Racine, WI|   PUT|NextSong|1499855749284|     5516|Good Girls Go Bad...|   200|1513720881284|\"Mozilla/5.0 (Mac...|  2219|\n",
      "|          Alex Smoke|Logged In|   Sophee|     F|            8|   Barker|405.99465| paid|San Luis Obispo-P...|   PUT|NextSong|1513009647284|     2372| Don't See The Point|   200|1513720905284|\"Mozilla/5.0 (Win...|  2373|\n",
      "|                NULL|Logged In|   Jordyn|     F|            0|    Jones|     NULL| free|        Syracuse, NY|   GET|    Home|1513648531284|     1746|                NULL|   200|1513720913284|\"Mozilla/5.0 (Mac...|  1747|\n",
      "+--------------------+---------+---------+------+-------------+---------+---------+-----+--------------------+------+--------+-------------+---------+--------------------+------+-------------+--------------------+------+\n",
      "only showing top 5 rows\n",
      "\n"
     ]
    }
   ],
   "source": [
    "df = spark.read.json(\"NonUploadedData/sparkify_log_small.json\")\n",
    "df.show(5)"
   ]
  },
  {
   "cell_type": "code",
   "execution_count": 9,
   "id": "2c367497-5268-47c4-8a8d-e432b9475436",
   "metadata": {},
   "outputs": [
    {
     "data": {
      "text/plain": [
       "10000"
      ]
     },
     "execution_count": 9,
     "metadata": {},
     "output_type": "execute_result"
    }
   ],
   "source": [
    "df.count()"
   ]
  },
  {
   "cell_type": "code",
   "execution_count": 10,
   "id": "e5330837-6761-4fc4-94cf-b17070586d5c",
   "metadata": {},
   "outputs": [],
   "source": [
    "# hourly statistics\n",
    "from pyspark.sql.functions import udf\n",
    "import datetime\n",
    "\n",
    "get_hour = udf(lambda x: datetime.datetime.fromtimestamp(x / 1000.0).hour)\n",
    "\n",
    "df = df.withColumn(\"hour\", get_hour(df.ts))"
   ]
  },
  {
   "cell_type": "code",
   "execution_count": 12,
   "id": "fd336858-ef1c-4c35-8ea5-0641c970bc95",
   "metadata": {},
   "outputs": [
    {
     "name": "stdout",
     "output_type": "stream",
     "text": [
      "+--------------------+---------+---------+------+-------------+---------+---------+-----+--------------------+------+--------+-------------+---------+--------------------+------+-------------+--------------------+------+----+\n",
      "|              artist|     auth|firstName|gender|itemInSession| lastName|   length|level|            location|method|    page| registration|sessionId|                song|status|           ts|           userAgent|userId|hour|\n",
      "+--------------------+---------+---------+------+-------------+---------+---------+-----+--------------------+------+--------+-------------+---------+--------------------+------+-------------+--------------------+------+----+\n",
      "|       Showaddywaddy|Logged In|  Kenneth|     M|          112| Matthews|232.93342| paid|Charlotte-Concord...|   PUT|NextSong|1509380319284|     5132|Christmas Tears W...|   200|1513720872284|\"Mozilla/5.0 (Win...|  1046|  14|\n",
      "|          Lily Allen|Logged In|Elizabeth|     F|            7|    Chase|195.23873| free|Shreveport-Bossie...|   PUT|NextSong|1512718541284|     5027|       Cheryl Tweedy|   200|1513720878284|\"Mozilla/5.0 (Win...|  1000|  14|\n",
      "|Cobra Starship Fe...|Logged In|     Vera|     F|            6|Blackwell|196.20526| paid|          Racine, WI|   PUT|NextSong|1499855749284|     5516|Good Girls Go Bad...|   200|1513720881284|\"Mozilla/5.0 (Mac...|  2219|  14|\n",
      "|          Alex Smoke|Logged In|   Sophee|     F|            8|   Barker|405.99465| paid|San Luis Obispo-P...|   PUT|NextSong|1513009647284|     2372| Don't See The Point|   200|1513720905284|\"Mozilla/5.0 (Win...|  2373|  14|\n",
      "|                NULL|Logged In|   Jordyn|     F|            0|    Jones|     NULL| free|        Syracuse, NY|   GET|    Home|1513648531284|     1746|                NULL|   200|1513720913284|\"Mozilla/5.0 (Mac...|  1747|  14|\n",
      "+--------------------+---------+---------+------+-------------+---------+---------+-----+--------------------+------+--------+-------------+---------+--------------------+------+-------------+--------------------+------+----+\n",
      "only showing top 5 rows\n",
      "\n"
     ]
    }
   ],
   "source": [
    "df.show(5)"
   ]
  },
  {
   "cell_type": "code",
   "execution_count": 13,
   "id": "5e8f7879-6374-4ce4-a94d-07389f8c4ef8",
   "metadata": {},
   "outputs": [
    {
     "name": "stdout",
     "output_type": "stream",
     "text": [
      "+----+-----+\n",
      "|hour|count|\n",
      "+----+-----+\n",
      "|   0|  375|\n",
      "|   1|  249|\n",
      "|   2|  216|\n",
      "|   3|  228|\n",
      "|   4|  251|\n",
      "+----+-----+\n",
      "only showing top 5 rows\n",
      "\n"
     ]
    }
   ],
   "source": [
    "# counting songs in one hour\n",
    "songs_in_hour = df.filter(df.page == \"NextSong\").groupby(df.hour).count().orderBy(df.hour.cast(\"float\"))\n",
    "songs_in_hour.show(5)"
   ]
  },
  {
   "cell_type": "code",
   "execution_count": 19,
   "id": "892f1f10-7e9c-4a05-934f-ba08413bc0d2",
   "metadata": {},
   "outputs": [
    {
     "data": {
      "text/plain": [
       "Text(0, 0.5, 'Songs played')"
      ]
     },
     "execution_count": 19,
     "metadata": {},
     "output_type": "execute_result"
    },
    {
     "data": {
      "image/png": "[encoded data removed]",
      "text/plain": [
       "<Figure size 640x480 with 1 Axes>"
      ]
     },
     "metadata": {},
     "output_type": "display_data"
    }
   ],
   "source": [
    "# visualize using pandas\n",
    "songs_in_hour_pd = songs_in_hour.toPandas()\n",
    "songs_in_hour_pd[\"hour\"] = pd.to_numeric(songs_in_hour_pd[\"hour\"])\n",
    "\n",
    "songs_in_hour_pd.plot.scatter(x=\"hour\", y=\"count\")\n",
    "plt.xlim(-1, 24)\n",
    "plt.ylim(0, 1.2 * max(songs_in_hour_pd[\"count\"]))\n",
    "plt.xlabel(\"Hour\")\n",
    "plt.ylabel(\"Songs played\")"
   ]
  },
  {
   "cell_type": "code",
   "execution_count": 20,
   "id": "4c44a5eb-ff5c-4f97-8d26-ccdf0164acbb",
   "metadata": {},
   "outputs": [],
   "source": [
    "spark.stop()"
   ]
  },
  {
   "cell_type": "markdown",
   "id": "0f4499c4-ac90-47aa-b763-a9c777d18897",
   "metadata": {},
   "source": [
    "# Text Processing"
   ]
  },
  {
   "cell_type": "code",
   "execution_count": 18,
   "id": "cf317e5e-da9e-4d29-a406-df689135a63f",
   "metadata": {},
   "outputs": [],
   "source": [
    "from pyspark.context import SparkContext\n",
    "\n",
    "sc = SparkContext('local', 'intro_to_spark')\n",
    "sc.setLogLevel(\"OFF\")"
   ]
  },
  {
   "cell_type": "code",
   "execution_count": 20,
   "id": "0bebabd3-9b9e-4c03-a87b-b96863d7bae8",
   "metadata": {},
   "outputs": [
    {
     "data": {
      "text/plain": [
       "['hamlet@0\\t\\tHAMLET',\n",
       " 'hamlet@8',\n",
       " 'hamlet@9',\n",
       " 'hamlet@10\\t\\tDRAMATIS PERSONAE',\n",
       " 'hamlet@29']"
      ]
     },
     "execution_count": 20,
     "metadata": {},
     "output_type": "execute_result"
    }
   ],
   "source": [
    "raw_hamlet = sc.textFile(name=\"NonUploadedData/hamlet.txt\")\n",
    "raw_hamlet.take(5)"
   ]
  },
  {
   "cell_type": "code",
   "execution_count": 22,
   "id": "329aa0aa-f70f-473b-85a4-a6dc760fca1e",
   "metadata": {},
   "outputs": [
    {
     "data": {
      "text/plain": [
       "[['hamlet@0', '', 'HAMLET'],\n",
       " ['hamlet@8'],\n",
       " ['hamlet@9'],\n",
       " ['hamlet@10', '', 'DRAMATIS PERSONAE'],\n",
       " ['hamlet@29']]"
      ]
     },
     "execution_count": 22,
     "metadata": {},
     "output_type": "execute_result"
    }
   ],
   "source": [
    "split_hamlet = raw_hamlet.map(lambda line: line.split('\\t'))\n",
    "split_hamlet.take(5)"
   ]
  },
  {
   "cell_type": "code",
   "execution_count": 23,
   "id": "7b81af02-11c5-4d01-a57c-8b909d08e410",
   "metadata": {},
   "outputs": [
    {
     "data": {
      "text/plain": [
       "381"
      ]
     },
     "execution_count": 23,
     "metadata": {},
     "output_type": "execute_result"
    }
   ],
   "source": [
    "# we find and save the lines in which Hamlet speaks\n",
    "def filter_hamlet_speaks(line):\n",
    "    speaketh = False\n",
    "    if \"HAMLET\" in line:\n",
    "        speaketh = True\n",
    "    return speaketh\n",
    "\n",
    "# takes the lines where HAMLET speaks\n",
    "hamlet_spoken_lines = split_hamlet.filter(lambda line: filter_hamlet_speaks(line))\n",
    "\n",
    "# count number of elements in RDD\n",
    "hamlet_spoken_lines.count()"
   ]
  },
  {
   "cell_type": "code",
   "execution_count": 24,
   "id": "4f01574c-42e4-4918-b8b8-ee1b13b7b428",
   "metadata": {},
   "outputs": [
    {
     "data": {
      "text/plain": [
       "[['0', 'HAMLET'],\n",
       " ['10', 'DRAMATIS PERSONAE'],\n",
       " ['31', 'CLAUDIUS', 'king of Denmark. (KING CLAUDIUS:)'],\n",
       " ['75', 'HAMLET', 'son to the late, and nephew to the present king.'],\n",
       " ['132', 'POLONIUS', 'lord chamberlain. (LORD POLONIUS:)'],\n",
       " ['177', 'HORATIO', 'friend to Hamlet.'],\n",
       " ['204', 'LAERTES', 'son to Polonius.'],\n",
       " ['230', 'LUCIANUS', 'nephew to the king.'],\n",
       " ['261', 'VOLTIMAND', '|'],\n",
       " ['273', '|']]"
      ]
     },
     "execution_count": 24,
     "metadata": {},
     "output_type": "execute_result"
    }
   ],
   "source": [
    "# let's begin the data processing\n",
    "# remove hamlet@ from the beginning of the line\n",
    "hamlet_with_ids = split_hamlet.map(lambda line: [line[0].split('@')[-1], *line[1:]])\n",
    "\n",
    "# remove empty spaces and empty lines\n",
    "def filter_blanks(line):\n",
    "    blanks = True\n",
    "    if len(line) < 2:\n",
    "        blanks = False   \n",
    "    return blanks\n",
    "\n",
    "hamlet_text_only_aux = hamlet_with_ids.map(lambda line: [elemt for elemt in line if elemt != ''])\n",
    "hamlet_text_only = hamlet_text_only_aux.filter(lambda line: filter_blanks(line))\n",
    "hamlet_text_only.take(10)"
   ]
  },
  {
   "cell_type": "code",
   "execution_count": 25,
   "id": "7eb25579-b58c-48c4-8ddb-c32c29f11b70",
   "metadata": {},
   "outputs": [
    {
     "data": {
      "text/plain": [
       "[['0', 'HAMLET'],\n",
       " ['10', 'DRAMATIS PERSONAE'],\n",
       " ['31', 'CLAUDIUS', 'king of Denmark. (KING CLAUDIUS:)'],\n",
       " ['75', 'HAMLET', 'son to the late, and nephew to the present king.'],\n",
       " ['132', 'POLONIUS', 'lord chamberlain. (LORD POLONIUS:)'],\n",
       " ['177', 'HORATIO', 'friend to Hamlet.'],\n",
       " ['204', 'LAERTES', 'son to Polonius.'],\n",
       " ['230', 'LUCIANUS', 'nephew to the king.'],\n",
       " ['261', 'VOLTIMAND'],\n",
       " ['273']]"
      ]
     },
     "execution_count": 25,
     "metadata": {},
     "output_type": "execute_result"
    }
   ],
   "source": [
    "# remove elements with only '|' and replace '|' by '' where the | is in a string\n",
    "def fix_pipe(line):\n",
    "    new_line = []\n",
    "    for elemt in line:\n",
    "        if elemt == '|':\n",
    "            continue\n",
    "        new_line.append(elemt.replace(\"|\", \"\"))\n",
    "    return new_line\n",
    "\n",
    "clean_hamlet = hamlet_text_only.map(lambda line: fix_pipe(line))\n",
    "clean_hamlet.take(10)"
   ]
  },
  {
   "cell_type": "code",
   "execution_count": 26,
   "id": "17395940-33da-4cef-a3b3-7b32ad999da0",
   "metadata": {},
   "outputs": [],
   "source": [
    "sc.stop()"
   ]
  },
  {
   "cell_type": "markdown",
   "id": "212afc4a-193f-47ca-a48a-55c491b6e116",
   "metadata": {},
   "source": [
    "# NLP\n",
    "\n",
    "Following this tutorial in [kaggle](https://www.kaggle.com/code/surajpm/nlp-using-pyspark-ml).\n",
    "Data can be downloaded there too."
   ]
  },
  {
   "cell_type": "code",
   "execution_count": 22,
   "id": "bd1a897a-2ca2-4333-8d44-d182c8e79682",
   "metadata": {},
   "outputs": [],
   "source": [
    "from pyspark.sql import SparkSession\n",
    "\n",
    "spark = SparkSession.builder.appName('nlp').getOrCreate()"
   ]
  },
  {
   "cell_type": "code",
   "execution_count": 47,
   "id": "6641ea29-7998-4d98-864a-3bd7150bfb6f",
   "metadata": {},
   "outputs": [],
   "source": [
    "from pyspark.sql.functions import col, regexp_replace\n",
    "from pyspark.ml.feature import RegexTokenizer, StopWordsRemover, CountVectorizer\n",
    "from pyspark.ml.classification import NaiveBayes\n",
    "from pyspark.ml.evaluation import MulticlassClassificationEvaluator"
   ]
  },
  {
   "cell_type": "code",
   "execution_count": 23,
   "id": "46a092d4-db8c-49c2-8187-96476a03ce41",
   "metadata": {},
   "outputs": [
    {
     "name": "stdout",
     "output_type": "stream",
     "text": [
      "root\n",
      " |-- id: string (nullable = true)\n",
      " |-- keyword: string (nullable = true)\n",
      " |-- location: string (nullable = true)\n",
      " |-- text: string (nullable = true)\n",
      " |-- target: integer (nullable = true)\n",
      "\n"
     ]
    }
   ],
   "source": [
    "sdf_train = spark.read.csv('NonUploadedData/pySpark_NLP_train.csv', header=True, inferSchema=True)\n",
    "sdf_train.printSchema()"
   ]
  },
  {
   "cell_type": "code",
   "execution_count": 24,
   "id": "c3f3d7bc-0999-4eaf-8083-7a9cb6cefcb8",
   "metadata": {},
   "outputs": [
    {
     "data": {
      "text/plain": [
       "8387"
      ]
     },
     "execution_count": 24,
     "metadata": {},
     "output_type": "execute_result"
    }
   ],
   "source": [
    "sdf_train.count()"
   ]
  },
  {
   "cell_type": "code",
   "execution_count": 25,
   "id": "57c74527-a1a5-4d0c-a31e-be08a125193d",
   "metadata": {},
   "outputs": [
    {
     "name": "stdout",
     "output_type": "stream",
     "text": [
      "+---+-------+--------+--------------------+------+\n",
      "| id|keyword|location|                text|target|\n",
      "+---+-------+--------+--------------------+------+\n",
      "|  1|   NULL|    NULL|Our Deeds are the...|     1|\n",
      "|  4|   NULL|    NULL|Forest fire near ...|     1|\n",
      "|  5|   NULL|    NULL|All residents ask...|     1|\n",
      "|  6|   NULL|    NULL|13,000 people rec...|     1|\n",
      "|  7|   NULL|    NULL|Just got sent thi...|     1|\n",
      "+---+-------+--------+--------------------+------+\n",
      "only showing top 5 rows\n",
      "\n"
     ]
    }
   ],
   "source": [
    "sdf_train.show(5)"
   ]
  },
  {
   "cell_type": "code",
   "execution_count": 33,
   "id": "9472792a-6f26-4336-9b4b-6384cb512c7c",
   "metadata": {},
   "outputs": [
    {
     "name": "stdout",
     "output_type": "stream",
     "text": [
      "+------+-----+\n",
      "|target|count|\n",
      "+------+-----+\n",
      "|  NULL| 1211|\n",
      "|     1| 3081|\n",
      "|     0| 4095|\n",
      "+------+-----+\n",
      "\n"
     ]
    }
   ],
   "source": [
    "sdf_train.groupBy('target').count().show()"
   ]
  },
  {
   "cell_type": "code",
   "execution_count": 34,
   "id": "92df21a6-23d5-455a-9d24-7c9063505a29",
   "metadata": {},
   "outputs": [
    {
     "data": {
      "text/plain": [
       "7176"
      ]
     },
     "execution_count": 34,
     "metadata": {},
     "output_type": "execute_result"
    }
   ],
   "source": [
    "# Data pre-processing\n",
    "ml_df = sdf_train.select(\"id\", \"text\", \"target\")\n",
    "ml_df = ml_df.dropna()\n",
    "ml_df.count()"
   ]
  },
  {
   "cell_type": "code",
   "execution_count": 38,
   "id": "deef082f-4496-4a90-9f2d-c28114c8e92f",
   "metadata": {},
   "outputs": [
    {
     "name": "stdout",
     "output_type": "stream",
     "text": [
      "+---+--------------------+------+--------------------+\n",
      "| id|                text|target|            only_str|\n",
      "+---+--------------------+------+--------------------+\n",
      "|  1|Our Deeds are the...|     1|Our Deeds are the...|\n",
      "|  4|Forest fire near ...|     1|Forest fire near ...|\n",
      "|  5|All residents ask...|     1|All residents ask...|\n",
      "|  6|13,000 people rec...|     1|, people receive ...|\n",
      "|  7|Just got sent thi...|     1|Just got sent thi...|\n",
      "+---+--------------------+------+--------------------+\n",
      "only showing top 5 rows\n",
      "\n"
     ]
    }
   ],
   "source": [
    "# removing numbers from the tweets\n",
    "ml_df = ml_df.withColumn(\"only_str\", regexp_replace(col('text'), '\\d+', ''))\n",
    "ml_df.show(5)"
   ]
  },
  {
   "cell_type": "code",
   "execution_count": 40,
   "id": "51260e2f-deb5-422f-9039-29b114366618",
   "metadata": {},
   "outputs": [
    {
     "name": "stdout",
     "output_type": "stream",
     "text": [
      "+---+--------------------+------+--------------------+--------------------+\n",
      "| id|                text|target|            only_str|               words|\n",
      "+---+--------------------+------+--------------------+--------------------+\n",
      "|  1|Our Deeds are the...|     1|Our Deeds are the...|[our, deeds, are,...|\n",
      "|  4|Forest fire near ...|     1|Forest fire near ...|[forest, fire, ne...|\n",
      "|  5|All residents ask...|     1|All residents ask...|[all, residents, ...|\n",
      "|  6|13,000 people rec...|     1|, people receive ...|[people, receive,...|\n",
      "|  7|Just got sent thi...|     1|Just got sent thi...|[just, got, sent,...|\n",
      "+---+--------------------+------+--------------------+--------------------+\n",
      "only showing top 5 rows\n",
      "\n"
     ]
    }
   ],
   "source": [
    "# tokenize the tweets\n",
    "regex_tokenizer = RegexTokenizer(inputCol=\"only_str\", outputCol=\"words\", pattern=\"\\\\W\")\n",
    "raw_words = regex_tokenizer.transform(ml_df)\n",
    "raw_words.show(5)"
   ]
  },
  {
   "cell_type": "code",
   "execution_count": 42,
   "id": "5c07e2fb-aeae-4c82-8a00-54a01aff91cd",
   "metadata": {},
   "outputs": [
    {
     "name": "stdout",
     "output_type": "stream",
     "text": [
      "+---+---------------------------------------------------------------------------------------------------------------------------------------------------------+------+----------------------------------------------------------------------------------------------------+\n",
      "|id |words                                                                                                                                                    |target|filtered                                                                                            |\n",
      "+---+---------------------------------------------------------------------------------------------------------------------------------------------------------+------+----------------------------------------------------------------------------------------------------+\n",
      "|1  |[our, deeds, are, the, reason, of, this, earthquake, may, allah, forgive, us, all]                                                                       |1     |[deeds, reason, earthquake, may, allah, forgive, us]                                                |\n",
      "|4  |[forest, fire, near, la, ronge, sask, canada]                                                                                                            |1     |[forest, fire, near, la, ronge, sask, canada]                                                       |\n",
      "|5  |[all, residents, asked, to, shelter, in, place, are, being, notified, by, officers, no, other, evacuation, or, shelter, in, place, orders, are, expected]|1     |[residents, asked, shelter, place, notified, officers, evacuation, shelter, place, orders, expected]|\n",
      "|6  |[people, receive, wildfires, evacuation, orders, in, california]                                                                                         |1     |[people, receive, wildfires, evacuation, orders, california]                                        |\n",
      "|7  |[just, got, sent, this, photo, from, ruby, alaska, as, smoke, from, wildfires, pours, into, a, school]                                                   |1     |[got, sent, photo, ruby, alaska, smoke, wildfires, pours, school]                                   |\n",
      "+---+---------------------------------------------------------------------------------------------------------------------------------------------------------+------+----------------------------------------------------------------------------------------------------+\n",
      "only showing top 5 rows\n",
      "\n"
     ]
    }
   ],
   "source": [
    "# remove stop words\n",
    "remover = StopWordsRemover(inputCol=\"words\", outputCol=\"filtered\")\n",
    "words_df = remover.transform(raw_words)\n",
    "words_df.select(\"id\",\"words\",\"target\",\"filtered\").show(5, truncate=False)"
   ]
  },
  {
   "cell_type": "code",
   "execution_count": 45,
   "id": "46fd89ad-c0e8-4e5c-bad6-13e5043256fd",
   "metadata": {},
   "outputs": [
    {
     "name": "stdout",
     "output_type": "stream",
     "text": [
      "+---+--------------------+------+--------------------+--------------------+--------------------+--------------------+\n",
      "| id|                text|target|            only_str|               words|            filtered|            features|\n",
      "+---+--------------------+------+--------------------+--------------------+--------------------+--------------------+\n",
      "|  1|Our Deeds are the...|     1|Our Deeds are the...|[our, deeds, are,...|[deeds, reason, e...|(19663,[24,65,149...|\n",
      "|  4|Forest fire near ...|     1|Forest fire near ...|[forest, fire, ne...|[forest, fire, ne...|(19663,[7,100,138...|\n",
      "|  5|All residents ask...|     1|All residents ask...|[all, residents, ...|[residents, asked...|(19663,[159,584,9...|\n",
      "|  6|13,000 people rec...|     1|, people receive ...|[people, receive,...|[people, receive,...|(19663,[11,23,159...|\n",
      "|  7|Just got sent thi...|     1|Just got sent thi...|[just, got, sent,...|[got, sent, photo...|(19663,[32,106,15...|\n",
      "+---+--------------------+------+--------------------+--------------------+--------------------+--------------------+\n",
      "only showing top 5 rows\n",
      "\n"
     ]
    }
   ],
   "source": [
    "# vectorize words: create features column\n",
    "cv = CountVectorizer(inputCol=\"filtered\", outputCol=\"features\")\n",
    "model = cv.fit(words_df)\n",
    "countVectorizer_train = model.transform(words_df)\n",
    "countVectorizer_train.show(5)"
   ]
  },
  {
   "cell_type": "code",
   "execution_count": 50,
   "id": "c0dbf196-2fa3-409c-ab3b-c8936b45c068",
   "metadata": {},
   "outputs": [],
   "source": [
    "# train and validation split\n",
    "train, validate = countVectorizer_train.randomSplit([0.8, 0.2], seed=97435)"
   ]
  },
  {
   "cell_type": "code",
   "execution_count": 53,
   "id": "ef075954-351d-4898-888b-6c2d6f36c3b3",
   "metadata": {},
   "outputs": [
    {
     "name": "stderr",
     "output_type": "stream",
     "text": [
      "                                                                                \r"
     ]
    }
   ],
   "source": [
    "# machine learning model: Naive Bayes Classifier\n",
    "nb = NaiveBayes(modelType=\"multinomial\", labelCol=\"target\", featuresCol=\"features\")\n",
    "nbModel = nb.fit(train)\n",
    "nb_predictions = nbModel.transform(validate)"
   ]
  },
  {
   "cell_type": "code",
   "execution_count": 55,
   "id": "c4c3468a-7ace-4178-ad79-e2e9d5d82d14",
   "metadata": {},
   "outputs": [
    {
     "data": {
      "text/plain": [
       "0.8034129692832764"
      ]
     },
     "execution_count": 55,
     "metadata": {},
     "output_type": "execute_result"
    }
   ],
   "source": [
    "evaluator = MulticlassClassificationEvaluator(labelCol=\"target\", predictionCol=\"prediction\", metricName=\"accuracy\")\n",
    "nb_accuracy = evaluator.evaluate(nb_predictions)\n",
    "nb_accuracy"
   ]
  },
  {
   "cell_type": "code",
   "execution_count": 58,
   "id": "28fb01ee-e3ea-4e7e-bf01-f2484a36109e",
   "metadata": {},
   "outputs": [
    {
     "name": "stdout",
     "output_type": "stream",
     "text": [
      "+----------------------------------------------------------------------------------------------------------------------------------------+------+----------+\n",
      "|text                                                                                                                                    |target|prediction|\n",
      "+----------------------------------------------------------------------------------------------------------------------------------------+------+----------+\n",
      "|Our Deeds are the Reason of this #earthquake May ALLAH Forgive us all                                                                   |1     |1.0       |\n",
      "|love 106.1 The Twister @1061thetwister  and Maddie and Tae #OKTXDUO                                                                     |0     |0.0       |\n",
      "|Crazy Mom Threw Teen Daughter a NUDE Twister Sex Party According To Her Friend59 more pics http://t.co/t94LNfwf34 http://t.co/roCyyEI2dM|0     |0.0       |\n",
      "|Reasons brain twister oneself should discount redesigning yours website: ItrAWcWB                                                       |0     |0.0       |\n",
      "|Bulgarian Tittie Twister By NoEmotion Produced By EDK PathFinders (HD) M...: http://t.co/9ODqryJncF via YouTube                         |0     |0.0       |\n",
      "+----------------------------------------------------------------------------------------------------------------------------------------+------+----------+\n",
      "only showing top 5 rows\n",
      "\n"
     ]
    }
   ],
   "source": [
    "# let's look at the predictions\n",
    "nb_predictions.select('text', 'target', 'prediction').show(5, truncate=False)"
   ]
  },
  {
   "cell_type": "code",
   "execution_count": 59,
   "id": "aa98ff53-ffd6-481f-bba1-129528745a39",
   "metadata": {},
   "outputs": [],
   "source": [
    "spark.stop()"
   ]
  },
  {
   "cell_type": "code",
   "execution_count": null,
   "id": "b734d835-af87-48ff-bf5a-2095a047c9de",
   "metadata": {},
   "outputs": [],
   "source": []
  }
 ],
 "metadata": {
  "kernelspec": {
   "display_name": "Python 3 (ipykernel)",
   "language": "python",
   "name": "python3"
  },
  "language_info": {
   "codemirror_mode": {
    "name": "ipython",
    "version": 3
   },
   "file_extension": ".py",
   "mimetype": "text/x-python",
   "name": "python",
   "nbconvert_exporter": "python",
   "pygments_lexer": "ipython3",
   "version": "3.9.18"
  }
 },
 "nbformat": 4,
 "nbformat_minor": 5
}
