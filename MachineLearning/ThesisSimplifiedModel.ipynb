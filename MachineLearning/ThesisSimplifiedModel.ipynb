{
 "cells": [
  {
   "cell_type": "code",
   "execution_count": 14,
   "id": "0091385b-0db9-4474-bcd1-6f6cca0bd97d",
   "metadata": {},
   "outputs": [],
   "source": [
    "# Basic libs\n",
    "import os\n",
    "import re\n",
    "import itertools\n",
    "import numpy as np\n",
    "import pandas as pd\n",
    "import matplotlib\n",
    "import matplotlib.pyplot as plt\n",
    "\n",
    "%matplotlib inline\n",
    "matplotlib.rcParams['figure.figsize'] = (4,3)\n",
    "\n",
    "# Machine Learning - pre-processing\n",
    "from sklearn.preprocessing import StandardScaler\n",
    "\n",
    "# Machine Learning\n",
    "from sklearn.svm import SVC\n",
    "from sklearn.tree import DecisionTreeClassifier\n",
    "from sklearn.ensemble import RandomForestClassifier\n",
    "from sklearn.linear_model import LogisticRegression\n",
    "from sklearn.neighbors import KNeighborsClassifier\n",
    "# Deep Learning\n",
    "from tensorflow.keras.models import Sequential\n",
    "from tensorflow.keras.layers import Dense\n",
    "from tensorflow.keras.optimizers import Adam\n",
    "\n",
    "# Machine Learning - post-processing\n",
    "from sklearn.metrics import confusion_matrix, classification_report"
   ]
  },
  {
   "cell_type": "markdown",
   "id": "1a426d56-503e-445b-ac1c-4774006c9d6c",
   "metadata": {},
   "source": [
    "# Data Preparation\n",
    "\n",
    "The following cells are left for reproducibility.\n",
    "In a different machine, it is not necessary to run these cells.\n",
    "These are only for condensing the data into a .csv file."
   ]
  },
  {
   "cell_type": "code",
   "execution_count": 3,
   "id": "1e77d5d1-0a03-428f-9008-7848811bd478",
   "metadata": {},
   "outputs": [
    {
     "data": {
      "text/html": [
       "<div>\n",
       "<style scoped>\n",
       "    .dataframe tbody tr th:only-of-type {\n",
       "        vertical-align: middle;\n",
       "    }\n",
       "\n",
       "    .dataframe tbody tr th {\n",
       "        vertical-align: top;\n",
       "    }\n",
       "\n",
       "    .dataframe thead th {\n",
       "        text-align: right;\n",
       "    }\n",
       "</style>\n",
       "<table border=\"1\" class=\"dataframe\">\n",
       "  <thead>\n",
       "    <tr style=\"text-align: right;\">\n",
       "      <th></th>\n",
       "      <th>Z</th>\n",
       "      <th>symbol</th>\n",
       "      <th>rho</th>\n",
       "      <th>k</th>\n",
       "      <th>cp</th>\n",
       "    </tr>\n",
       "    <tr>\n",
       "      <th>material</th>\n",
       "      <th></th>\n",
       "      <th></th>\n",
       "      <th></th>\n",
       "      <th></th>\n",
       "      <th></th>\n",
       "    </tr>\n",
       "  </thead>\n",
       "  <tbody>\n",
       "    <tr>\n",
       "      <th>aluminum</th>\n",
       "      <td>13</td>\n",
       "      <td>al</td>\n",
       "      <td>2698.0</td>\n",
       "      <td>225.940</td>\n",
       "      <td>921</td>\n",
       "    </tr>\n",
       "    <tr>\n",
       "      <th>americium*</th>\n",
       "      <td>95</td>\n",
       "      <td>am</td>\n",
       "      <td>11700.0</td>\n",
       "      <td>12.552</td>\n",
       "      <td>126</td>\n",
       "    </tr>\n",
       "    <tr>\n",
       "      <th>antimony</th>\n",
       "      <td>51</td>\n",
       "      <td>sb</td>\n",
       "      <td>6696.0</td>\n",
       "      <td>18.410</td>\n",
       "      <td>207</td>\n",
       "    </tr>\n",
       "    <tr>\n",
       "      <th>arsenic_grey</th>\n",
       "      <td>33</td>\n",
       "      <td>as</td>\n",
       "      <td>5730.0</td>\n",
       "      <td>4.184</td>\n",
       "      <td>331</td>\n",
       "    </tr>\n",
       "    <tr>\n",
       "      <th>barium</th>\n",
       "      <td>56</td>\n",
       "      <td>ba</td>\n",
       "      <td>3500.0</td>\n",
       "      <td>33.472</td>\n",
       "      <td>188</td>\n",
       "    </tr>\n",
       "  </tbody>\n",
       "</table>\n",
       "</div>"
      ],
      "text/plain": [
       "               Z symbol      rho        k   cp\n",
       "material                                      \n",
       "aluminum      13     al   2698.0  225.940  921\n",
       "americium*    95     am  11700.0   12.552  126\n",
       "antimony      51     sb   6696.0   18.410  207\n",
       "arsenic_grey  33     as   5730.0    4.184  331\n",
       "barium        56     ba   3500.0   33.472  188"
      ]
     },
     "execution_count": 3,
     "metadata": {},
     "output_type": "execute_result"
    }
   ],
   "source": [
    "material_properties = pd.read_csv('thermal_properties.csv', index_col='material')\n",
    "material_properties.head()"
   ]
  },
  {
   "cell_type": "code",
   "execution_count": 4,
   "id": "9b9a2d09-5e19-4304-b0b9-f1f676e37748",
   "metadata": {},
   "outputs": [],
   "source": [
    "q_listA = np.arange(1.e7, 1.e8, 2e6)  # W/m3\n",
    "q_listB = np.arange(1.e8, 5.e8, 2e7)  # W/m3\n",
    "q_list = np.concatenate([q_listA, q_listB])\n",
    "tau_list = [20, 40, 60, 80, 100]"
   ]
  },
  {
   "cell_type": "code",
   "execution_count": 13,
   "id": "56de3596-2335-4f66-a3b6-11827cbe0542",
   "metadata": {},
   "outputs": [],
   "source": [
    "ofile_location = '/home/roberto/Documents/phd-results/cfd/decayMoose/'"
   ]
  },
  {
   "cell_type": "code",
   "execution_count": null,
   "id": "54faeed1-e453-4477-81f4-52fbcc4c5809",
   "metadata": {},
   "outputs": [],
   "source": [
    "# I want my .csv to look like this:\n",
    "# index, material number, material, rho, k, cp, qvalue, q0, tau0\n",
    "\n",
    "# another csv will have the time information\n",
    "# index, time"
   ]
  },
  {
   "cell_type": "code",
   "execution_count": 29,
   "id": "28562b85-500e-4267-bf71-b521f86b805b",
   "metadata": {},
   "outputs": [
    {
     "name": "stdout",
     "output_type": "stream",
     "text": [
      "Discarded sample. input_m7_q322.csv: Run not completed.\n",
      "Discarded sample. input_m8_q323.csv: Run not completed.\n",
      "Discarded sample. input_m10_q319.csv: Run not completed.\n",
      "Discarded sample. input_m21_q312.csv: Run not completed.\n"
     ]
    }
   ],
   "source": [
    "data = []\n",
    "for m_index, material in enumerate(material_properties[:33].index):\n",
    "    for q_index, q0 in enumerate(q_list):\n",
    "        for tau_index, tau in enumerate(tau_list):\n",
    "            q_id = q_index * len(tau_list) + tau_index\n",
    "            rho = material_properties.loc[material]['rho']\n",
    "            k = material_properties.loc[material]['k']\n",
    "            cp = material_properties.loc[material]['cp']\n",
    "\n",
    "            ofile = f'input_m{m_index}_q{q_superindex}.csv'\n",
    "            if ofile not in os.listdir(ofile_location):\n",
    "                print(f'Discarded sample. {ofile}: does not exist.')\n",
    "                continue\n",
    "\n",
    "            full_path = os.path.join(ofile_location, ofile)\n",
    "            df = pd.read_csv(full_path, usecols=['time', 'max_temp'])\n",
    "            df.rename(columns={\"time\": \"t\", \"max_temp\": \"T\"}, inplace=True)\n",
    "\n",
    "            temp = df[['T']].values.T[0]\n",
    "            time = df[['t']].values.reshape(1, -1)[0]\n",
    "            if m_index == 0 and q_id == 0:\n",
    "                time0 = time.copy()\n",
    "\n",
    "            if time[-1] != 500.0:\n",
    "                print(f'Discarded sample. {ofile}: Run not completed.')\n",
    "                continue\n",
    "\n",
    "            if len(time) != len(time0):\n",
    "                n_temp = np.interp(time0, time, temp)\n",
    "                temp = n_temp.copy()\n",
    "\n",
    "            # material number, material, rho, k, cp, qvalue, q0, tau0\n",
    "            data.append([m_index, material, rho, k, cp, q_id, q0, tau] + temp.tolist())"
   ]
  },
  {
   "cell_type": "code",
   "execution_count": 34,
   "id": "fbdda63c-67e6-4207-878d-4b7a2e6dfefa",
   "metadata": {
    "scrolled": true
   },
   "outputs": [
    {
     "data": {
      "text/plain": [
       "['materialNumber',\n",
       " 'material',\n",
       " 'rho',\n",
       " 'k',\n",
       " 'cp',\n",
       " 'q_id',\n",
       " 'q0',\n",
       " 'tau',\n",
       " 'T0',\n",
       " 'T1',\n",
       " 'T2',\n",
       " 'T3',\n",
       " 'T4',\n",
       " 'T5',\n",
       " 'T6',\n",
       " 'T7',\n",
       " 'T8',\n",
       " 'T9',\n",
       " 'T10',\n",
       " 'T11',\n",
       " 'T12',\n",
       " 'T13',\n",
       " 'T14',\n",
       " 'T15',\n",
       " 'T16',\n",
       " 'T17',\n",
       " 'T18',\n",
       " 'T19',\n",
       " 'T20',\n",
       " 'T21',\n",
       " 'T22',\n",
       " 'T23',\n",
       " 'T24',\n",
       " 'T25',\n",
       " 'T26',\n",
       " 'T27',\n",
       " 'T28',\n",
       " 'T29',\n",
       " 'T30',\n",
       " 'T31',\n",
       " 'T32',\n",
       " 'T33',\n",
       " 'T34',\n",
       " 'T35',\n",
       " 'T36',\n",
       " 'T37',\n",
       " 'T38',\n",
       " 'T39',\n",
       " 'T40',\n",
       " 'T41',\n",
       " 'T42',\n",
       " 'T43',\n",
       " 'T44',\n",
       " 'T45',\n",
       " 'T46',\n",
       " 'T47',\n",
       " 'T48',\n",
       " 'T49',\n",
       " 'T50']"
      ]
     },
     "execution_count": 34,
     "metadata": {},
     "output_type": "execute_result"
    }
   ],
   "source": [
    "# material number, material, rho, k, cp, qvalue, q0, tau0\n",
    "columns = [\n",
    "    'materialNumber',\n",
    "    'material',\n",
    "    'rho',\n",
    "    'k',\n",
    "    'cp',\n",
    "    'q_id',\n",
    "    'q0',\n",
    "    'tau']\n",
    "\n",
    "columns += [f'T{i}' for i in range(len(time0))]\n",
    "columns"
   ]
  },
  {
   "cell_type": "code",
   "execution_count": 43,
   "id": "f4bd4ba9-ff36-41d7-812c-68bd6ae63a06",
   "metadata": {},
   "outputs": [
    {
     "data": {
      "text/html": [
       "<div>\n",
       "<style scoped>\n",
       "    .dataframe tbody tr th:only-of-type {\n",
       "        vertical-align: middle;\n",
       "    }\n",
       "\n",
       "    .dataframe tbody tr th {\n",
       "        vertical-align: top;\n",
       "    }\n",
       "\n",
       "    .dataframe thead th {\n",
       "        text-align: right;\n",
       "    }\n",
       "</style>\n",
       "<table border=\"1\" class=\"dataframe\">\n",
       "  <thead>\n",
       "    <tr style=\"text-align: right;\">\n",
       "      <th></th>\n",
       "      <th>materialNumber</th>\n",
       "      <th>material</th>\n",
       "      <th>rho</th>\n",
       "      <th>k</th>\n",
       "      <th>cp</th>\n",
       "      <th>q_id</th>\n",
       "      <th>q0</th>\n",
       "      <th>tau</th>\n",
       "      <th>T0</th>\n",
       "      <th>T1</th>\n",
       "      <th>...</th>\n",
       "      <th>T41</th>\n",
       "      <th>T42</th>\n",
       "      <th>T43</th>\n",
       "      <th>T44</th>\n",
       "      <th>T45</th>\n",
       "      <th>T46</th>\n",
       "      <th>T47</th>\n",
       "      <th>T48</th>\n",
       "      <th>T49</th>\n",
       "      <th>T50</th>\n",
       "    </tr>\n",
       "  </thead>\n",
       "  <tbody>\n",
       "    <tr>\n",
       "      <th>0</th>\n",
       "      <td>0</td>\n",
       "      <td>aluminum</td>\n",
       "      <td>2698.0</td>\n",
       "      <td>225.94</td>\n",
       "      <td>921</td>\n",
       "      <td>0</td>\n",
       "      <td>10000000.0</td>\n",
       "      <td>20</td>\n",
       "      <td>25.020121</td>\n",
       "      <td>25.044322</td>\n",
       "      <td>...</td>\n",
       "      <td>25.859701</td>\n",
       "      <td>25.395992</td>\n",
       "      <td>25.160721</td>\n",
       "      <td>25.057753</td>\n",
       "      <td>25.018837</td>\n",
       "      <td>25.005917</td>\n",
       "      <td>25.001961</td>\n",
       "      <td>25.000733</td>\n",
       "      <td>25.000301</td>\n",
       "      <td>25.000176</td>\n",
       "    </tr>\n",
       "    <tr>\n",
       "      <th>1</th>\n",
       "      <td>0</td>\n",
       "      <td>aluminum</td>\n",
       "      <td>2698.0</td>\n",
       "      <td>225.94</td>\n",
       "      <td>921</td>\n",
       "      <td>1</td>\n",
       "      <td>10000000.0</td>\n",
       "      <td>40</td>\n",
       "      <td>25.020126</td>\n",
       "      <td>25.044341</td>\n",
       "      <td>...</td>\n",
       "      <td>29.235889</td>\n",
       "      <td>27.622515</td>\n",
       "      <td>26.468948</td>\n",
       "      <td>25.732850</td>\n",
       "      <td>25.320034</td>\n",
       "      <td>25.120172</td>\n",
       "      <td>25.038248</td>\n",
       "      <td>25.010311</td>\n",
       "      <td>25.002442</td>\n",
       "      <td>25.000931</td>\n",
       "    </tr>\n",
       "    <tr>\n",
       "      <th>2</th>\n",
       "      <td>0</td>\n",
       "      <td>aluminum</td>\n",
       "      <td>2698.0</td>\n",
       "      <td>225.94</td>\n",
       "      <td>921</td>\n",
       "      <td>2</td>\n",
       "      <td>10000000.0</td>\n",
       "      <td>60</td>\n",
       "      <td>25.020128</td>\n",
       "      <td>25.044347</td>\n",
       "      <td>...</td>\n",
       "      <td>33.160295</td>\n",
       "      <td>30.857515</td>\n",
       "      <td>28.916887</td>\n",
       "      <td>27.411235</td>\n",
       "      <td>26.346793</td>\n",
       "      <td>25.670735</td>\n",
       "      <td>25.291868</td>\n",
       "      <td>25.108430</td>\n",
       "      <td>25.033556</td>\n",
       "      <td>25.015102</td>\n",
       "    </tr>\n",
       "    <tr>\n",
       "      <th>3</th>\n",
       "      <td>0</td>\n",
       "      <td>aluminum</td>\n",
       "      <td>2698.0</td>\n",
       "      <td>225.94</td>\n",
       "      <td>921</td>\n",
       "      <td>3</td>\n",
       "      <td>10000000.0</td>\n",
       "      <td>80</td>\n",
       "      <td>25.020129</td>\n",
       "      <td>25.044350</td>\n",
       "      <td>...</td>\n",
       "      <td>36.534787</td>\n",
       "      <td>33.967522</td>\n",
       "      <td>31.603345</td>\n",
       "      <td>29.564059</td>\n",
       "      <td>27.927544</td>\n",
       "      <td>26.718577</td>\n",
       "      <td>25.907925</td>\n",
       "      <td>25.423127</td>\n",
       "      <td>25.169929</td>\n",
       "      <td>25.093661</td>\n",
       "    </tr>\n",
       "    <tr>\n",
       "      <th>4</th>\n",
       "      <td>0</td>\n",
       "      <td>aluminum</td>\n",
       "      <td>2698.0</td>\n",
       "      <td>225.94</td>\n",
       "      <td>921</td>\n",
       "      <td>4</td>\n",
       "      <td>10000000.0</td>\n",
       "      <td>100</td>\n",
       "      <td>25.020129</td>\n",
       "      <td>25.044352</td>\n",
       "      <td>...</td>\n",
       "      <td>39.269606</td>\n",
       "      <td>36.654246</td>\n",
       "      <td>34.108892</td>\n",
       "      <td>31.764257</td>\n",
       "      <td>29.728876</td>\n",
       "      <td>28.077059</td>\n",
       "      <td>26.837994</td>\n",
       "      <td>25.991209</td>\n",
       "      <td>25.473160</td>\n",
       "      <td>25.295364</td>\n",
       "    </tr>\n",
       "  </tbody>\n",
       "</table>\n",
       "<p>5 rows × 59 columns</p>\n",
       "</div>"
      ],
      "text/plain": [
       "   materialNumber  material     rho       k   cp  q_id          q0  tau  \\\n",
       "0               0  aluminum  2698.0  225.94  921     0  10000000.0   20   \n",
       "1               0  aluminum  2698.0  225.94  921     1  10000000.0   40   \n",
       "2               0  aluminum  2698.0  225.94  921     2  10000000.0   60   \n",
       "3               0  aluminum  2698.0  225.94  921     3  10000000.0   80   \n",
       "4               0  aluminum  2698.0  225.94  921     4  10000000.0  100   \n",
       "\n",
       "          T0         T1  ...        T41        T42        T43        T44  \\\n",
       "0  25.020121  25.044322  ...  25.859701  25.395992  25.160721  25.057753   \n",
       "1  25.020126  25.044341  ...  29.235889  27.622515  26.468948  25.732850   \n",
       "2  25.020128  25.044347  ...  33.160295  30.857515  28.916887  27.411235   \n",
       "3  25.020129  25.044350  ...  36.534787  33.967522  31.603345  29.564059   \n",
       "4  25.020129  25.044352  ...  39.269606  36.654246  34.108892  31.764257   \n",
       "\n",
       "         T45        T46        T47        T48        T49        T50  \n",
       "0  25.018837  25.005917  25.001961  25.000733  25.000301  25.000176  \n",
       "1  25.320034  25.120172  25.038248  25.010311  25.002442  25.000931  \n",
       "2  26.346793  25.670735  25.291868  25.108430  25.033556  25.015102  \n",
       "3  27.927544  26.718577  25.907925  25.423127  25.169929  25.093661  \n",
       "4  29.728876  28.077059  26.837994  25.991209  25.473160  25.295364  \n",
       "\n",
       "[5 rows x 59 columns]"
      ]
     },
     "execution_count": 43,
     "metadata": {},
     "output_type": "execute_result"
    }
   ],
   "source": [
    "df_data = pd.DataFrame(data, columns=columns)\n",
    "df_data.head()"
   ]
  },
  {
   "cell_type": "code",
   "execution_count": 44,
   "id": "7cedac71-5fe3-4300-bc4a-dddd743d01dc",
   "metadata": {},
   "outputs": [
    {
     "data": {
      "text/html": [
       "<div>\n",
       "<style scoped>\n",
       "    .dataframe tbody tr th:only-of-type {\n",
       "        vertical-align: middle;\n",
       "    }\n",
       "\n",
       "    .dataframe tbody tr th {\n",
       "        vertical-align: top;\n",
       "    }\n",
       "\n",
       "    .dataframe thead th {\n",
       "        text-align: right;\n",
       "    }\n",
       "</style>\n",
       "<table border=\"1\" class=\"dataframe\">\n",
       "  <thead>\n",
       "    <tr style=\"text-align: right;\">\n",
       "      <th></th>\n",
       "      <th>time</th>\n",
       "    </tr>\n",
       "  </thead>\n",
       "  <tbody>\n",
       "    <tr>\n",
       "      <th>0</th>\n",
       "      <td>0.010000</td>\n",
       "    </tr>\n",
       "    <tr>\n",
       "      <th>1</th>\n",
       "      <td>0.022000</td>\n",
       "    </tr>\n",
       "    <tr>\n",
       "      <th>2</th>\n",
       "      <td>0.036400</td>\n",
       "    </tr>\n",
       "    <tr>\n",
       "      <th>3</th>\n",
       "      <td>0.053680</td>\n",
       "    </tr>\n",
       "    <tr>\n",
       "      <th>4</th>\n",
       "      <td>0.074416</td>\n",
       "    </tr>\n",
       "  </tbody>\n",
       "</table>\n",
       "</div>"
      ],
      "text/plain": [
       "       time\n",
       "0  0.010000\n",
       "1  0.022000\n",
       "2  0.036400\n",
       "3  0.053680\n",
       "4  0.074416"
      ]
     },
     "execution_count": 44,
     "metadata": {},
     "output_type": "execute_result"
    }
   ],
   "source": [
    "df_time = pd.DataFrame(time0, columns=['time'])\n",
    "df_time.head()"
   ]
  },
  {
   "cell_type": "code",
   "execution_count": 45,
   "id": "dc446613-20c2-4783-a363-6aa947fc4431",
   "metadata": {},
   "outputs": [],
   "source": [
    "# Export to .csv\n",
    "df_data.to_csv('data.csv')\n",
    "df_time.to_csv('time.csv')"
   ]
  },
  {
   "cell_type": "markdown",
   "id": "4f25792b-2647-41bf-9697-6cedb0a3f94b",
   "metadata": {},
   "source": [
    "# Import and prepare data\n",
    "\n",
    "Start here."
   ]
  },
  {
   "cell_type": "code",
   "execution_count": 2,
   "id": "1ce2689a-4bb8-48c2-b519-ad0023c0beae",
   "metadata": {},
   "outputs": [],
   "source": [
    "# Get data\n",
    "df_data = pd.read_csv('data.csv')\n",
    "df_time = pd.read_csv('time.csv')"
   ]
  },
  {
   "cell_type": "code",
   "execution_count": 3,
   "id": "591baf18-1729-462e-89b3-229344a5db97",
   "metadata": {},
   "outputs": [
    {
     "data": {
      "text/html": [
       "<div>\n",
       "<style scoped>\n",
       "    .dataframe tbody tr th:only-of-type {\n",
       "        vertical-align: middle;\n",
       "    }\n",
       "\n",
       "    .dataframe tbody tr th {\n",
       "        vertical-align: top;\n",
       "    }\n",
       "\n",
       "    .dataframe thead th {\n",
       "        text-align: right;\n",
       "    }\n",
       "</style>\n",
       "<table border=\"1\" class=\"dataframe\">\n",
       "  <thead>\n",
       "    <tr style=\"text-align: right;\">\n",
       "      <th></th>\n",
       "      <th>Unnamed: 0</th>\n",
       "      <th>materialNumber</th>\n",
       "      <th>material</th>\n",
       "      <th>rho</th>\n",
       "      <th>k</th>\n",
       "      <th>cp</th>\n",
       "      <th>q_id</th>\n",
       "      <th>q0</th>\n",
       "      <th>tau</th>\n",
       "      <th>T0</th>\n",
       "      <th>...</th>\n",
       "      <th>T41</th>\n",
       "      <th>T42</th>\n",
       "      <th>T43</th>\n",
       "      <th>T44</th>\n",
       "      <th>T45</th>\n",
       "      <th>T46</th>\n",
       "      <th>T47</th>\n",
       "      <th>T48</th>\n",
       "      <th>T49</th>\n",
       "      <th>T50</th>\n",
       "    </tr>\n",
       "  </thead>\n",
       "  <tbody>\n",
       "    <tr>\n",
       "      <th>0</th>\n",
       "      <td>0</td>\n",
       "      <td>0</td>\n",
       "      <td>aluminum</td>\n",
       "      <td>2698.0</td>\n",
       "      <td>225.94</td>\n",
       "      <td>921</td>\n",
       "      <td>0</td>\n",
       "      <td>10000000.0</td>\n",
       "      <td>20</td>\n",
       "      <td>25.020121</td>\n",
       "      <td>...</td>\n",
       "      <td>25.859701</td>\n",
       "      <td>25.395992</td>\n",
       "      <td>25.160721</td>\n",
       "      <td>25.057753</td>\n",
       "      <td>25.018837</td>\n",
       "      <td>25.005917</td>\n",
       "      <td>25.001961</td>\n",
       "      <td>25.000733</td>\n",
       "      <td>25.000301</td>\n",
       "      <td>25.000176</td>\n",
       "    </tr>\n",
       "    <tr>\n",
       "      <th>1</th>\n",
       "      <td>1</td>\n",
       "      <td>0</td>\n",
       "      <td>aluminum</td>\n",
       "      <td>2698.0</td>\n",
       "      <td>225.94</td>\n",
       "      <td>921</td>\n",
       "      <td>1</td>\n",
       "      <td>10000000.0</td>\n",
       "      <td>40</td>\n",
       "      <td>25.020126</td>\n",
       "      <td>...</td>\n",
       "      <td>29.235889</td>\n",
       "      <td>27.622515</td>\n",
       "      <td>26.468948</td>\n",
       "      <td>25.732850</td>\n",
       "      <td>25.320034</td>\n",
       "      <td>25.120172</td>\n",
       "      <td>25.038248</td>\n",
       "      <td>25.010311</td>\n",
       "      <td>25.002442</td>\n",
       "      <td>25.000931</td>\n",
       "    </tr>\n",
       "    <tr>\n",
       "      <th>2</th>\n",
       "      <td>2</td>\n",
       "      <td>0</td>\n",
       "      <td>aluminum</td>\n",
       "      <td>2698.0</td>\n",
       "      <td>225.94</td>\n",
       "      <td>921</td>\n",
       "      <td>2</td>\n",
       "      <td>10000000.0</td>\n",
       "      <td>60</td>\n",
       "      <td>25.020128</td>\n",
       "      <td>...</td>\n",
       "      <td>33.160295</td>\n",
       "      <td>30.857515</td>\n",
       "      <td>28.916887</td>\n",
       "      <td>27.411235</td>\n",
       "      <td>26.346793</td>\n",
       "      <td>25.670735</td>\n",
       "      <td>25.291868</td>\n",
       "      <td>25.108430</td>\n",
       "      <td>25.033556</td>\n",
       "      <td>25.015102</td>\n",
       "    </tr>\n",
       "    <tr>\n",
       "      <th>3</th>\n",
       "      <td>3</td>\n",
       "      <td>0</td>\n",
       "      <td>aluminum</td>\n",
       "      <td>2698.0</td>\n",
       "      <td>225.94</td>\n",
       "      <td>921</td>\n",
       "      <td>3</td>\n",
       "      <td>10000000.0</td>\n",
       "      <td>80</td>\n",
       "      <td>25.020129</td>\n",
       "      <td>...</td>\n",
       "      <td>36.534787</td>\n",
       "      <td>33.967522</td>\n",
       "      <td>31.603345</td>\n",
       "      <td>29.564059</td>\n",
       "      <td>27.927544</td>\n",
       "      <td>26.718577</td>\n",
       "      <td>25.907925</td>\n",
       "      <td>25.423127</td>\n",
       "      <td>25.169929</td>\n",
       "      <td>25.093661</td>\n",
       "    </tr>\n",
       "    <tr>\n",
       "      <th>4</th>\n",
       "      <td>4</td>\n",
       "      <td>0</td>\n",
       "      <td>aluminum</td>\n",
       "      <td>2698.0</td>\n",
       "      <td>225.94</td>\n",
       "      <td>921</td>\n",
       "      <td>4</td>\n",
       "      <td>10000000.0</td>\n",
       "      <td>100</td>\n",
       "      <td>25.020129</td>\n",
       "      <td>...</td>\n",
       "      <td>39.269606</td>\n",
       "      <td>36.654246</td>\n",
       "      <td>34.108892</td>\n",
       "      <td>31.764257</td>\n",
       "      <td>29.728876</td>\n",
       "      <td>28.077059</td>\n",
       "      <td>26.837994</td>\n",
       "      <td>25.991209</td>\n",
       "      <td>25.473160</td>\n",
       "      <td>25.295364</td>\n",
       "    </tr>\n",
       "  </tbody>\n",
       "</table>\n",
       "<p>5 rows × 60 columns</p>\n",
       "</div>"
      ],
      "text/plain": [
       "   Unnamed: 0  materialNumber  material     rho       k   cp  q_id  \\\n",
       "0           0               0  aluminum  2698.0  225.94  921     0   \n",
       "1           1               0  aluminum  2698.0  225.94  921     1   \n",
       "2           2               0  aluminum  2698.0  225.94  921     2   \n",
       "3           3               0  aluminum  2698.0  225.94  921     3   \n",
       "4           4               0  aluminum  2698.0  225.94  921     4   \n",
       "\n",
       "           q0  tau         T0  ...        T41        T42        T43  \\\n",
       "0  10000000.0   20  25.020121  ...  25.859701  25.395992  25.160721   \n",
       "1  10000000.0   40  25.020126  ...  29.235889  27.622515  26.468948   \n",
       "2  10000000.0   60  25.020128  ...  33.160295  30.857515  28.916887   \n",
       "3  10000000.0   80  25.020129  ...  36.534787  33.967522  31.603345   \n",
       "4  10000000.0  100  25.020129  ...  39.269606  36.654246  34.108892   \n",
       "\n",
       "         T44        T45        T46        T47        T48        T49        T50  \n",
       "0  25.057753  25.018837  25.005917  25.001961  25.000733  25.000301  25.000176  \n",
       "1  25.732850  25.320034  25.120172  25.038248  25.010311  25.002442  25.000931  \n",
       "2  27.411235  26.346793  25.670735  25.291868  25.108430  25.033556  25.015102  \n",
       "3  29.564059  27.927544  26.718577  25.907925  25.423127  25.169929  25.093661  \n",
       "4  31.764257  29.728876  28.077059  26.837994  25.991209  25.473160  25.295364  \n",
       "\n",
       "[5 rows x 60 columns]"
      ]
     },
     "execution_count": 3,
     "metadata": {},
     "output_type": "execute_result"
    }
   ],
   "source": [
    "df_data.head()"
   ]
  },
  {
   "cell_type": "code",
   "execution_count": 4,
   "id": "27be7be2-77ba-4c3b-ac59-14dbf3205fde",
   "metadata": {},
   "outputs": [
    {
     "data": {
      "text/html": [
       "<div>\n",
       "<style scoped>\n",
       "    .dataframe tbody tr th:only-of-type {\n",
       "        vertical-align: middle;\n",
       "    }\n",
       "\n",
       "    .dataframe tbody tr th {\n",
       "        vertical-align: top;\n",
       "    }\n",
       "\n",
       "    .dataframe thead th {\n",
       "        text-align: right;\n",
       "    }\n",
       "</style>\n",
       "<table border=\"1\" class=\"dataframe\">\n",
       "  <thead>\n",
       "    <tr style=\"text-align: right;\">\n",
       "      <th></th>\n",
       "      <th>Unnamed: 0</th>\n",
       "      <th>time</th>\n",
       "    </tr>\n",
       "  </thead>\n",
       "  <tbody>\n",
       "    <tr>\n",
       "      <th>0</th>\n",
       "      <td>0</td>\n",
       "      <td>0.010000</td>\n",
       "    </tr>\n",
       "    <tr>\n",
       "      <th>1</th>\n",
       "      <td>1</td>\n",
       "      <td>0.022000</td>\n",
       "    </tr>\n",
       "    <tr>\n",
       "      <th>2</th>\n",
       "      <td>2</td>\n",
       "      <td>0.036400</td>\n",
       "    </tr>\n",
       "    <tr>\n",
       "      <th>3</th>\n",
       "      <td>3</td>\n",
       "      <td>0.053680</td>\n",
       "    </tr>\n",
       "    <tr>\n",
       "      <th>4</th>\n",
       "      <td>4</td>\n",
       "      <td>0.074416</td>\n",
       "    </tr>\n",
       "  </tbody>\n",
       "</table>\n",
       "</div>"
      ],
      "text/plain": [
       "   Unnamed: 0      time\n",
       "0           0  0.010000\n",
       "1           1  0.022000\n",
       "2           2  0.036400\n",
       "3           3  0.053680\n",
       "4           4  0.074416"
      ]
     },
     "execution_count": 4,
     "metadata": {},
     "output_type": "execute_result"
    }
   ],
   "source": [
    "df_time.head()"
   ]
  },
  {
   "cell_type": "code",
   "execution_count": 5,
   "id": "0e7616d3-0b7a-46d3-81c9-b4f1115b89d0",
   "metadata": {},
   "outputs": [],
   "source": [
    "def separate_training_testing(x_data, y_data, train_size):\n",
    "    \"\"\"\n",
    "    Randomly separates the data into train and test.\n",
    "\n",
    "    Parameters:\n",
    "    -----------\n",
    "    x_data: 2D np.array, (# of samples, # of features)\n",
    "        input data\n",
    "    y_data: 2D np.array, (# of samples, # of outputs)\n",
    "        output data\n",
    "    train_size: int\n",
    "        number of training samples\n",
    "\n",
    "    Returns:\n",
    "    --------\n",
    "    x_train: 2D np.array, (# of train. samples, # of features)\n",
    "        input training data\n",
    "    y_train: 2D np.array, (# of train. samples, # of outputs)\n",
    "        output training data\n",
    "    x_test: 2D np.array, (# of samples-train. samples, # of features)\n",
    "        input testing data\n",
    "    y_test: 2D np.array, (# of train. samples, # of outputs)\n",
    "        output testing data\n",
    "    \"\"\"\n",
    "    big_matrix = np.concatenate((x_data, y_data), axis=1)\n",
    "    np.random.seed(0)\n",
    "    np.random.shuffle(big_matrix)\n",
    "\n",
    "    x_train = big_matrix[:train_size, :x_data.shape[1]]\n",
    "    y_train = big_matrix[:train_size, x_data.shape[1]:]\n",
    "    x_test = big_matrix[train_size:, :x_data.shape[1]]\n",
    "    y_test = big_matrix[train_size:, x_data.shape[1]:]\n",
    "\n",
    "    return x_train, y_train, x_test, y_test\n",
    "\n",
    "\n",
    "def convert_to_binary(ydata, Tmelt=650):\n",
    "    \"\"\"\n",
    "    Converts temperature data to binary, where:\n",
    "      1:failure\n",
    "      0:no failure\n",
    "\n",
    "    Parameters:\n",
    "    -----------\n",
    "    ydata: pandas dataframe\n",
    "        max temperature data\n",
    "    Returns:\n",
    "    --------\n",
    "    ydata: pandas dataframe\n",
    "        data converted to binary\n",
    "    \"\"\"\n",
    "    Tmelt = 650\n",
    "    ydata[ydata < Tmelt] = 0\n",
    "    ydata[ydata >= Tmelt] = 1\n",
    "    return ydata\n",
    "\n",
    "\n",
    "def calc_metrics(ytest, yhat):\n",
    "    \"\"\"\n",
    "    Prints metrics of interest: Accuracy and Recall.\n",
    "    \"\"\"\n",
    "    acc = classification_report(ytest, yhat, output_dict=True)['accuracy']\n",
    "    rec = classification_report(ytest, yhat, output_dict=True)['1.0']['recall']  \n",
    "    print(f\"ACC: {acc}, REC: {rec}\")\n",
    "\n",
    "def plot_confusion_matrix(ytest, yhat, figname='cnfm', save=False):\n",
    "    \"\"\"\n",
    "    Plots non-normalized confusion matrix.\n",
    "    \"\"\"\n",
    "    cnf_matrix = confusion_matrix(ytest, yhat, labels=[0, 1])\n",
    "    classes=['0', '1']\n",
    "\n",
    "    np.set_printoptions(precision=2)\n",
    "    plt.figure()\n",
    "    plt.imshow(cnf_matrix, interpolation='nearest', cmap=plt.cm.Blues)\n",
    "    plt.title('Confusion matrix')\n",
    "    plt.colorbar()\n",
    "    tick_marks = np.arange(len(classes))\n",
    "    plt.xticks(tick_marks, classes, rotation=45)\n",
    "    plt.yticks(tick_marks, classes)\n",
    "    fmt = 'd'\n",
    "    thresh = cnf_matrix.max() / 2.\n",
    "    for i, j in itertools.product(range(cnf_matrix.shape[0]), range(cnf_matrix.shape[1])):\n",
    "        plt.text(j, i, format(cnf_matrix[i, j], fmt),\n",
    "                 horizontalalignment=\"center\",\n",
    "                 color=\"white\" if cnf_matrix[i, j] > thresh else \"black\")\n",
    "    plt.tight_layout()\n",
    "    plt.ylabel('True label')\n",
    "    plt.xlabel('Predicted label')\n",
    "    if save:\n",
    "        plt.savefig(figname, dpi=300, bbox_inches=\"tight\", facecolor='white')\n"
   ]
  },
  {
   "cell_type": "code",
   "execution_count": 6,
   "id": "c9ec6ff7-0495-4ac3-8abe-b8642269ccc9",
   "metadata": {},
   "outputs": [
    {
     "data": {
      "text/html": [
       "<div>\n",
       "<style scoped>\n",
       "    .dataframe tbody tr th:only-of-type {\n",
       "        vertical-align: middle;\n",
       "    }\n",
       "\n",
       "    .dataframe tbody tr th {\n",
       "        vertical-align: top;\n",
       "    }\n",
       "\n",
       "    .dataframe thead th {\n",
       "        text-align: right;\n",
       "    }\n",
       "</style>\n",
       "<table border=\"1\" class=\"dataframe\">\n",
       "  <thead>\n",
       "    <tr style=\"text-align: right;\">\n",
       "      <th></th>\n",
       "      <th>rho</th>\n",
       "      <th>k</th>\n",
       "      <th>cp</th>\n",
       "      <th>q0</th>\n",
       "      <th>tau</th>\n",
       "    </tr>\n",
       "  </thead>\n",
       "  <tbody>\n",
       "    <tr>\n",
       "      <th>0</th>\n",
       "      <td>2698.0</td>\n",
       "      <td>225.94</td>\n",
       "      <td>921</td>\n",
       "      <td>10000000.0</td>\n",
       "      <td>20</td>\n",
       "    </tr>\n",
       "    <tr>\n",
       "      <th>1</th>\n",
       "      <td>2698.0</td>\n",
       "      <td>225.94</td>\n",
       "      <td>921</td>\n",
       "      <td>10000000.0</td>\n",
       "      <td>40</td>\n",
       "    </tr>\n",
       "    <tr>\n",
       "      <th>2</th>\n",
       "      <td>2698.0</td>\n",
       "      <td>225.94</td>\n",
       "      <td>921</td>\n",
       "      <td>10000000.0</td>\n",
       "      <td>60</td>\n",
       "    </tr>\n",
       "    <tr>\n",
       "      <th>3</th>\n",
       "      <td>2698.0</td>\n",
       "      <td>225.94</td>\n",
       "      <td>921</td>\n",
       "      <td>10000000.0</td>\n",
       "      <td>80</td>\n",
       "    </tr>\n",
       "    <tr>\n",
       "      <th>4</th>\n",
       "      <td>2698.0</td>\n",
       "      <td>225.94</td>\n",
       "      <td>921</td>\n",
       "      <td>10000000.0</td>\n",
       "      <td>100</td>\n",
       "    </tr>\n",
       "  </tbody>\n",
       "</table>\n",
       "</div>"
      ],
      "text/plain": [
       "      rho       k   cp          q0  tau\n",
       "0  2698.0  225.94  921  10000000.0   20\n",
       "1  2698.0  225.94  921  10000000.0   40\n",
       "2  2698.0  225.94  921  10000000.0   60\n",
       "3  2698.0  225.94  921  10000000.0   80\n",
       "4  2698.0  225.94  921  10000000.0  100"
      ]
     },
     "execution_count": 6,
     "metadata": {},
     "output_type": "execute_result"
    }
   ],
   "source": [
    "xdata = df_data[['rho', 'k', 'cp', 'q0', 'tau']]\n",
    "xdata.head()"
   ]
  },
  {
   "cell_type": "code",
   "execution_count": 8,
   "id": "e24baf1f-3fa3-4523-9995-537854ca9092",
   "metadata": {},
   "outputs": [
    {
     "data": {
      "text/plain": [
       "0    38.817296\n",
       "1    43.363375\n",
       "2    45.943156\n",
       "3    47.646885\n",
       "4    48.954290\n",
       "dtype: float64"
      ]
     },
     "execution_count": 8,
     "metadata": {},
     "output_type": "execute_result"
    }
   ],
   "source": [
    "ydata = df_data[[f'T{i}' for i in range(len(df_time))]]\n",
    "ydata = ydata.max(axis=1)\n",
    "ydata.head()"
   ]
  },
  {
   "cell_type": "code",
   "execution_count": 9,
   "id": "c73fcff0-bc69-4897-8951-6e66edb45de1",
   "metadata": {},
   "outputs": [
    {
     "data": {
      "text/plain": [
       "0    0.0\n",
       "1    0.0\n",
       "2    0.0\n",
       "3    0.0\n",
       "4    0.0\n",
       "dtype: float64"
      ]
     },
     "execution_count": 9,
     "metadata": {},
     "output_type": "execute_result"
    }
   ],
   "source": [
    "ydata_bin = convert_to_binary(ydata, 650)\n",
    "ydata_bin.head()"
   ]
  },
  {
   "cell_type": "code",
   "execution_count": 10,
   "id": "320bd66d-7e30-49ac-a81c-e7967b485ba1",
   "metadata": {},
   "outputs": [
    {
     "data": {
      "text/plain": [
       "2224"
      ]
     },
     "execution_count": 10,
     "metadata": {},
     "output_type": "execute_result"
    }
   ],
   "source": [
    "ydata_bin[ ydata_bin == 1 ].count()"
   ]
  },
  {
   "cell_type": "markdown",
   "id": "22c9ab4f-533f-4e62-a62c-672523d113fd",
   "metadata": {},
   "source": [
    "# Train/Test Machine Learning Models"
   ]
  },
  {
   "cell_type": "code",
   "execution_count": 11,
   "id": "775b91aa-4141-47b0-b194-ed69095a8218",
   "metadata": {},
   "outputs": [],
   "source": [
    "# separate data into train/test\n",
    "train_size = int(len(xdata)*0.8)\n",
    "xtrain, ytrain, xtest, ytest = separate_training_testing(\n",
    "    xdata.to_numpy(), ydata.to_numpy().reshape(-1, 1), train_size)"
   ]
  },
  {
   "cell_type": "code",
   "execution_count": 12,
   "id": "4e758e30-491e-4a28-8234-6639af18b50b",
   "metadata": {},
   "outputs": [],
   "source": [
    "# standardize data\n",
    "xscaler = StandardScaler()\n",
    "norm_xtrain = xscaler.fit_transform(xtrain)\n",
    "norm_xtest = xscaler.transform(xtest)"
   ]
  },
  {
   "cell_type": "code",
   "execution_count": 95,
   "id": "1fa48062-d46d-484f-a735-0401c7ebb34d",
   "metadata": {},
   "outputs": [
    {
     "name": "stdout",
     "output_type": "stream",
     "text": [
      "ACC: 0.9822843822843823, REC: 0.9796839729119639\n"
     ]
    },
    {
     "data": {
      "image/png": "[encoded data removed]",
      "text/plain": [
       "<Figure size 400x300 with 2 Axes>"
      ]
     },
     "metadata": {},
     "output_type": "display_data"
    }
   ],
   "source": [
    "# SVM\n",
    "model = SVC(kernel='rbf')\n",
    "model.fit(norm_xtrain, ytrain[:, 0])\n",
    "\n",
    "yhat = model.predict(norm_xtest)\n",
    "calc_metrics(ytest, yhat)\n",
    "plot_confusion_matrix(ytest, yhat, figname='cnfm', save=False)"
   ]
  },
  {
   "cell_type": "code",
   "execution_count": 98,
   "id": "b7eaac13-3741-4f96-96a5-d220935486a9",
   "metadata": {},
   "outputs": [
    {
     "name": "stdout",
     "output_type": "stream",
     "text": [
      "ACC: 0.9944055944055944, REC: 0.9864559819413092\n"
     ]
    },
    {
     "data": {
      "image/png": "[encoded data removed]",
      "text/plain": [
       "<Figure size 400x300 with 2 Axes>"
      ]
     },
     "metadata": {},
     "output_type": "display_data"
    }
   ],
   "source": [
    "# DT\n",
    "model = DecisionTreeClassifier()\n",
    "model.fit(norm_xtrain, ytrain[:, 0])\n",
    "\n",
    "yhat = model.predict(norm_xtest)\n",
    "calc_metrics(ytest, yhat)\n",
    "plot_confusion_matrix(ytest, yhat, figname='cnfm', save=False)"
   ]
  },
  {
   "cell_type": "code",
   "execution_count": 15,
   "id": "b8059a04-05c0-4b5a-be1d-1a5eba18c8c9",
   "metadata": {},
   "outputs": [
    {
     "name": "stdout",
     "output_type": "stream",
     "text": [
      "ACC: 0.9944055944055944, REC: 0.9864559819413092\n"
     ]
    },
    {
     "data": {
      "image/png": "[encoded data removed]",
      "text/plain": [
       "<Figure size 400x300 with 2 Axes>"
      ]
     },
     "metadata": {},
     "output_type": "display_data"
    }
   ],
   "source": [
    "# RF\n",
    "model = RandomForestClassifier()\n",
    "model.fit(norm_xtrain, ytrain[:, 0])\n",
    "\n",
    "yhat = model.predict(norm_xtest)\n",
    "calc_metrics(ytest, yhat)\n",
    "plot_confusion_matrix(ytest, yhat, figname='cnfm', save=False)"
   ]
  },
  {
   "cell_type": "code",
   "execution_count": 16,
   "id": "4d258580-7265-4c42-9633-f8e3d061a2e0",
   "metadata": {},
   "outputs": [
    {
     "name": "stdout",
     "output_type": "stream",
     "text": [
      "ACC: 0.9678321678321679, REC: 0.9051918735891648\n"
     ]
    },
    {
     "data": {
      "image/png": "[encoded data removed]",
      "text/plain": [
       "<Figure size 400x300 with 2 Axes>"
      ]
     },
     "metadata": {},
     "output_type": "display_data"
    }
   ],
   "source": [
    "# LogReg\n",
    "model = LogisticRegression(solver='liblinear')\n",
    "model.fit(norm_xtrain, ytrain[:, 0])\n",
    "\n",
    "yhat = model.predict(norm_xtest)\n",
    "calc_metrics(ytest, yhat)\n",
    "plot_confusion_matrix(ytest, yhat, figname='cnfm', save=False)"
   ]
  },
  {
   "cell_type": "code",
   "execution_count": 17,
   "id": "3291c1a8-74b6-4ee9-841b-a1297ccdb46b",
   "metadata": {},
   "outputs": [
    {
     "name": "stdout",
     "output_type": "stream",
     "text": [
      "ACC: 0.9902097902097902, REC: 0.9796839729119639\n"
     ]
    },
    {
     "data": {
      "image/png": "[encoded data removed]",
      "text/plain": [
       "<Figure size 400x300 with 2 Axes>"
      ]
     },
     "metadata": {},
     "output_type": "display_data"
    }
   ],
   "source": [
    "# KNN\n",
    "# n_neighbors was optimized grid search based on the recall\n",
    "model = KNeighborsClassifier(n_neighbors=3)\n",
    "model.fit(norm_xtrain, ytrain[:, 0])\n",
    "\n",
    "yhat = model.predict(norm_xtest)\n",
    "calc_metrics(ytest, yhat)\n",
    "plot_confusion_matrix(ytest, yhat, figname='cnfm', save=False)"
   ]
  },
  {
   "cell_type": "code",
   "execution_count": 19,
   "id": "19b328fe-f125-4fda-8870-9eafb6b579f5",
   "metadata": {},
   "outputs": [
    {
     "name": "stderr",
     "output_type": "stream",
     "text": [
      "2024-01-29 10:13:21.060645: I tensorflow/core/platform/cpu_feature_guard.cc:193] This TensorFlow binary is optimized with oneAPI Deep Neural Network Library (oneDNN) to use the following CPU instructions in performance-critical operations:  SSE4.1 SSE4.2 AVX AVX2 FMA\n",
      "To enable them in other operations, rebuild TensorFlow with the appropriate compiler flags.\n"
     ]
    },
    {
     "name": "stdout",
     "output_type": "stream",
     "text": [
      "68/68 [==============================] - 0s 1ms/step\n",
      "ACC: 0.9948717948717949, REC: 1.0\n"
     ]
    },
    {
     "data": {
      "image/png": "[encoded data removed]",
      "text/plain": [
       "<Figure size 400x300 with 2 Axes>"
      ]
     },
     "metadata": {},
     "output_type": "display_data"
    }
   ],
   "source": [
    "# FNN\n",
    "# the following parameters were optimized using bayesian optimization based on the accuracy\n",
    "n_layer_1, n_layer_2, batch_size = 38, 135, 36\n",
    "\n",
    "model = Sequential()\n",
    "model.add(Dense(n_layer_1, activation='relu', input_dim = norm_xtrain.shape[1]))\n",
    "model.add(Dense(n_layer_2, activation='relu'))\n",
    "model.add(Dense(1, activation='sigmoid'))\n",
    "\n",
    "model.compile(optimizer='adam', loss='binary_crossentropy', metrics=['accuracy'])\n",
    "model.fit(norm_xtrain, ytrain, epochs=60, batch_size=batch_size, validation_split=0.15, verbose=False)\n",
    "\n",
    "yhat = model.predict(norm_xtest)\n",
    "yhat[yhat >= 0.5] = 1\n",
    "yhat[yhat < 0.5] = 0\n",
    "calc_metrics(ytest, yhat)\n",
    "plot_confusion_matrix(ytest, yhat, figname='cnfm', save=False)"
   ]
  },
  {
   "cell_type": "code",
   "execution_count": null,
   "id": "5b94bbdc-1d42-4762-be1b-d8293a29f911",
   "metadata": {},
   "outputs": [],
   "source": []
  }
 ],
 "metadata": {
  "kernelspec": {
   "display_name": "Python 3 (ipykernel)",
   "language": "python",
   "name": "python3"
  },
  "language_info": {
   "codemirror_mode": {
    "name": "ipython",
    "version": 3
   },
   "file_extension": ".py",
   "mimetype": "text/x-python",
   "name": "python",
   "nbconvert_exporter": "python",
   "pygments_lexer": "ipython3",
   "version": "3.9.18"
  }
 },
 "nbformat": 4,
 "nbformat_minor": 5
}
